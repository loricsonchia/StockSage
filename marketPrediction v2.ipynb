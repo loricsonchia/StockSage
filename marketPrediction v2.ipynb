{
 "cells": [
  {
   "cell_type": "code",
   "execution_count": 1,
   "id": "f3ab6074-3f3d-438f-bb25-2227db558d69",
   "metadata": {},
   "outputs": [],
   "source": [
    "import pandas as pd\n",
    "import matplotlib.pyplot as plt\n",
    "import numpy as np\n",
    "from sklearn.preprocessing import MinMaxScaler\n",
    "from tensorflow.keras.models import Sequential\n",
    "from tensorflow.keras.layers import Dense\n",
    "from tensorflow.keras.layers import LSTM\n",
    "from tensorflow.keras.callbacks import EarlyStopping, ModelCheckpoint\n",
    "import math\n",
    "from sklearn.metrics import mean_squared_error\n",
    "from numpy import array"
   ]
  },
  {
   "cell_type": "code",
   "execution_count": 2,
   "id": "b1a7e62c-7278-4f36-8537-143e4f949b3b",
   "metadata": {},
   "outputs": [],
   "source": [
    "df=pd.read_csv('yahooScrapping/MSFT.csv')"
   ]
  },
  {
   "cell_type": "code",
   "execution_count": 3,
   "id": "2ea2fe04-8963-4662-9faa-cc7c664b0b72",
   "metadata": {},
   "outputs": [
    {
     "data": {
      "text/html": [
       "<div>\n",
       "<style scoped>\n",
       "    .dataframe tbody tr th:only-of-type {\n",
       "        vertical-align: middle;\n",
       "    }\n",
       "\n",
       "    .dataframe tbody tr th {\n",
       "        vertical-align: top;\n",
       "    }\n",
       "\n",
       "    .dataframe thead th {\n",
       "        text-align: right;\n",
       "    }\n",
       "</style>\n",
       "<table border=\"1\" class=\"dataframe\">\n",
       "  <thead>\n",
       "    <tr style=\"text-align: right;\">\n",
       "      <th></th>\n",
       "      <th>Date</th>\n",
       "      <th>Open</th>\n",
       "      <th>High</th>\n",
       "      <th>Low</th>\n",
       "      <th>Close</th>\n",
       "      <th>Adj Close</th>\n",
       "      <th>Volume</th>\n",
       "    </tr>\n",
       "  </thead>\n",
       "  <tbody>\n",
       "    <tr>\n",
       "      <th>0</th>\n",
       "      <td>2000-01-03</td>\n",
       "      <td>58.68750</td>\n",
       "      <td>59.3125</td>\n",
       "      <td>56.00000</td>\n",
       "      <td>58.28125</td>\n",
       "      <td>36.065586</td>\n",
       "      <td>53228400</td>\n",
       "    </tr>\n",
       "    <tr>\n",
       "      <th>1</th>\n",
       "      <td>2000-01-04</td>\n",
       "      <td>56.78125</td>\n",
       "      <td>58.5625</td>\n",
       "      <td>56.12500</td>\n",
       "      <td>56.31250</td>\n",
       "      <td>34.847267</td>\n",
       "      <td>54119000</td>\n",
       "    </tr>\n",
       "    <tr>\n",
       "      <th>2</th>\n",
       "      <td>2000-01-05</td>\n",
       "      <td>55.56250</td>\n",
       "      <td>58.1875</td>\n",
       "      <td>54.68750</td>\n",
       "      <td>56.90625</td>\n",
       "      <td>35.214695</td>\n",
       "      <td>64059600</td>\n",
       "    </tr>\n",
       "    <tr>\n",
       "      <th>3</th>\n",
       "      <td>2000-01-06</td>\n",
       "      <td>56.09375</td>\n",
       "      <td>56.9375</td>\n",
       "      <td>54.18750</td>\n",
       "      <td>55.00000</td>\n",
       "      <td>34.035069</td>\n",
       "      <td>54976600</td>\n",
       "    </tr>\n",
       "    <tr>\n",
       "      <th>4</th>\n",
       "      <td>2000-01-07</td>\n",
       "      <td>54.31250</td>\n",
       "      <td>56.1250</td>\n",
       "      <td>53.65625</td>\n",
       "      <td>55.71875</td>\n",
       "      <td>34.479828</td>\n",
       "      <td>62013600</td>\n",
       "    </tr>\n",
       "  </tbody>\n",
       "</table>\n",
       "</div>"
      ],
      "text/plain": [
       "         Date      Open     High       Low     Close  Adj Close    Volume\n",
       "0  2000-01-03  58.68750  59.3125  56.00000  58.28125  36.065586  53228400\n",
       "1  2000-01-04  56.78125  58.5625  56.12500  56.31250  34.847267  54119000\n",
       "2  2000-01-05  55.56250  58.1875  54.68750  56.90625  35.214695  64059600\n",
       "3  2000-01-06  56.09375  56.9375  54.18750  55.00000  34.035069  54976600\n",
       "4  2000-01-07  54.31250  56.1250  53.65625  55.71875  34.479828  62013600"
      ]
     },
     "execution_count": 3,
     "metadata": {},
     "output_type": "execute_result"
    }
   ],
   "source": [
    "df.head()"
   ]
  },
  {
   "cell_type": "code",
   "execution_count": 4,
   "id": "70e45661-be1e-4333-b23f-1e7a0ab0b79c",
   "metadata": {},
   "outputs": [],
   "source": [
    "df2=df.reset_index()['Close']"
   ]
  },
  {
   "cell_type": "code",
   "execution_count": 5,
   "id": "7f991635-e354-4678-bf5d-a91ef6827761",
   "metadata": {},
   "outputs": [
    {
     "data": {
      "text/plain": [
       "0        58.281250\n",
       "1        56.312500\n",
       "2        56.906250\n",
       "3        55.000000\n",
       "4        55.718750\n",
       "           ...    \n",
       "6114    407.570007\n",
       "6115    409.059998\n",
       "6116    399.040009\n",
       "6117    406.320007\n",
       "6118    402.250000\n",
       "Name: Close, Length: 6119, dtype: float64"
      ]
     },
     "execution_count": 5,
     "metadata": {},
     "output_type": "execute_result"
    }
   ],
   "source": [
    "df2"
   ]
  },
  {
   "cell_type": "code",
   "execution_count": 6,
   "id": "3088e6e8-0a4f-4a41-8812-6e91b2d729df",
   "metadata": {},
   "outputs": [
    {
     "data": {
      "text/plain": [
       "(6119,)"
      ]
     },
     "execution_count": 6,
     "metadata": {},
     "output_type": "execute_result"
    }
   ],
   "source": [
    "df2.shape"
   ]
  },
  {
   "cell_type": "code",
   "execution_count": 7,
   "id": "f03f34d9-032e-4c9d-acfd-48235ab3e8a1",
   "metadata": {},
   "outputs": [
    {
     "data": {
      "text/plain": [
       "[<matplotlib.lines.Line2D at 0x29f631f3c40>]"
      ]
     },
     "execution_count": 7,
     "metadata": {},
     "output_type": "execute_result"
    },
    {
     "data": {
      "image/png": "[encoded data removed]",
      "text/plain": [
       "<Figure size 640x480 with 1 Axes>"
      ]
     },
     "metadata": {},
     "output_type": "display_data"
    }
   ],
   "source": [
    "plt.plot(df2)"
   ]
  },
  {
   "cell_type": "markdown",
   "id": "2bfe7bb4-05b8-42a2-bc2f-94a54bd46c18",
   "metadata": {},
   "source": [
    "## Feature Engineering: Scaling Feature down to 0 and 1"
   ]
  },
  {
   "cell_type": "code",
   "execution_count": 8,
   "id": "57d27f5e-7bab-40dd-a4c7-9a0d7bd50645",
   "metadata": {},
   "outputs": [],
   "source": [
    "scaler=MinMaxScaler(feature_range=(0,1))\n",
    "df2=scaler.fit_transform(np.array(df2).reshape(-1,1))"
   ]
  },
  {
   "cell_type": "code",
   "execution_count": 9,
   "id": "194707cf-6d36-4eb0-9a0c-42c2d348b580",
   "metadata": {},
   "outputs": [
    {
     "data": {
      "text/plain": [
       "array([[0.10412643],\n",
       "       [0.09937352],\n",
       "       [0.10080694],\n",
       "       ...,\n",
       "       [0.92677807],\n",
       "       [0.94435327],\n",
       "       [0.93452756]])"
      ]
     },
     "execution_count": 9,
     "metadata": {},
     "output_type": "execute_result"
    }
   ],
   "source": [
    "df2"
   ]
  },
  {
   "cell_type": "code",
   "execution_count": 10,
   "id": "e5f0be7c-8a15-41d4-bf00-403dbbfe32b5",
   "metadata": {},
   "outputs": [
    {
     "name": "stdout",
     "output_type": "stream",
     "text": [
      "[[0.10412643]\n",
      " [0.09937352]\n",
      " [0.10080694]\n",
      " ...\n",
      " [0.92677807]\n",
      " [0.94435327]\n",
      " [0.93452756]]\n"
     ]
    }
   ],
   "source": [
    "print(df2)"
   ]
  },
  {
   "cell_type": "markdown",
   "id": "a2a6e8f4-8bf0-43b6-9440-1bf11d12fc41",
   "metadata": {},
   "source": [
    "## Train Test Split"
   ]
  },
  {
   "cell_type": "markdown",
   "id": "77de02ad-0bbd-4e38-ba71-d56b585cfbdf",
   "metadata": {},
   "source": [
    "#### Time series data split -> Train = 120, 130, 125, 140   Test = 154, 195, 154"
   ]
  },
  {
   "cell_type": "code",
   "execution_count": 11,
   "id": "7a94c516-f4e6-4d96-b59b-777c71a5ff86",
   "metadata": {},
   "outputs": [],
   "source": [
    "training_size=int(len(df2)*0.65)\n",
    "test_size=len(df2)-training_size\n",
    "train_data, test_data=df2[0:training_size,:], df2[training_size:len(df2),:1]"
   ]
  },
  {
   "cell_type": "code",
   "execution_count": 12,
   "id": "fb125fca-0c0d-4466-82b4-8d3bdde0ece1",
   "metadata": {},
   "outputs": [],
   "source": [
    "def create_dataset(dataset, time_step=1):\n",
    "    dataX, dataY = [], []\n",
    "    for i in range(len(dataset)-time_step-1):\n",
    "        a = dataset[i:(i+time_step), 0]\n",
    "        dataX.append(a)\n",
    "        dataY.append(dataset[i+time_step, 0])\n",
    "    return np.array(dataX), np.array(dataY)"
   ]
  },
  {
   "cell_type": "code",
   "execution_count": 13,
   "id": "b3b32455-8f46-4888-95e8-42f481469452",
   "metadata": {},
   "outputs": [
    {
     "data": {
      "text/plain": [
       "(3977, 2142)"
      ]
     },
     "execution_count": 13,
     "metadata": {},
     "output_type": "execute_result"
    }
   ],
   "source": [
    "training_size, test_size"
   ]
  },
  {
   "cell_type": "code",
   "execution_count": 14,
   "id": "9b4ee1ef-2348-4c88-b621-709ecb6c10f4",
   "metadata": {},
   "outputs": [],
   "source": [
    "time_step=100\n",
    "X_train, y_train = create_dataset(train_data, time_step)\n",
    "X_test, y_test = create_dataset(test_data, time_step)"
   ]
  },
  {
   "cell_type": "markdown",
   "id": "03b7a2db-d9f6-43d0-bed5-023afbbb0b57",
   "metadata": {},
   "source": [
    "#### Reshaping dataset to fit LSTM"
   ]
  },
  {
   "cell_type": "code",
   "execution_count": 15,
   "id": "d065a404-a508-45cc-a8f2-e8f41f2ff188",
   "metadata": {},
   "outputs": [],
   "source": [
    "X_train = X_train.reshape(X_train.shape[0], X_train.shape[1], 1)\n",
    "X_test = X_test.reshape(X_test.shape[0], X_test.shape[1], 1)"
   ]
  },
  {
   "cell_type": "markdown",
   "id": "5c047288-47b0-4e29-8c66-494d4d5f1699",
   "metadata": {},
   "source": [
    "## Creating LSTM Model"
   ]
  },
  {
   "cell_type": "code",
   "execution_count": 16,
   "id": "5ec088a3-fc35-49dd-98bc-e49fec4e49c7",
   "metadata": {},
   "outputs": [],
   "source": [
    "model = Sequential()\n",
    "model.add(LSTM(50, return_sequences=True, input_shape=(100,1)))\n",
    "model.add(LSTM(50, return_sequences=True))\n",
    "model.add(LSTM(50))\n",
    "model.add(Dense(1))\n",
    "model.compile(loss='mean_squared_error', optimizer='adam')"
   ]
  },
  {
   "cell_type": "code",
   "execution_count": 17,
   "id": "01f767ef-6e94-4f68-96b8-22d7409b4a5e",
   "metadata": {},
   "outputs": [
    {
     "name": "stdout",
     "output_type": "stream",
     "text": [
      "Model: \"sequential\"\n",
      "_________________________________________________________________\n",
      " Layer (type)                Output Shape              Param #   \n",
      "=================================================================\n",
      " lstm (LSTM)                 (None, 100, 50)           10400     \n",
      "                                                                 \n",
      " lstm_1 (LSTM)               (None, 100, 50)           20200     \n",
      "                                                                 \n",
      " lstm_2 (LSTM)               (None, 50)                20200     \n",
      "                                                                 \n",
      " dense (Dense)               (None, 1)                 51        \n",
      "                                                                 \n",
      "=================================================================\n",
      "Total params: 50,851\n",
      "Trainable params: 50,851\n",
      "Non-trainable params: 0\n",
      "_________________________________________________________________\n"
     ]
    }
   ],
   "source": [
    "model.summary()"
   ]
  },
  {
   "cell_type": "code",
   "execution_count": 18,
   "id": "f72873ef-5432-4d36-908c-0effc837ce06",
   "metadata": {},
   "outputs": [
    {
     "name": "stdout",
     "output_type": "stream",
     "text": [
      "Epoch 1/15\n",
      "61/61 [==============================] - ETA: 0s - loss: 1.5269e-04WARNING:tensorflow:Can save best model only with val_accuracy available, skipping.\n",
      "61/61 [==============================] - 156s 2s/step - loss: 1.5269e-04 - val_loss: 0.0085\n",
      "Epoch 2/15\n",
      "61/61 [==============================] - ETA: 0s - loss: 1.3601e-05WARNING:tensorflow:Can save best model only with val_accuracy available, skipping.\n",
      "61/61 [==============================] - 5s 87ms/step - loss: 1.3601e-05 - val_loss: 0.0035\n",
      "Epoch 3/15\n",
      "60/61 [============================>.] - ETA: 0s - loss: 1.2258e-05WARNING:tensorflow:Can save best model only with val_accuracy available, skipping.\n",
      "61/61 [==============================] - 6s 107ms/step - loss: 1.2279e-05 - val_loss: 0.0016\n",
      "Epoch 4/15\n",
      "61/61 [==============================] - ETA: 0s - loss: 1.2213e-05WARNING:tensorflow:Can save best model only with val_accuracy available, skipping.\n",
      "61/61 [==============================] - 5s 84ms/step - loss: 1.2213e-05 - val_loss: 0.0015\n",
      "Epoch 5/15\n",
      "61/61 [==============================] - ETA: 0s - loss: 1.1249e-05WARNING:tensorflow:Can save best model only with val_accuracy available, skipping.\n",
      "61/61 [==============================] - 5s 90ms/step - loss: 1.1249e-05 - val_loss: 7.3090e-04\n",
      "Epoch 6/15\n",
      "61/61 [==============================] - ETA: 0s - loss: 9.8693e-06WARNING:tensorflow:Can save best model only with val_accuracy available, skipping.\n",
      "61/61 [==============================] - 5s 88ms/step - loss: 9.8693e-06 - val_loss: 5.3214e-04\n",
      "Epoch 7/15\n",
      "61/61 [==============================] - ETA: 0s - loss: 1.0294e-05WARNING:tensorflow:Can save best model only with val_accuracy available, skipping.\n",
      "61/61 [==============================] - 5s 87ms/step - loss: 1.0294e-05 - val_loss: 4.3925e-04\n",
      "Epoch 8/15\n",
      "61/61 [==============================] - ETA: 0s - loss: 8.7581e-06WARNING:tensorflow:Can save best model only with val_accuracy available, skipping.\n",
      "61/61 [==============================] - 5s 88ms/step - loss: 8.7581e-06 - val_loss: 3.2605e-04\n",
      "Epoch 9/15\n",
      "61/61 [==============================] - ETA: 0s - loss: 9.2109e-06WARNING:tensorflow:Can save best model only with val_accuracy available, skipping.\n",
      "61/61 [==============================] - 5s 85ms/step - loss: 9.2109e-06 - val_loss: 3.4304e-04\n",
      "Epoch 10/15\n",
      "61/61 [==============================] - ETA: 0s - loss: 8.3148e-06WARNING:tensorflow:Can save best model only with val_accuracy available, skipping.\n",
      "61/61 [==============================] - 5s 89ms/step - loss: 8.3148e-06 - val_loss: 3.2937e-04\n",
      "Epoch 11/15\n",
      "61/61 [==============================] - ETA: 0s - loss: 7.1932e-06WARNING:tensorflow:Can save best model only with val_accuracy available, skipping.\n",
      "61/61 [==============================] - 6s 95ms/step - loss: 7.1932e-06 - val_loss: 3.0782e-04\n",
      "Epoch 12/15\n",
      "61/61 [==============================] - ETA: 0s - loss: 8.5394e-06WARNING:tensorflow:Can save best model only with val_accuracy available, skipping.\n",
      "61/61 [==============================] - 6s 91ms/step - loss: 8.5394e-06 - val_loss: 4.6323e-04\n",
      "Epoch 13/15\n",
      "61/61 [==============================] - ETA: 0s - loss: 6.8327e-06WARNING:tensorflow:Can save best model only with val_accuracy available, skipping.\n",
      "61/61 [==============================] - 5s 87ms/step - loss: 6.8327e-06 - val_loss: 6.1611e-04\n",
      "Epoch 14/15\n",
      "61/61 [==============================] - ETA: 0s - loss: 7.0752e-06WARNING:tensorflow:Can save best model only with val_accuracy available, skipping.\n",
      "61/61 [==============================] - 5s 87ms/step - loss: 7.0752e-06 - val_loss: 3.1340e-04\n"
     ]
    },
    {
     "data": {
      "text/plain": [
       "<keras.callbacks.History at 0x29f145ddca0>"
      ]
     },
     "execution_count": 18,
     "metadata": {},
     "output_type": "execute_result"
    }
   ],
   "source": [
    "# keras.callbacks.ModelCheckpoint\n",
    "# keras.callbacks.EarlyStopping\n",
    "# keras.callbacks.LearningRateScheduler\n",
    "# keras.callbacks.ReduceLROnPlateau\n",
    "# keras.callbacks.CSVLogger\n",
    "\n",
    "\n",
    "#model.fit(X_train, y_train, validation_data=(X_test, y_test), epochs=20, batch_size=64,verbose=1)\n",
    "\n",
    "callbacks_list = [\n",
    "    EarlyStopping(\n",
    "        monitor=\"val_loss\",\n",
    "        patience=3,\n",
    "    ),\n",
    "    ModelCheckpoint(\n",
    "        filepath=\"checkpoint_path.keras\",\n",
    "        monitor=\"val_accuracy\",\n",
    "        save_best_only=True,\n",
    "    )\n",
    "]\n",
    "\n",
    "model.fit(X_train, y_train, callbacks=callbacks_list, validation_data=(X_test, y_test), epochs=15, batch_size=64,verbose=1)"
   ]
  },
  {
   "cell_type": "markdown",
   "id": "6fba1cd2-2a68-4d90-b0a8-4ff67866d70a",
   "metadata": {},
   "source": [
    "## Prediction"
   ]
  },
  {
   "cell_type": "code",
   "execution_count": 19,
   "id": "414f5b51-cc1d-4b25-a355-a8a26ef79393",
   "metadata": {},
   "outputs": [
    {
     "name": "stdout",
     "output_type": "stream",
     "text": [
      "122/122 [==============================] - 5s 29ms/step\n",
      "64/64 [==============================] - 2s 31ms/step\n"
     ]
    }
   ],
   "source": [
    "train_predict = model.predict(X_train)\n",
    "test_predict = model.predict(X_test)"
   ]
  },
  {
   "cell_type": "markdown",
   "id": "215bc884-fa91-4d8a-963e-3d2a249d20a7",
   "metadata": {},
   "source": [
    "#### transform back to original data form"
   ]
  },
  {
   "cell_type": "code",
   "execution_count": 20,
   "id": "2b27beb4-61ce-4338-853b-3bf99c5f05d2",
   "metadata": {},
   "outputs": [],
   "source": [
    "train_predict=scaler.inverse_transform(train_predict)\n",
    "test_predict=scaler.inverse_transform(test_predict)"
   ]
  },
  {
   "cell_type": "code",
   "execution_count": 21,
   "id": "7cffbbe5-7142-498a-9a15-986e009d6219",
   "metadata": {},
   "outputs": [
    {
     "data": {
      "text/plain": [
       "30.194516171104134"
      ]
     },
     "execution_count": 21,
     "metadata": {},
     "output_type": "execute_result"
    }
   ],
   "source": [
    "math.sqrt(mean_squared_error(y_train, train_predict))"
   ]
  },
  {
   "cell_type": "markdown",
   "id": "49fbb1ca-52a8-44ca-9a0c-bdcaa3b16fa0",
   "metadata": {},
   "source": [
    "#### Test Data RMSE"
   ]
  },
  {
   "cell_type": "code",
   "execution_count": 22,
   "id": "bd93ced2-e852-47e4-88cf-44cd46f7d479",
   "metadata": {},
   "outputs": [
    {
     "data": {
      "text/plain": [
       "218.0106336646343"
      ]
     },
     "execution_count": 22,
     "metadata": {},
     "output_type": "execute_result"
    }
   ],
   "source": [
    "math.sqrt(mean_squared_error(y_test, test_predict))"
   ]
  },
  {
   "cell_type": "markdown",
   "id": "1c4f775d-6de3-4e70-b7a3-71cf7bfc67c9",
   "metadata": {},
   "source": [
    "### Plotting Predictions"
   ]
  },
  {
   "cell_type": "code",
   "execution_count": 23,
   "id": "ac2f6030-b45d-4f38-a2a6-a2b457227c7f",
   "metadata": {},
   "outputs": [
    {
     "data": {
      "image/png": "[encoded data removed]",
      "text/plain": [
       "<Figure size 640x480 with 1 Axes>"
      ]
     },
     "metadata": {},
     "output_type": "display_data"
    }
   ],
   "source": [
    "look_back=100\n",
    "trainPredictPlot=np.empty_like(df2)\n",
    "trainPredictPlot[:,:] = np.nan\n",
    "trainPredictPlot[look_back:len(train_predict)+look_back, :] = train_predict\n",
    "\n",
    "#shift test prediction for plotting\n",
    "testPredictPlot = np.empty_like(df2)\n",
    "testPredictPlot[:, :] = np.nan\n",
    "testPredictPlot[len(train_predict)+(look_back*2)+1:len(df2)-1, :] = test_predict\n",
    "\n",
    "#plot baseline and predictions\n",
    "plt.plot(scaler.inverse_transform(df2), color='black')\n",
    "plt.plot(trainPredictPlot, color='orange')\n",
    "plt.plot(testPredictPlot, color='green')\n",
    "plt.show()"
   ]
  },
  {
   "cell_type": "markdown",
   "id": "2317840e-1bc4-45b2-9d0c-87191f510958",
   "metadata": {},
   "source": [
    "## Prediction for the next 30 days"
   ]
  },
  {
   "cell_type": "code",
   "execution_count": 24,
   "id": "8469fb46-7725-4325-9281-042eefea259f",
   "metadata": {},
   "outputs": [
    {
     "data": {
      "text/plain": [
       "(1, 1801)"
      ]
     },
     "execution_count": 24,
     "metadata": {},
     "output_type": "execute_result"
    }
   ],
   "source": [
    "x_input=test_data[341:].reshape(1,-1)\n",
    "x_input.shape"
   ]
  },
  {
   "cell_type": "code",
   "execution_count": 25,
   "id": "673e00b8-ca9b-474c-ac5b-644676954c99",
   "metadata": {},
   "outputs": [],
   "source": [
    "temp_input=list(x_input)\n",
    "temp_input=temp_input[0].tolist()"
   ]
  },
  {
   "cell_type": "code",
   "execution_count": 26,
   "id": "b421cb0d-5e2e-4a09-a6ad-f74f966133eb",
   "metadata": {},
   "outputs": [
    {
     "name": "stdout",
     "output_type": "stream",
     "text": [
      "0 day input [0.11858432 0.11889818 0.12032253 ... 0.92677807 0.94435327 0.93452756]\n",
      "0 day output [[0.95374125]]\n",
      "1 day input [0.11889818 0.12032253 0.11969486 ... 0.94435327 0.93452756 0.95374125]\n",
      "1 day output [[0.95184946]]\n",
      "2 day input [0.12032253 0.11969486 0.12017769 ... 0.93452756 0.95374125 0.95184946]\n",
      "2 day output [[0.95127183]]\n",
      "3 day input [0.11969486 0.12017769 0.11964656 ... 0.95374125 0.95184946 0.95127183]\n",
      "3 day output [[0.95178354]]\n",
      "4 day input [0.12017769 0.11964656 0.11892232 ... 0.95184946 0.95127183 0.95178354]\n",
      "4 day output [[0.9531013]]\n",
      "5 day input [0.11964656 0.11892232 0.11974313 ... 0.95127183 0.95178354 0.95310128]\n",
      "5 day output [[0.9549653]]\n",
      "6 day input [0.11892232 0.11974313 0.11947757 ... 0.95178354 0.95310128 0.95496529]\n",
      "6 day output [[0.95717186]]\n",
      "7 day input [0.11974313 0.11947757 0.12003284 ... 0.95310128 0.95496529 0.95717186]\n",
      "7 day output [[0.9595766]]\n",
      "8 day input [0.11947757 0.12003284 0.12017769 ... 0.95496529 0.95717186 0.95957661]\n",
      "8 day output [[0.962085]]\n",
      "9 day input [0.12003284 0.12017769 0.11843948 ... 0.95717186 0.95957661 0.96208501]\n",
      "9 day output [[0.9646393]]\n",
      "10 day input [0.12017769 0.11843948 0.1204191  ... 0.95957661 0.96208501 0.96463931]\n",
      "10 day output [[0.96720606]]\n",
      "11 day input [0.11843948 0.1204191  0.12003284 ... 0.96208501 0.96463931 0.96720606]\n",
      "11 day output [[0.9697668]]\n",
      "12 day input [0.1204191  0.12003284 0.1202984  ... 0.96463931 0.96720606 0.9697668 ]\n",
      "12 day output [[0.97231096]]\n",
      "13 day input [0.12003284 0.1202984  0.12058809 ... 0.96720606 0.9697668  0.97231096]\n",
      "13 day output [[0.9748325]]\n",
      "14 day input [0.1202984  0.12058809 0.12104679 ... 0.9697668  0.97231096 0.97483248]\n",
      "14 day output [[0.977327]]\n",
      "15 day input [0.12058809 0.12104679 0.12148134 ... 0.97231096 0.97483248 0.97732699]\n",
      "15 day output [[0.97979075]]\n",
      "16 day input [0.12104679 0.12148134 0.12206074 ... 0.97483248 0.97732699 0.97979075]\n",
      "16 day output [[0.98222077]]\n",
      "17 day input [0.12148134 0.12206074 0.12242287 ... 0.97732699 0.97979075 0.98222077]\n",
      "17 day output [[0.9846141]]\n",
      "18 day input [0.12206074 0.12242287 0.12167448 ... 0.97979075 0.98222077 0.98461407]\n",
      "18 day output [[0.9869682]]\n",
      "19 day input [0.12242287 0.12167448 0.12210903 ... 0.98222077 0.98461407 0.98696822]\n",
      "19 day output [[0.98928124]]\n",
      "20 day input [0.12167448 0.12210903 0.12169861 ... 0.98461407 0.98696822 0.98928124]\n",
      "20 day output [[0.9915515]]\n",
      "21 day input [0.12210903 0.12169861 0.12210903 ... 0.98696822 0.98928124 0.99155152]\n",
      "21 day output [[0.9937781]]\n",
      "22 day input [0.12169861 0.12210903 0.12198832 ... 0.98928124 0.99155152 0.99377811]\n",
      "22 day output [[0.9959603]]\n",
      "23 day input [0.12210903 0.12198832 0.12162619 ... 0.99155152 0.99377811 0.9959603 ]\n",
      "23 day output [[0.9980981]]\n",
      "24 day input [0.12198832 0.12162619 0.12150549 ... 0.99377811 0.9959603  0.99809808]\n",
      "24 day output [[1.0001917]]\n",
      "25 day input [0.12162619 0.12150549 0.12090195 ... 0.9959603  0.99809808 1.00019169]\n",
      "25 day output [[1.0022416]]\n",
      "26 day input [0.12150549 0.12090195 0.12022596 ... 0.99809808 1.00019169 1.00224161]\n",
      "26 day output [[1.0042486]]\n",
      "27 day input [0.12090195 0.12022596 0.12150549 ... 1.00019169 1.00224161 1.00424862]\n",
      "27 day output [[1.0062134]]\n",
      "28 day input [0.12022596 0.12150549 0.12128821 ... 1.00224161 1.00424862 1.00621343]\n",
      "28 day output [[1.0081372]]\n",
      "29 day input [0.12150549 0.12128821 0.12044325 ... 1.00424862 1.00621343 1.00813723]\n",
      "29 day output [[1.0100212]]\n",
      "[[0.9537412524223328], [0.9518494606018066], [0.9512718319892883], [0.9517835378646851], [0.9531012773513794], [0.9549652934074402], [0.9571718573570251], [0.9595766067504883], [0.9620850086212158], [0.9646393060684204], [0.9672060608863831], [0.9697667956352234], [0.9723109602928162], [0.9748324751853943], [0.9773269891738892], [0.9797907471656799], [0.9822207689285278], [0.9846140742301941], [0.9869682192802429], [0.9892812371253967], [0.9915515184402466], [0.9937781095504761], [0.9959602952003479], [0.9980980753898621], [1.0001916885375977], [1.002241611480713], [1.0042486190795898], [1.0062134265899658], [1.0081372261047363], [1.0100212097167969]]\n"
     ]
    }
   ],
   "source": [
    "lst_output=[]\n",
    "n_steps=1800\n",
    "i=0\n",
    "while(i<30):\n",
    "    \n",
    "    if(len(temp_input)>1800):\n",
    "        #print(temp_input)\n",
    "        x_input=np.array(temp_input[1:])\n",
    "        print(\"{} day input {}\".format(i,x_input))\n",
    "        x_input=x_input.reshape(1,-1)\n",
    "        x_input = x_input.reshape((1, n_steps, 1))\n",
    "        #print(x_input)\n",
    "        yhat = model.predict(x_input, verbose=0)\n",
    "        print(\"{} day output {}\".format(i,yhat))\n",
    "        temp_input.extend(yhat[0].tolist())\n",
    "        temp_input=temp_input[1:]\n",
    "        #print(temp_input)\n",
    "        lst_output.extend(yhat.tolist())\n",
    "        i=i+1\n",
    "    else:\n",
    "        x_input = x_input.reshape((1, n_steps,1))\n",
    "        yhat = model.predict(x_input, verbose=0)\n",
    "        print(yhat[0])\n",
    "        temp_input.extend(yhat[0].tolist())\n",
    "        print(len(temp_input))\n",
    "        lst_output.extend(yhat.tolist())\n",
    "        i=i+1\n",
    "    \n",
    "\n",
    "print(lst_output)"
   ]
  },
  {
   "cell_type": "code",
   "execution_count": 27,
   "id": "1ec05034-718a-4ba0-bb52-552a78a6132a",
   "metadata": {},
   "outputs": [],
   "source": [
    "day_new=np.arange(1,101)\n",
    "day_pred=np.arange(101,131)"
   ]
  },
  {
   "cell_type": "code",
   "execution_count": 28,
   "id": "7b4bd7ae-63ba-4308-beea-c9564b77a002",
   "metadata": {},
   "outputs": [
    {
     "data": {
      "text/plain": [
       "6119"
      ]
     },
     "execution_count": 28,
     "metadata": {},
     "output_type": "execute_result"
    }
   ],
   "source": [
    "len(df2)"
   ]
  },
  {
   "cell_type": "code",
   "execution_count": 29,
   "id": "85ece3e5-5ab0-412c-84fa-e2a4e2f6358e",
   "metadata": {},
   "outputs": [
    {
     "data": {
      "text/plain": [
       "[<matplotlib.lines.Line2D at 0x29f145dd160>]"
      ]
     },
     "execution_count": 29,
     "metadata": {},
     "output_type": "execute_result"
    },
    {
     "data": {
      "image/png": "[encoded data removed]",
      "text/plain": [
       "<Figure size 640x480 with 1 Axes>"
      ]
     },
     "metadata": {},
     "output_type": "display_data"
    }
   ],
   "source": [
    "plt.plot(day_new,scaler.inverse_transform(df2[6019:]))\n",
    "plt.plot(day_pred,scaler.inverse_transform(lst_output))"
   ]
  },
  {
   "cell_type": "code",
   "execution_count": 30,
   "id": "12431708-1e4b-4cb6-a983-7ed2e527873e",
   "metadata": {},
   "outputs": [
    {
     "data": {
      "text/plain": [
       "[<matplotlib.lines.Line2D at 0x29f6d887400>]"
      ]
     },
     "execution_count": 30,
     "metadata": {},
     "output_type": "execute_result"
    },
    {
     "data": {
      "image/png": "[encoded data removed]",
      "text/plain": [
       "<Figure size 640x480 with 1 Axes>"
      ]
     },
     "metadata": {},
     "output_type": "display_data"
    }
   ],
   "source": [
    "df3=df2.tolist()\n",
    "df3.extend(lst_output)\n",
    "plt.plot(df3[1200:], color='green')"
   ]
  },
  {
   "cell_type": "code",
   "execution_count": 31,
   "id": "ea75ac5a-0936-4885-937f-2499a45d3b40",
   "metadata": {},
   "outputs": [],
   "source": [
    "df3=scaler.inverse_transform(df3).tolist()"
   ]
  },
  {
   "cell_type": "code",
   "execution_count": 32,
   "id": "b5a38e16",
   "metadata": {},
   "outputs": [
    {
     "data": {
      "text/plain": [
       "6119"
      ]
     },
     "execution_count": 32,
     "metadata": {},
     "output_type": "execute_result"
    }
   ],
   "source": [
    "df2.size"
   ]
  },
  {
   "cell_type": "code",
   "execution_count": 33,
   "id": "162c01b5-3c1b-4024-9fb3-c169558efee6",
   "metadata": {},
   "outputs": [
    {
     "data": {
      "text/plain": [
       "[<matplotlib.lines.Line2D at 0x29f88de70a0>]"
      ]
     },
     "execution_count": 33,
     "metadata": {},
     "output_type": "execute_result"
    },
    {
     "data": {
      "image/png": "[encoded data removed]",
      "text/plain": [
       "<Figure size 640x480 with 1 Axes>"
      ]
     },
     "metadata": {},
     "output_type": "display_data"
    }
   ],
   "source": [
    "plt.plot(df3, color='green')"
   ]
  }
 ],
 "metadata": {
  "kernelspec": {
   "display_name": "Python 3 (ipykernel)",
   "language": "python",
   "name": "python3"
  },
  "language_info": {
   "codemirror_mode": {
    "name": "ipython",
    "version": 3
   },
   "file_extension": ".py",
   "mimetype": "text/x-python",
   "name": "python",
   "nbconvert_exporter": "python",
   "pygments_lexer": "ipython3",
   "version": "3.9.19"
  }
 },
 "nbformat": 4,
 "nbformat_minor": 5
}
