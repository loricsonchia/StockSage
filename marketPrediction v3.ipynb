{
 "cells": [
  {
   "cell_type": "code",
   "execution_count": null,
   "metadata": {},
   "outputs": [],
   "source": [
    "import math\n",
    "import warnings  # Suppress the UserWarning from StandardScaler\n",
    "import numpy as np\n",
    "from numpy import array\n",
    "import pandas as pd\n",
    "import matplotlib.pyplot as plt\n",
    "import tensorflow\n",
    "# from sklearn.preprocessing import MinMaxScaler\n",
    "from sklearn.metrics import mean_squared_error\n",
    "from sklearn.preprocessing import StandardScaler\n",
    "from sklearn.model_selection import GridSearchCV\n",
    "from tensorflow.keras.regularizers import l1, l2\n",
    "from tensorflow.keras.models import Sequential, Model\n",
    "from tensorflow.keras.layers import LSTM, Dense, Input, Dropout\n",
    "from tensorflow.keras.callbacks import EarlyStopping, ModelCheckpoint\n",
    "# from scikeras.wrappers import KerasRegressor\n",
    "# from scikeras.wrappers import KerasClassifier, KerasRegressor\n",
    "from keras.wrappers.scikit_learn import KerasRegressor"
   ]
  },
  {
   "cell_type": "code",
   "execution_count": null,
   "metadata": {},
   "outputs": [],
   "source": [
    "print(tensorflow.__version__)"
   ]
  },
  {
   "cell_type": "code",
   "execution_count": null,
   "metadata": {},
   "outputs": [],
   "source": [
    "stockPrices = pd.read_csv('yahooScrapping/AAPL.csv', index_col=\"Date\")"
   ]
  },
  {
   "cell_type": "code",
   "execution_count": null,
   "metadata": {},
   "outputs": [],
   "source": [
    "testRatio = 0.2\n",
    "trainingRatio = 1 - testRatio\n",
    "\n",
    "trainingSize = int(trainingRatio * len(stockPrices))\n",
    "testSize = int(testRatio * len(stockPrices))\n",
    "print(f\"Training Size: {trainingSize}\")\n",
    "print(f\"Testing Size: {testSize}\")\n",
    "\n",
    "train = stockPrices[:trainingSize][[\"Close\"]]  # Ensure train is a DataFrame\n",
    "test = stockPrices[trainingSize:][[\"Close\"]].copy()  # Ensure test is a DataFrame"
   ]
  },
  {
   "cell_type": "code",
   "execution_count": null,
   "metadata": {},
   "outputs": [],
   "source": [
    "## Split the time-series data into training seq X and output value Y\n",
    "def extract_seqX_outcomeY(data, N, offset):\n",
    "    \"\"\"\n",
    "    Split time-series into training sequence X and outcome value Y\n",
    "    Args:\n",
    "        data - dataset\n",
    "        N - window size, e.g., 50 for 50 days of historical stock prices\n",
    "        offset - position to start the split\n",
    "    \"\"\"\n",
    "    X, y = [], []\n",
    "    for i in range(offset, len(data)):\n",
    "        X.append(data[i - N: i])\n",
    "        y.append(data[i])\n",
    "    return np.array(X), np.array(y)"
   ]
  },
  {
   "cell_type": "code",
   "execution_count": null,
   "metadata": {},
   "outputs": [],
   "source": [
    "# Calculate the metrics RMSE and MAPE\n",
    "def calculateRMSE(y_true, y_pred):\n",
    "    rmse = np.sqrt(np.mean((y_true - y_pred) ** 2))\n",
    "    return rmse\n",
    "\n",
    "def calculateMAPE(y_true, y_pred):\n",
    "    y_pred, y_true = np.array(y_pred), np.array(y_true)\n",
    "    mape = np.mean(np.abs((y_true - y_pred) / y_true)) * 100\n",
    "    return mape"
   ]
  },
  {
   "cell_type": "code",
   "execution_count": null,
   "metadata": {},
   "outputs": [],
   "source": [
    "def calculate_perf_metrics(var):\n",
    "    ### RMSE\n",
    "    rmse = calculateRMSE(\n",
    "        np.array(stockPrices[trainingSize:][\"Close\"]),\n",
    "        np.array(stockPrices[trainingSize:][var]),\n",
    "    )\n",
    "    ### MAPE\n",
    "    mape = calculateMAPE(\n",
    "        np.array(stockPrices[trainingSize:][\"Close\"]),\n",
    "        np.array(stockPrices[trainingSize:][var]),\n",
    "    )\n",
    "\n",
    "    return rmse, mape"
   ]
  },
  {
   "cell_type": "code",
   "execution_count": null,
   "metadata": {},
   "outputs": [],
   "source": [
    "def plot_stock_trend(var, cur_title, stockprices=stockPrices):\n",
    "    ax = stockprices[[\"Close\", var, \"200 Days\"]].plot(figsize=(20, 10))\n",
    "    plt.grid(False)\n",
    "    plt.title(cur_title)\n",
    "    plt.axis(\"tight\")\n",
    "    plt.ylabel(\"Stock Price ($)\")"
   ]
  },
  {
   "cell_type": "markdown",
   "metadata": {},
   "source": [
    "## Simple Moving Average"
   ]
  },
  {
   "cell_type": "code",
   "execution_count": null,
   "metadata": {},
   "outputs": [],
   "source": [
    "window_size = 50\n",
    "\n",
    "window_var = f\"{window_size}day\"\n",
    "\n",
    "stockPrices[window_var] = stockPrices[\"Close\"].rolling(window_size).mean()\n",
    "\n",
    "### Include a 200-day SMA for reference\n",
    "stockPrices[\"200 Days\"] = stockPrices[\"Close\"].rolling(200).mean()\n",
    "\n",
    "### Plot and performance metrics for SMA model\n",
    "plot_stock_trend(var=window_var, cur_title=\"Simple Moving Averages\")\n",
    "rmse_sma, mape_sma = calculate_perf_metrics(var=window_var)\n",
    "\n",
    "print(f\"RMSE for SMA: {rmse_sma}\")\n",
    "print(f\"MAPE for SMA: {mape_sma}\")"
   ]
  },
  {
   "cell_type": "markdown",
   "metadata": {},
   "source": [
    "## Exponential Moving Average"
   ]
  },
  {
   "cell_type": "code",
   "execution_count": null,
   "metadata": {},
   "outputs": [],
   "source": [
    "window_ema_var = f\"{window_var}_EMA\"\n",
    "\n",
    "# Calculate the 50-day exponentially weighted moving average\n",
    "stockPrices[window_ema_var] = (\n",
    "    stockPrices[\"Close\"].ewm(span=window_size, adjust=False).mean()\n",
    ")\n",
    "stockPrices[\"200 Days\"] = stockPrices[\"Close\"].rolling(200).mean()\n",
    "\n",
    "### Plot and performance metrics for EMA model\n",
    "plot_stock_trend(\n",
    "    var=window_ema_var, cur_title=\"Exponential Moving Averages\")\n",
    "rmse_ema, mape_ema = calculate_perf_metrics(var=window_ema_var)\n",
    "\n",
    "print(f\"RMSE for EMA: {rmse_ema}\")\n",
    "print(f\"MAPE for EMA: {mape_ema}\")"
   ]
  },
  {
   "cell_type": "markdown",
   "metadata": {},
   "source": [
    "## LSTM Model"
   ]
  },
  {
   "cell_type": "code",
   "execution_count": null,
   "metadata": {},
   "outputs": [],
   "source": [
    "warnings.filterwarnings(\"ignore\", category=UserWarning, module='sklearn')\n",
    "\n",
    "# Scale our dataset\n",
    "scaler = StandardScaler()\n",
    "scaled_data = scaler.fit_transform(stockPrices[[\"Close\"]])\n",
    "scaled_data_train = scaled_data[:train.shape[0]]\n",
    "\n",
    "window_size = 50  # define window_size variable\n",
    "# We use past 50 days’ stock prices for our training to predict the 51th day's closing price.\n",
    "X_train, y_train = extract_seqX_outcomeY(scaled_data_train, window_size, window_size)"
   ]
  },
  {
   "cell_type": "code",
   "execution_count": null,
   "metadata": {},
   "outputs": [],
   "source": [
    "def create_model(input_shape, layer_units=150, dropout_rate=0.3, optimizer='adam'):\n",
    "    model = Sequential([\n",
    "        LSTM(units=layer_units, return_sequences=True, input_shape=input_shape),\n",
    "        Dropout(dropout_rate),\n",
    "        LSTM(units=layer_units, return_sequences=True),\n",
    "        Dropout(dropout_rate),\n",
    "        LSTM(units=layer_units),\n",
    "        Dropout(dropout_rate),\n",
    "        Dense(30, activation=\"relu\"),\n",
    "        Dense(1)\n",
    "    ])\n",
    "    model.compile(loss=\"mean_squared_error\", optimizer=optimizer)\n",
    "    return model"
   ]
  },
  {
   "cell_type": "markdown",
   "metadata": {},
   "source": [
    "### Hyperparameter Tuning - Grid Search"
   ]
  },
  {
   "cell_type": "code",
   "execution_count": null,
   "metadata": {},
   "outputs": [],
   "source": [
    "def create_model_wrapper(layer_units=100, dropout_rate=0.3, optimizer='adam'):\n",
    "    return create_model((X_train.shape[1], 1), layer_units, dropout_rate, optimizer)\n",
    "\n",
    "model = KerasRegressor(build_fn=create_model_wrapper, verbose=0)\n",
    "\n",
    "# Define the grid search parameters\n",
    "param_grid = {\n",
    "    #'layer_units': [50],\n",
    "    'dropout_rate': [0.2, 0.3],\n",
    "    #'optimizer': ['adam'],\n",
    "    'batch_size': [32],\n",
    "    'epochs': [30, 50]\n",
    "}"
   ]
  },
  {
   "cell_type": "code",
   "execution_count": null,
   "metadata": {},
   "outputs": [],
   "source": [
    "# Perform grid search\n",
    "grid = GridSearchCV(estimator=model, param_grid=param_grid, cv=3, n_jobs=-1, verbose=2)\n",
    "grid_result = grid.fit(X_train, y_train)\n",
    "\n",
    "print(\"Best parameters found: \", grid_result.best_params_)\n",
    "print(\"Best score: \", grid_result.best_score_)"
   ]
  },
  {
   "cell_type": "code",
   "execution_count": null,
   "metadata": {},
   "outputs": [],
   "source": [
    "best_params = grid_result.best_params_\n",
    "final_model = create_model(\n",
    "    input_shape=(X_train.shape[1], 1),\n",
    "    layer_units=50,\n",
    "    dropout_rate=best_params['dropout_rate'],\n",
    "    optimizer='adam'\n",
    ")"
   ]
  },
  {
   "cell_type": "code",
   "execution_count": null,
   "metadata": {},
   "outputs": [],
   "source": [
    "# Callbacks - to prevent overfitting by cutting short epochs and save the best model\n",
    "early_stopping = EarlyStopping(monitor='val_loss', patience=10, restore_best_weights=True)\n",
    "model_checkpoint = ModelCheckpoint('best_model.h5', monitor='val_loss', save_best_only=True)"
   ]
  },
  {
   "cell_type": "code",
   "execution_count": null,
   "metadata": {},
   "outputs": [],
   "source": [
    "history = final_model.fit(\n",
    "    X_train,\n",
    "    y_train,\n",
    "    epochs=best_params['epochs'],\n",
    "    batch_size=best_params['batch_size'],\n",
    "    validation_split=0.2,\n",
    "    verbose=1,\n",
    "    shuffle=True,\n",
    "    callbacks=[early_stopping, model_checkpoint]\n",
    ")"
   ]
  },
  {
   "cell_type": "markdown",
   "metadata": {},
   "source": [
    "### Predict using Trained LSTM Model"
   ]
  },
  {
   "cell_type": "code",
   "execution_count": null,
   "metadata": {},
   "outputs": [],
   "source": [
    "# Preprocess test data\n",
    "def preprocess_testdat(data=stockPrices, scaler=scaler, window_size=window_size, test=test):\n",
    "    raw = data[\"Close\"][len(data) - len(test) - window_size:].values\n",
    "    raw = raw.reshape(-1, 1)\n",
    "    raw = scaler.transform(raw)\n",
    "\n",
    "    X_test = [raw[i - window_size: i, 0] for i in range(window_size, raw.shape[0])]\n",
    "    X_test = np.array(X_test)\n",
    "\n",
    "    X_test = np.reshape(X_test, (X_test.shape[0], X_test.shape[1], 1))\n",
    "    return X_test\n",
    "\n",
    "X_test = preprocess_testdat()\n",
    "\n",
    "predicted_price_ = model.predict(X_test)\n",
    "predicted_price = scaler.inverse_transform(predicted_price_)\n",
    "\n",
    "# Ensure test DataFrame has a column to store predictions\n",
    "test[\"Predictions_lstm\"] = predicted_price"
   ]
  },
  {
   "cell_type": "code",
   "execution_count": null,
   "metadata": {},
   "outputs": [],
   "source": [
    "# Debugging output\n",
    "print(test)\n",
    "print(test.columns)"
   ]
  },
  {
   "cell_type": "code",
   "execution_count": null,
   "metadata": {},
   "outputs": [],
   "source": [
    "# Evaluate performance\n",
    "rmse_lstm = calculateRMSE(np.array(test[\"Close\"]), np.array(test[\"Predictions_lstm\"]))\n",
    "mape_lstm = calculateMAPE(np.array(test[\"Close\"]), np.array(test[\"Predictions_lstm\"]))\n",
    "\n",
    "print(f\"RMSE for LSTM: {rmse_lstm}\")\n",
    "print(f\"MAPE for LSTM: {mape_lstm}\")"
   ]
  },
  {
   "cell_type": "code",
   "execution_count": null,
   "metadata": {},
   "outputs": [],
   "source": [
    "\n",
    "def plot_stock_trend_lstm(train, test):\n",
    "    fig, ax = plt.subplots(figsize=(20, 10))\n",
    "    ax.plot(train.index, train[\"Close\"], label=\"Train Closing Price\")\n",
    "    ax.plot(test.index, test[\"Close\"], label=\"Test Closing Price\")\n",
    "    ax.plot(test.index, test[\"Predictions_lstm\"], label=\"Predicted Closing Price\")\n",
    "    ax.set_title(\"LSTM Model\")\n",
    "    ax.set_xlabel(\"Date\")\n",
    "    ax.set_ylabel(\"Stock Price (USD $)\")\n",
    "    ax.legend()\n",
    "    plt.show()\n",
    "\n",
    "plot_stock_trend_lstm(train, test)"
   ]
  }
 ],
 "metadata": {
  "kernelspec": {
   "display_name": "fyp-gpu",
   "language": "python",
   "name": "python3"
  },
  "language_info": {
   "codemirror_mode": {
    "name": "ipython",
    "version": 3
   },
   "file_extension": ".py",
   "mimetype": "text/x-python",
   "name": "python",
   "nbconvert_exporter": "python",
   "pygments_lexer": "ipython3",
   "version": "3.9.19"
  }
 },
 "nbformat": 4,
 "nbformat_minor": 2
}
