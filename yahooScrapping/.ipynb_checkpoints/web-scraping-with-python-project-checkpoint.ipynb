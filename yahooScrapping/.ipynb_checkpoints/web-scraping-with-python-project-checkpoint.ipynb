{
 "cells": [
  {
   "cell_type": "markdown",
   "metadata": {},
   "source": [
    "# Scraping Yahoo! Finance Most Active Stocks"
   ]
  },
  {
   "cell_type": "markdown",
   "metadata": {},
   "source": [
    "![](https://i.imgur.com/Jhx4oL9.png)"
   ]
  },
  {
   "cell_type": "markdown",
   "metadata": {},
   "source": [
    "## Project statement\n",
    "\n",
    "In this project I'll be web scraping Yahoo! Finance. I'll specifically be scraping an article that showcase the [most active stocks today](https://finance.yahoo.com/most-active?offset=0&count=100). \n",
    "\n",
    "Yahoo! Finance defines \"most active\" in these articles as those stocks with the highest daily volume, which is the stocks that are being the most actively traded. The article showcases the top 200 active stocks from the pool of all stocks on the market.\n",
    "\n",
    "My reason for scraping this article is two-fold: firstly, I think investing is a fascinating topic, and secondly, as a woman, it is extremely important to learn and share learnings about investing. Women are so far behind in terms of creating wealth due to the patriarchal barriers that we have been subjected to. I hope that by educating myself and sharing information that I can be a part of shrinking the wealth gap between men and women. \n",
    "\n",
    "The information that we'll extract from this article is useful for someone who is keen to invest, but isn't sure what specific stock(s) to choose. The reasons for choosing specific investments is personal to each investor, so we'll explore a myriad of options such as: largest market capitalisation, largest volume, largest PE ratio, and lowest price. It may be useful to define a few of these features:\n",
    "* __Market capitalisation__: How large a company is. This is calculated by the company stock price x shares. We classify stocks as small, mid, and large size caps.\n",
    "* __Volume__: The amount of stocks traded.\n",
    "* __PE ratio__: This is calculated by the company stock price divided by the most recently reported earnings of the company. A low PE ratio indicates the stock is good value."
   ]
  },
  {
   "cell_type": "markdown",
   "metadata": {},
   "source": [
    "## Table of contents\n",
    "1. Download the article\n",
    "2. Create a BeautifulSoup document for parsing\n",
    "3. Parse the BeautifulSoup document\n",
    "4. Create functions to display information\n",
    "5. Create a CSV of the parsed information\n",
    "6. Display the CSV files in Pandas data frames\n",
    "7. A bit of simple data visualisation\n",
    "8. Summary\n",
    "9. Future work ideas\n",
    "10. References"
   ]
  },
  {
   "cell_type": "markdown",
   "metadata": {},
   "source": [
    "### 1. Download the article"
   ]
  },
  {
   "cell_type": "markdown",
   "metadata": {},
   "source": [
    "We'll start by downloading the requests library so we can open the articles as files."
   ]
  },
  {
   "cell_type": "code",
   "execution_count": 1,
   "metadata": {},
   "outputs": [],
   "source": [
    "!pip install requests --upgrade --quiet"
   ]
  },
  {
   "cell_type": "code",
   "execution_count": 2,
   "metadata": {},
   "outputs": [],
   "source": [
    "import requests"
   ]
  },
  {
   "cell_type": "markdown",
   "metadata": {},
   "source": [
    "Here is a snapshot of the article that we'll be parsing. It shows the 100 most active stocks on 20-08-2022."
   ]
  },
  {
   "cell_type": "markdown",
   "metadata": {},
   "source": [
    "![](https://i.imgur.com/3GA91gr.png)"
   ]
  },
  {
   "cell_type": "code",
   "execution_count": 3,
   "metadata": {},
   "outputs": [],
   "source": [
    "url = 'https://finance.yahoo.com/most-active?offset={offset_val}&count=100'"
   ]
  },
  {
   "cell_type": "code",
   "execution_count": 4,
   "metadata": {},
   "outputs": [],
   "source": [
    "headers = {\n",
    "    'User-Agent': 'Nadya DeBeers',\n",
    "    'From': 'nadya.debeers@hotmail.com'\n",
    "}\n",
    "offset_val = 0\n",
    "response = requests.get(url, headers=headers)"
   ]
  },
  {
   "cell_type": "code",
   "execution_count": 5,
   "metadata": {},
   "outputs": [
    {
     "data": {
      "text/plain": [
       "200"
      ]
     },
     "execution_count": 5,
     "metadata": {},
     "output_type": "execute_result"
    }
   ],
   "source": [
    "response.status_code"
   ]
  },
  {
   "cell_type": "markdown",
   "metadata": {},
   "source": [
    "A status_code in the range of 200:300 means that our url has downloaded and is ready to be read."
   ]
  },
  {
   "cell_type": "code",
   "execution_count": 6,
   "metadata": {},
   "outputs": [],
   "source": [
    "url_contents = response.text"
   ]
  },
  {
   "cell_type": "markdown",
   "metadata": {},
   "source": [
    "Let's look at the first 1000 characters of our url."
   ]
  },
  {
   "cell_type": "code",
   "execution_count": 7,
   "metadata": {},
   "outputs": [
    {
     "data": {
      "text/plain": [
       "'<!doctype html><html data-color-theme=\"light\" id=\"atomic\" class=\"NoJs chrome desktop failsafe\" lang=\"en-US\"><head prefix=\"og: https://ogp.me/ns#\"><script>window.performance && window.performance.mark && window.performance.mark(\\'PageStart\\');</script><meta charset=\"utf-8\"><title>Most Active Stocks Today - Yahoo Finance</title><meta name=\"keywords\" content=\"Stock Screener, industry, index membership, share data, stock price, market cap, beta, sales, profitability, valuation ratios, analyst estimates, large cap value, bargain growth, preset stock screens\"><meta http-equiv=\"x-dns-prefetch-control\" content=\"on\"><meta property=\"twitter:dnt\" content=\"on\"><meta property=\"fb:app_id\" content=\"458584288257241\"><meta name=\"theme-color\" content=\"#400090\"><meta name=\"viewport\" content=\"width=device-width, initial-scale=1\"><meta name=\"description\" lang=\"en-US\" content=\"See the list of the most active stocks today, including share price change and percentage, trading volume, intraday highs and lows, an'"
      ]
     },
     "execution_count": 7,
     "metadata": {},
     "output_type": "execute_result"
    }
   ],
   "source": [
    "url_contents[:1000]"
   ]
  },
  {
   "cell_type": "markdown",
   "metadata": {},
   "source": [
    "We'll now save our url as a html file."
   ]
  },
  {
   "cell_type": "code",
   "execution_count": 8,
   "metadata": {},
   "outputs": [],
   "source": [
    "with open('yahoo-finance-most-active.html', 'w', encoding=\"utf-8\") as file:\n",
    "    file.write(url_contents)"
   ]
  },
  {
   "cell_type": "markdown",
   "metadata": {},
   "source": [
    "We can create a function that downloads any url as a html file so that we can parse them for information."
   ]
  },
  {
   "cell_type": "code",
   "execution_count": 9,
   "metadata": {},
   "outputs": [],
   "source": [
    "def download_web_page(url):\n",
    "    headers = {\n",
    "    'User-Agent': 'Nadya DeBeers',\n",
    "    'From': 'nadya.debeers@hotmail.com'\n",
    "}\n",
    "    response = requests.get(url, headers=headers)\n",
    "    status_code = response.status_code\n",
    "    if status_code in range(200,300):\n",
    "        url_contents = response.text\n",
    "        with open('new-downloaded-web-page.html', 'w', encoding=\"utf-8\") as file:\n",
    "            file.write(url_contents)\n",
    "        print('Status code is within an okay range of {}.'.format(status_code))\n",
    "        \n",
    "    else: \n",
    "        return"
   ]
  },
  {
   "cell_type": "markdown",
   "metadata": {},
   "source": [
    "We can download another article from Yahoo! Finance about cryptocurrencies with our function."
   ]
  },
  {
   "cell_type": "code",
   "execution_count": 10,
   "metadata": {},
   "outputs": [
    {
     "name": "stdout",
     "output_type": "stream",
     "text": [
      "Status code is within an okay range of 200.\n"
     ]
    }
   ],
   "source": [
    "download_web_page('https://finance.yahoo.com/cryptocurrencies/')"
   ]
  },
  {
   "cell_type": "markdown",
   "metadata": {},
   "source": [
    "### 2. Create a BeautifulSoup document for parsing"
   ]
  },
  {
   "cell_type": "markdown",
   "metadata": {},
   "source": [
    "We'll download the BeautifulSoup library so we can parse the articles."
   ]
  },
  {
   "cell_type": "code",
   "execution_count": 11,
   "metadata": {},
   "outputs": [],
   "source": [
    "!pip install beautifulsoup4 --upgrade --quiet\n",
    "from bs4 import BeautifulSoup"
   ]
  },
  {
   "cell_type": "code",
   "execution_count": 12,
   "metadata": {},
   "outputs": [],
   "source": [
    "with open('yahoo-finance-most-active.html', 'r') as f:\n",
    "    html_source = f.read()"
   ]
  },
  {
   "cell_type": "code",
   "execution_count": 13,
   "metadata": {},
   "outputs": [
    {
     "data": {
      "text/plain": [
       "1849028"
      ]
     },
     "execution_count": 13,
     "metadata": {},
     "output_type": "execute_result"
    }
   ],
   "source": [
    "len(html_source)"
   ]
  },
  {
   "cell_type": "code",
   "execution_count": 14,
   "metadata": {},
   "outputs": [],
   "source": [
    "with open('yahoo-finance-most-active.html', 'r') as f:\n",
    "    html_source = f.read()\n",
    "doc = BeautifulSoup(html_source, 'html.parser')"
   ]
  },
  {
   "cell_type": "markdown",
   "metadata": {},
   "source": [
    "We can extract the title of the article."
   ]
  },
  {
   "cell_type": "code",
   "execution_count": 15,
   "metadata": {},
   "outputs": [],
   "source": [
    "title = doc.title"
   ]
  },
  {
   "cell_type": "code",
   "execution_count": 16,
   "metadata": {},
   "outputs": [
    {
     "data": {
      "text/plain": [
       "'Most Active Stocks Today - Yahoo Finance'"
      ]
     },
     "execution_count": 16,
     "metadata": {},
     "output_type": "execute_result"
    }
   ],
   "source": [
    "title.text"
   ]
  },
  {
   "cell_type": "markdown",
   "metadata": {},
   "source": [
    "### 3. Parse the BeautifulSoup document"
   ]
  },
  {
   "cell_type": "markdown",
   "metadata": {},
   "source": [
    "We'll now identify the tags and classes that encompass the information that we're interested in. \n",
    "\n",
    "As you can see in the image below, the stock information is located within the ```tr_tag```. The class slightly differs as the rows are coloured differently. We can use a subset of the class, ```class_='simpTblRow'``` that is common to both class types. "
   ]
  },
  {
   "cell_type": "markdown",
   "metadata": {},
   "source": [
    "![](https://i.imgur.com/8FvOL33.png)"
   ]
  },
  {
   "cell_type": "code",
   "execution_count": 17,
   "metadata": {},
   "outputs": [
    {
     "data": {
      "text/plain": [
       "[<tr class=\"simpTblRow Bgc($hoverBgColor):h BdB Bdbc($seperatorColor) Bdbc($tableBorderBlue):h H(32px) Bgc($lv2BgColor)\"><td aria-label=\"Symbol\" class=\"Va(m) Ta(start) Pstart(6px) Pend(10px) Miw(90px) Start(0) Pend(10px) simpTblRow:h_Bgc($hoverBgColor) Pos(st) Bgc($lv3BgColor) Z(1) Bgc($lv2BgColor) Ta(start)! Fz(s)\" colspan=\"\"><label class=\"Ta(c) Pos(r) Va(tb) Pend(5px) D(n)--print\" data-id=\"portfolio-checkbox\"><input aria-label=\"Select RIVN\" class=\"Pos(a) Op(0) checkbox\" type=\"checkbox\"/><svg class=\"Va(m)! H(16px) W(16px) checkbox:f+Stk($linkColor)! checkbox:f+Fill($linkColor)! Stk($plusGray) Fill($plusGray) Cur(p)\" data-icon=\"checkbox-unchecked\" height=\"16\" style=\"stroke-width:0;vertical-align:bottom\" viewbox=\"0 0 24 24\" width=\"16\"><path d=\"M3 3h18v18H3V3zm19-2H2c-.553 0-1 .448-1 1v20c0 .552.447 1 1 1h20c.552 0 1-.448 1-1V2c0-.552-.448-1-1-1z\"></path></svg></label><a class=\"Fw(600) C($linkColor)\" data-test=\"quoteLink\" href=\"/quote/RIVN\" title=\"Rivian Automotive, Inc.\">RIVN</a><div class=\"W(3px) Pos(a) Start(100%) T(0) H(100%) Bg($pfColumnFakeShadowGradient) Pe(n) Pend(5px)\"></div></td><td aria-label=\"Name\" class=\"Va(m) Ta(start) Px(10px) Fz(s)\" colspan=\"\">Rivian Automotive, Inc.</td><td aria-label=\"Price (Intraday)\" class=\"Va(m) Ta(end) Pstart(20px) Fw(600) Fz(s)\" colspan=\"\"><fin-streamer active=\"\" class=\"\" data-field=\"regularMarketPrice\" data-pricehint=\"2\" data-symbol=\"RIVN\" data-test=\"colorChange\" data-trend=\"none\" value=\"10.07\">10.07</fin-streamer></td><td aria-label=\"Change\" class=\"Va(m) Ta(end) Pstart(20px) Fw(600) Fz(s)\" colspan=\"\"><fin-streamer active=\"\" class=\"Fw(600)\" data-field=\"regularMarketChange\" data-pricehint=\"2\" data-symbol=\"RIVN\" data-test=\"colorChange\" data-trend=\"txt\" value=\"-1.3800001\"><span class=\"C($negativeColor)\">-1.38</span></fin-streamer></td><td aria-label=\"% Change\" class=\"Va(m) Ta(end) Pstart(20px) Fw(600) Fz(s)\" colspan=\"\"><fin-streamer active=\"\" class=\"Fw(600)\" data-field=\"regularMarketChangePercent\" data-pricehint=\"2\" data-symbol=\"RIVN\" data-test=\"colorChange\" data-trend=\"txt\" value=\"-12.0524025\"><span class=\"C($negativeColor)\">-12.05%</span></fin-streamer></td><td aria-label=\"Volume\" class=\"Va(m) Ta(end) Pstart(20px) Fz(s)\" colspan=\"\"><fin-streamer active=\"\" class=\"\" data-field=\"regularMarketVolume\" data-pricehint=\"2\" data-symbol=\"RIVN\" data-test=\"colorChange\" data-trend=\"none\" value=\"123712640\">123.713M</fin-streamer></td><td aria-label=\"Avg Vol (3 month)\" class=\"Va(m) Ta(end) Pstart(20px) Fz(s)\" colspan=\"\">38.182M</td><td aria-label=\"Market Cap\" class=\"Va(m) Ta(end) Pstart(20px) Pend(10px) W(120px) Fz(s)\" colspan=\"\"><fin-streamer active=\"\" class=\"\" data-field=\"marketCap\" data-pricehint=\"2\" data-symbol=\"RIVN\" data-test=\"colorChange\" data-trend=\"none\" value=\"9403617280\">9.404B</fin-streamer></td><td aria-label=\"PE Ratio (TTM)\" class=\"Va(m) Ta(end) Pstart(20px) Fz(s)\" colspan=\"\"><span>N/A</span></td><td aria-label=\"52 Week Range\" class=\"Va(m) Ta(end) Pstart(20px) Pend(6px) Fz(s)\" colspan=\"\"><canvas style=\"width:140px;height:23px\"></canvas></td></tr>,\n",
       " <tr class=\"simpTblRow Bgc($hoverBgColor):h BdB Bdbc($seperatorColor) Bdbc($tableBorderBlue):h H(32px) Bgc($lv1BgColor)\"><td aria-label=\"Symbol\" class=\"Va(m) Ta(start) Pstart(6px) Pend(10px) Miw(90px) Start(0) Pend(10px) simpTblRow:h_Bgc($hoverBgColor) Pos(st) Bgc($lv3BgColor) Z(1) Bgc($lv1BgColor) Ta(start)! Fz(s)\" colspan=\"\"><label class=\"Ta(c) Pos(r) Va(tb) Pend(5px) D(n)--print\" data-id=\"portfolio-checkbox\"><input aria-label=\"Select WBD\" class=\"Pos(a) Op(0) checkbox\" type=\"checkbox\"/><svg class=\"Va(m)! H(16px) W(16px) checkbox:f+Stk($linkColor)! checkbox:f+Fill($linkColor)! Stk($plusGray) Fill($plusGray) Cur(p)\" data-icon=\"checkbox-unchecked\" height=\"16\" style=\"stroke-width:0;vertical-align:bottom\" viewbox=\"0 0 24 24\" width=\"16\"><path d=\"M3 3h18v18H3V3zm19-2H2c-.553 0-1 .448-1 1v20c0 .552.447 1 1 1h20c.552 0 1-.448 1-1V2c0-.552-.448-1-1-1z\"></path></svg></label><a class=\"Fw(600) C($linkColor)\" data-test=\"quoteLink\" href=\"/quote/WBD\" title=\"Warner Bros. Discovery, Inc.\">WBD</a><div class=\"W(3px) Pos(a) Start(100%) T(0) H(100%) Bg($pfColumnFakeShadowGradient) Pe(n) Pend(5px)\"></div></td><td aria-label=\"Name\" class=\"Va(m) Ta(start) Px(10px) Fz(s)\" colspan=\"\">Warner Bros. Discovery, Inc.</td><td aria-label=\"Price (Intraday)\" class=\"Va(m) Ta(end) Pstart(20px) Fw(600) Fz(s)\" colspan=\"\"><fin-streamer active=\"\" class=\"\" data-field=\"regularMarketPrice\" data-pricehint=\"2\" data-symbol=\"WBD\" data-test=\"colorChange\" data-trend=\"none\" value=\"8.61\">8.61</fin-streamer></td><td aria-label=\"Change\" class=\"Va(m) Ta(end) Pstart(20px) Fw(600) Fz(s)\" colspan=\"\"><fin-streamer active=\"\" class=\"Fw(600)\" data-field=\"regularMarketChange\" data-pricehint=\"2\" data-symbol=\"WBD\" data-test=\"colorChange\" data-trend=\"txt\" value=\"-0.95000076\"><span class=\"C($negativeColor)\">-0.95</span></fin-streamer></td><td aria-label=\"% Change\" class=\"Va(m) Ta(end) Pstart(20px) Fw(600) Fz(s)\" colspan=\"\"><fin-streamer active=\"\" class=\"Fw(600)\" data-field=\"regularMarketChangePercent\" data-pricehint=\"2\" data-symbol=\"WBD\" data-test=\"colorChange\" data-trend=\"txt\" value=\"-9.937246\"><span class=\"C($negativeColor)\">-9.94%</span></fin-streamer></td><td aria-label=\"Volume\" class=\"Va(m) Ta(end) Pstart(20px) Fz(s)\" colspan=\"\"><fin-streamer active=\"\" class=\"\" data-field=\"regularMarketVolume\" data-pricehint=\"2\" data-symbol=\"WBD\" data-test=\"colorChange\" data-trend=\"none\" value=\"98206933\">98.207M</fin-streamer></td><td aria-label=\"Avg Vol (3 month)\" class=\"Va(m) Ta(end) Pstart(20px) Fz(s)\" colspan=\"\">23.808M</td><td aria-label=\"Market Cap\" class=\"Va(m) Ta(end) Pstart(20px) Pend(10px) W(120px) Fz(s)\" colspan=\"\"><fin-streamer active=\"\" class=\"\" data-field=\"marketCap\" data-pricehint=\"2\" data-symbol=\"WBD\" data-test=\"colorChange\" data-trend=\"none\" value=\"20996085760\">20.996B</fin-streamer></td><td aria-label=\"PE Ratio (TTM)\" class=\"Va(m) Ta(end) Pstart(20px) Fz(s)\" colspan=\"\"><span>N/A</span></td><td aria-label=\"52 Week Range\" class=\"Va(m) Ta(end) Pstart(20px) Pend(6px) Fz(s)\" colspan=\"\"><canvas style=\"width:140px;height:23px\"></canvas></td></tr>]"
      ]
     },
     "execution_count": 17,
     "metadata": {},
     "output_type": "execute_result"
    }
   ],
   "source": [
    "tr_class_tags = doc.find_all('tr',class_='simpTblRow')\n",
    "tr_class_tags[:2]"
   ]
  },
  {
   "cell_type": "markdown",
   "metadata": {},
   "source": [
    "We can check to make sure there are 100 ```tr_tag``` which is what we would expect since the article shows the top 100 stocks."
   ]
  },
  {
   "cell_type": "code",
   "execution_count": 18,
   "metadata": {},
   "outputs": [],
   "source": [
    "tr_tag_amount = len(tr_class_tags)\n",
    "if tr_tag_amount == 100:\n",
    "    print(\"We have the correct amount of tr tags.\")"
   ]
  },
  {
   "cell_type": "markdown",
   "metadata": {},
   "source": [
    "We can now look at the first ```tr_tag``` which encompasses the stock OXY. "
   ]
  },
  {
   "cell_type": "code",
   "execution_count": 19,
   "metadata": {},
   "outputs": [
    {
     "data": {
      "text/plain": [
       "<tr class=\"simpTblRow Bgc($hoverBgColor):h BdB Bdbc($seperatorColor) Bdbc($tableBorderBlue):h H(32px) Bgc($lv2BgColor)\"><td aria-label=\"Symbol\" class=\"Va(m) Ta(start) Pstart(6px) Pend(10px) Miw(90px) Start(0) Pend(10px) simpTblRow:h_Bgc($hoverBgColor) Pos(st) Bgc($lv3BgColor) Z(1) Bgc($lv2BgColor) Ta(start)! Fz(s)\" colspan=\"\"><label class=\"Ta(c) Pos(r) Va(tb) Pend(5px) D(n)--print\" data-id=\"portfolio-checkbox\"><input aria-label=\"Select RIVN\" class=\"Pos(a) Op(0) checkbox\" type=\"checkbox\"/><svg class=\"Va(m)! H(16px) W(16px) checkbox:f+Stk($linkColor)! checkbox:f+Fill($linkColor)! Stk($plusGray) Fill($plusGray) Cur(p)\" data-icon=\"checkbox-unchecked\" height=\"16\" style=\"stroke-width:0;vertical-align:bottom\" viewbox=\"0 0 24 24\" width=\"16\"><path d=\"M3 3h18v18H3V3zm19-2H2c-.553 0-1 .448-1 1v20c0 .552.447 1 1 1h20c.552 0 1-.448 1-1V2c0-.552-.448-1-1-1z\"></path></svg></label><a class=\"Fw(600) C($linkColor)\" data-test=\"quoteLink\" href=\"/quote/RIVN\" title=\"Rivian Automotive, Inc.\">RIVN</a><div class=\"W(3px) Pos(a) Start(100%) T(0) H(100%) Bg($pfColumnFakeShadowGradient) Pe(n) Pend(5px)\"></div></td><td aria-label=\"Name\" class=\"Va(m) Ta(start) Px(10px) Fz(s)\" colspan=\"\">Rivian Automotive, Inc.</td><td aria-label=\"Price (Intraday)\" class=\"Va(m) Ta(end) Pstart(20px) Fw(600) Fz(s)\" colspan=\"\"><fin-streamer active=\"\" class=\"\" data-field=\"regularMarketPrice\" data-pricehint=\"2\" data-symbol=\"RIVN\" data-test=\"colorChange\" data-trend=\"none\" value=\"10.07\">10.07</fin-streamer></td><td aria-label=\"Change\" class=\"Va(m) Ta(end) Pstart(20px) Fw(600) Fz(s)\" colspan=\"\"><fin-streamer active=\"\" class=\"Fw(600)\" data-field=\"regularMarketChange\" data-pricehint=\"2\" data-symbol=\"RIVN\" data-test=\"colorChange\" data-trend=\"txt\" value=\"-1.3800001\"><span class=\"C($negativeColor)\">-1.38</span></fin-streamer></td><td aria-label=\"% Change\" class=\"Va(m) Ta(end) Pstart(20px) Fw(600) Fz(s)\" colspan=\"\"><fin-streamer active=\"\" class=\"Fw(600)\" data-field=\"regularMarketChangePercent\" data-pricehint=\"2\" data-symbol=\"RIVN\" data-test=\"colorChange\" data-trend=\"txt\" value=\"-12.0524025\"><span class=\"C($negativeColor)\">-12.05%</span></fin-streamer></td><td aria-label=\"Volume\" class=\"Va(m) Ta(end) Pstart(20px) Fz(s)\" colspan=\"\"><fin-streamer active=\"\" class=\"\" data-field=\"regularMarketVolume\" data-pricehint=\"2\" data-symbol=\"RIVN\" data-test=\"colorChange\" data-trend=\"none\" value=\"123712640\">123.713M</fin-streamer></td><td aria-label=\"Avg Vol (3 month)\" class=\"Va(m) Ta(end) Pstart(20px) Fz(s)\" colspan=\"\">38.182M</td><td aria-label=\"Market Cap\" class=\"Va(m) Ta(end) Pstart(20px) Pend(10px) W(120px) Fz(s)\" colspan=\"\"><fin-streamer active=\"\" class=\"\" data-field=\"marketCap\" data-pricehint=\"2\" data-symbol=\"RIVN\" data-test=\"colorChange\" data-trend=\"none\" value=\"9403617280\">9.404B</fin-streamer></td><td aria-label=\"PE Ratio (TTM)\" class=\"Va(m) Ta(end) Pstart(20px) Fz(s)\" colspan=\"\"><span>N/A</span></td><td aria-label=\"52 Week Range\" class=\"Va(m) Ta(end) Pstart(20px) Pend(6px) Fz(s)\" colspan=\"\"><canvas style=\"width:140px;height:23px\"></canvas></td></tr>"
      ]
     },
     "execution_count": 19,
     "metadata": {},
     "output_type": "execute_result"
    }
   ],
   "source": [
    "tr_class_tag1 = tr_class_tags[0]\n",
    "tr_class_tag1"
   ]
  },
  {
   "cell_type": "markdown",
   "metadata": {},
   "source": [
    "If we look within the first ```tr_tag``` in the image below, we can see that each element of the stock is within a ```td_tag```. We'll extract these tags next. \n",
    "\n",
    "Once we extract the ```td_tag```, we can then go on to extract the ```a_tag``` which is where the stock ticker is located (OXY). \n",
    "\n",
    "A stock ticker is the acronym that represent a stock."
   ]
  },
  {
   "cell_type": "markdown",
   "metadata": {},
   "source": [
    "![](https://i.imgur.com/wpmGEYY.png)"
   ]
  },
  {
   "cell_type": "code",
   "execution_count": 20,
   "metadata": {},
   "outputs": [
    {
     "data": {
      "text/plain": [
       "[<td aria-label=\"Symbol\" class=\"Va(m) Ta(start) Pstart(6px) Pend(10px) Miw(90px) Start(0) Pend(10px) simpTblRow:h_Bgc($hoverBgColor) Pos(st) Bgc($lv3BgColor) Z(1) Bgc($lv2BgColor) Ta(start)! Fz(s)\" colspan=\"\"><label class=\"Ta(c) Pos(r) Va(tb) Pend(5px) D(n)--print\" data-id=\"portfolio-checkbox\"><input aria-label=\"Select RIVN\" class=\"Pos(a) Op(0) checkbox\" type=\"checkbox\"/><svg class=\"Va(m)! H(16px) W(16px) checkbox:f+Stk($linkColor)! checkbox:f+Fill($linkColor)! Stk($plusGray) Fill($plusGray) Cur(p)\" data-icon=\"checkbox-unchecked\" height=\"16\" style=\"stroke-width:0;vertical-align:bottom\" viewbox=\"0 0 24 24\" width=\"16\"><path d=\"M3 3h18v18H3V3zm19-2H2c-.553 0-1 .448-1 1v20c0 .552.447 1 1 1h20c.552 0 1-.448 1-1V2c0-.552-.448-1-1-1z\"></path></svg></label><a class=\"Fw(600) C($linkColor)\" data-test=\"quoteLink\" href=\"/quote/RIVN\" title=\"Rivian Automotive, Inc.\">RIVN</a><div class=\"W(3px) Pos(a) Start(100%) T(0) H(100%) Bg($pfColumnFakeShadowGradient) Pe(n) Pend(5px)\"></div></td>,\n",
       " <td aria-label=\"Name\" class=\"Va(m) Ta(start) Px(10px) Fz(s)\" colspan=\"\">Rivian Automotive, Inc.</td>,\n",
       " <td aria-label=\"Price (Intraday)\" class=\"Va(m) Ta(end) Pstart(20px) Fw(600) Fz(s)\" colspan=\"\"><fin-streamer active=\"\" class=\"\" data-field=\"regularMarketPrice\" data-pricehint=\"2\" data-symbol=\"RIVN\" data-test=\"colorChange\" data-trend=\"none\" value=\"10.07\">10.07</fin-streamer></td>,\n",
       " <td aria-label=\"Change\" class=\"Va(m) Ta(end) Pstart(20px) Fw(600) Fz(s)\" colspan=\"\"><fin-streamer active=\"\" class=\"Fw(600)\" data-field=\"regularMarketChange\" data-pricehint=\"2\" data-symbol=\"RIVN\" data-test=\"colorChange\" data-trend=\"txt\" value=\"-1.3800001\"><span class=\"C($negativeColor)\">-1.38</span></fin-streamer></td>,\n",
       " <td aria-label=\"% Change\" class=\"Va(m) Ta(end) Pstart(20px) Fw(600) Fz(s)\" colspan=\"\"><fin-streamer active=\"\" class=\"Fw(600)\" data-field=\"regularMarketChangePercent\" data-pricehint=\"2\" data-symbol=\"RIVN\" data-test=\"colorChange\" data-trend=\"txt\" value=\"-12.0524025\"><span class=\"C($negativeColor)\">-12.05%</span></fin-streamer></td>,\n",
       " <td aria-label=\"Volume\" class=\"Va(m) Ta(end) Pstart(20px) Fz(s)\" colspan=\"\"><fin-streamer active=\"\" class=\"\" data-field=\"regularMarketVolume\" data-pricehint=\"2\" data-symbol=\"RIVN\" data-test=\"colorChange\" data-trend=\"none\" value=\"123712640\">123.713M</fin-streamer></td>,\n",
       " <td aria-label=\"Avg Vol (3 month)\" class=\"Va(m) Ta(end) Pstart(20px) Fz(s)\" colspan=\"\">38.182M</td>,\n",
       " <td aria-label=\"Market Cap\" class=\"Va(m) Ta(end) Pstart(20px) Pend(10px) W(120px) Fz(s)\" colspan=\"\"><fin-streamer active=\"\" class=\"\" data-field=\"marketCap\" data-pricehint=\"2\" data-symbol=\"RIVN\" data-test=\"colorChange\" data-trend=\"none\" value=\"9403617280\">9.404B</fin-streamer></td>,\n",
       " <td aria-label=\"PE Ratio (TTM)\" class=\"Va(m) Ta(end) Pstart(20px) Fz(s)\" colspan=\"\"><span>N/A</span></td>,\n",
       " <td aria-label=\"52 Week Range\" class=\"Va(m) Ta(end) Pstart(20px) Pend(6px) Fz(s)\" colspan=\"\"><canvas style=\"width:140px;height:23px\"></canvas></td>]"
      ]
     },
     "execution_count": 20,
     "metadata": {},
     "output_type": "execute_result"
    }
   ],
   "source": [
    "td_tag = tr_class_tag1.find_all('td')\n",
    "td_tag"
   ]
  },
  {
   "cell_type": "code",
   "execution_count": 21,
   "metadata": {},
   "outputs": [
    {
     "data": {
      "text/plain": [
       "[<a class=\"Fw(600) C($linkColor)\" data-test=\"quoteLink\" href=\"/quote/RIVN\" title=\"Rivian Automotive, Inc.\">RIVN</a>]"
      ]
     },
     "execution_count": 21,
     "metadata": {},
     "output_type": "execute_result"
    }
   ],
   "source": [
    "a_tag = td_tag[0].find_all('a', recursive=False)\n",
    "a_tag"
   ]
  },
  {
   "cell_type": "markdown",
   "metadata": {},
   "source": [
    "We'll now extract each of the elements of the first stock."
   ]
  },
  {
   "cell_type": "code",
   "execution_count": 22,
   "metadata": {},
   "outputs": [
    {
     "data": {
      "text/plain": [
       "'RIVN'"
      ]
     },
     "execution_count": 22,
     "metadata": {},
     "output_type": "execute_result"
    }
   ],
   "source": [
    "ticker_name = a_tag[0].text.strip()\n",
    "ticker_name"
   ]
  },
  {
   "cell_type": "code",
   "execution_count": 23,
   "metadata": {},
   "outputs": [
    {
     "data": {
      "text/plain": [
       "'Rivian Automotive, Inc.'"
      ]
     },
     "execution_count": 23,
     "metadata": {},
     "output_type": "execute_result"
    }
   ],
   "source": [
    "name_tag = td_tag[1].text\n",
    "name_tag"
   ]
  },
  {
   "cell_type": "code",
   "execution_count": 24,
   "metadata": {},
   "outputs": [
    {
     "data": {
      "text/plain": [
       "'10.07'"
      ]
     },
     "execution_count": 24,
     "metadata": {},
     "output_type": "execute_result"
    }
   ],
   "source": [
    "price_tag = td_tag[2].text\n",
    "price_tag"
   ]
  },
  {
   "cell_type": "code",
   "execution_count": 25,
   "metadata": {},
   "outputs": [
    {
     "data": {
      "text/plain": [
       "'-1.38'"
      ]
     },
     "execution_count": 25,
     "metadata": {},
     "output_type": "execute_result"
    }
   ],
   "source": [
    "daily_change_tag = td_tag[3].text\n",
    "daily_change_tag"
   ]
  },
  {
   "cell_type": "code",
   "execution_count": 26,
   "metadata": {},
   "outputs": [
    {
     "data": {
      "text/plain": [
       "'-12.05%'"
      ]
     },
     "execution_count": 26,
     "metadata": {},
     "output_type": "execute_result"
    }
   ],
   "source": [
    "daily_percentage_change_tag = td_tag[4].text\n",
    "daily_percentage_change_tag"
   ]
  },
  {
   "cell_type": "code",
   "execution_count": 27,
   "metadata": {},
   "outputs": [
    {
     "data": {
      "text/plain": [
       "'123.713M'"
      ]
     },
     "execution_count": 27,
     "metadata": {},
     "output_type": "execute_result"
    }
   ],
   "source": [
    "volume_tag = td_tag[5].text\n",
    "volume_tag"
   ]
  },
  {
   "cell_type": "code",
   "execution_count": 28,
   "metadata": {},
   "outputs": [
    {
     "data": {
      "text/plain": [
       "'38.182M'"
      ]
     },
     "execution_count": 28,
     "metadata": {},
     "output_type": "execute_result"
    }
   ],
   "source": [
    "avg_volume_tag = td_tag[6].text\n",
    "avg_volume_tag"
   ]
  },
  {
   "cell_type": "code",
   "execution_count": 29,
   "metadata": {},
   "outputs": [
    {
     "data": {
      "text/plain": [
       "'9.404B'"
      ]
     },
     "execution_count": 29,
     "metadata": {},
     "output_type": "execute_result"
    }
   ],
   "source": [
    "market_cap_tag = td_tag[7].text\n",
    "market_cap_tag"
   ]
  },
  {
   "cell_type": "code",
   "execution_count": 30,
   "metadata": {},
   "outputs": [
    {
     "data": {
      "text/plain": [
       "'N/A'"
      ]
     },
     "execution_count": 30,
     "metadata": {},
     "output_type": "execute_result"
    }
   ],
   "source": [
    "pe_ratio_tag = td_tag[8].text\n",
    "pe_ratio_tag"
   ]
  },
  {
   "cell_type": "markdown",
   "metadata": {},
   "source": [
    "Because volume, market capitalisation, and PE ratios are sometimes represented with M, k, and B to represent million, thousand, and billion respectively, we can create a function that turns these values into integers so that we can compare them more easily."
   ]
  },
  {
   "cell_type": "code",
   "execution_count": 31,
   "metadata": {},
   "outputs": [],
   "source": [
    "def parse_volume_market_tag(tag):\n",
    "    volume_str = tag.strip()\n",
    "    if volume_str[-1] == 'M':\n",
    "        return int(float(volume_str[:-1]) * 1000000)\n",
    "    elif volume_str[-1] == 'k':\n",
    "        return int(float(volume_str[:-1]) * 1000)\n",
    "    elif volume_str[-1] == 'B':\n",
    "        return int(float(volume_str[:-1]) * 1000000000)\n",
    "    elif volume_str[-1] == 'T':\n",
    "        return int(float(volume_str[:-1]) * 1000000000000)\n",
    "    else:\n",
    "        return int(volume_str.replace(',', ''))"
   ]
  },
  {
   "cell_type": "code",
   "execution_count": 32,
   "metadata": {},
   "outputs": [
    {
     "data": {
      "text/plain": [
       "5000"
      ]
     },
     "execution_count": 32,
     "metadata": {},
     "output_type": "execute_result"
    }
   ],
   "source": [
    "parse_volume_market_tag('5k')"
   ]
  },
  {
   "cell_type": "code",
   "execution_count": 33,
   "metadata": {},
   "outputs": [
    {
     "data": {
      "text/plain": [
       "200300000"
      ]
     },
     "execution_count": 33,
     "metadata": {},
     "output_type": "execute_result"
    }
   ],
   "source": [
    "parse_volume_market_tag('200.3M')"
   ]
  },
  {
   "cell_type": "code",
   "execution_count": 34,
   "metadata": {},
   "outputs": [
    {
     "data": {
      "text/plain": [
       "200"
      ]
     },
     "execution_count": 34,
     "metadata": {},
     "output_type": "execute_result"
    }
   ],
   "source": [
    "parse_volume_market_tag('200')"
   ]
  },
  {
   "cell_type": "code",
   "execution_count": 35,
   "metadata": {},
   "outputs": [
    {
     "data": {
      "text/plain": [
       "200400000000"
      ]
     },
     "execution_count": 35,
     "metadata": {},
     "output_type": "execute_result"
    }
   ],
   "source": [
    "parse_volume_market_tag('200.4B')"
   ]
  },
  {
   "cell_type": "code",
   "execution_count": 36,
   "metadata": {},
   "outputs": [
    {
     "data": {
      "text/plain": [
       "200500"
      ]
     },
     "execution_count": 36,
     "metadata": {},
     "output_type": "execute_result"
    }
   ],
   "source": [
    "parse_volume_market_tag('200,500')"
   ]
  },
  {
   "cell_type": "markdown",
   "metadata": {},
   "source": [
    "### 4. Create functions to display information"
   ]
  },
  {
   "cell_type": "markdown",
   "metadata": {},
   "source": [
    "We'll now create a function that can parse a ```tr_tag``` and create a corresponding dictionary of all the stock information."
   ]
  },
  {
   "cell_type": "code",
   "execution_count": 37,
   "metadata": {},
   "outputs": [],
   "source": [
    "def parse_stocks(tr_class_tag):\n",
    "    # <td> tags contain all of the stock info, <tr tags contain all of the individual details, <a> tags contain ticker name\n",
    "    td_tag = tr_class_tag.find_all('td')\n",
    "    a_tag = td_tag[0].find('a', recursive=False)\n",
    "    # Stock ticker\n",
    "    ticker_name = a_tag.text.strip()\n",
    "    # Stock name\n",
    "    name_tag = (td_tag[1].text).replace(\",\", \"\")\n",
    "    # Last price of stock\n",
    "    price_tag = float(td_tag[2].text)\n",
    "    # Stock change\n",
    "    daily_change_tag = td_tag[3].text\n",
    "    # Percentage change\n",
    "    daily_percentage_change_tag = td_tag[4].text\n",
    "    #Volume \n",
    "    volume_tag = parse_volume_market_tag(td_tag[5].text)\n",
    "    # Avg volume \n",
    "    avg_volume_tag = parse_volume_market_tag(td_tag[6].text)\n",
    "    # Market cap\n",
    "    market_cap_tag = parse_volume_market_tag(td_tag[7].text)\n",
    "    # PE ratio\n",
    "    pe_ratio_tag = td_tag[8].text\n",
    "    # Return a dictionary\n",
    "    return {\n",
    "        'Stock ticker': ticker_name,\n",
    "        'Stock name': name_tag,        \n",
    "        'Last price of stock': price_tag,\n",
    "        'Stock change': daily_change_tag,\n",
    "        'Stock percentage change' : daily_percentage_change_tag,\n",
    "        'Volume' : volume_tag,\n",
    "        'Average volume over 3 months' : avg_volume_tag,\n",
    "        'Market cap' : market_cap_tag,\n",
    "        'PE ratio' : pe_ratio_tag\n",
    "    }"
   ]
  },
  {
   "cell_type": "code",
   "execution_count": 38,
   "metadata": {},
   "outputs": [
    {
     "data": {
      "text/plain": [
       "{'Stock ticker': 'RIVN',\n",
       " 'Stock name': 'Rivian Automotive Inc.',\n",
       " 'Last price of stock': 10.07,\n",
       " 'Stock change': '-1.38',\n",
       " 'Stock percentage change': '-12.05%',\n",
       " 'Volume': 123713000,\n",
       " 'Average volume over 3 months': 38182000,\n",
       " 'Market cap': 9404000000,\n",
       " 'PE ratio': 'N/A'}"
      ]
     },
     "execution_count": 38,
     "metadata": {},
     "output_type": "execute_result"
    }
   ],
   "source": [
    "parse_stocks(tr_class_tags[0])"
   ]
  },
  {
   "cell_type": "code",
   "execution_count": 39,
   "metadata": {},
   "outputs": [
    {
     "data": {
      "text/plain": [
       "{'Stock ticker': 'NU',\n",
       " 'Stock name': 'Nu Holdings Ltd.',\n",
       " 'Last price of stock': 10.22,\n",
       " 'Stock change': '-0.14',\n",
       " 'Stock percentage change': '-1.35%',\n",
       " 'Volume': 76819000,\n",
       " 'Average volume over 3 months': 29936000,\n",
       " 'Market cap': 48595000000,\n",
       " 'PE ratio': '48.67'}"
      ]
     },
     "execution_count": 39,
     "metadata": {},
     "output_type": "execute_result"
    }
   ],
   "source": [
    "parse_stocks(tr_class_tags[4])"
   ]
  },
  {
   "cell_type": "markdown",
   "metadata": {},
   "source": [
    "We can also create a function to list all of the stock tickers from the article."
   ]
  },
  {
   "cell_type": "code",
   "execution_count": 40,
   "metadata": {},
   "outputs": [],
   "source": [
    "def list_tickers(tr_class_tag):\n",
    "    td_tag = tr_class_tag.find_all('td')\n",
    "    a_tag = td_tag[0].find('a', recursive=False)\n",
    "    # Stock ticker\n",
    "    ticker_name = a_tag.text.strip()\n",
    "    return ticker_name"
   ]
  },
  {
   "cell_type": "code",
   "execution_count": 41,
   "metadata": {},
   "outputs": [
    {
     "data": {
      "text/plain": [
       "'NU'"
      ]
     },
     "execution_count": 41,
     "metadata": {},
     "output_type": "execute_result"
    }
   ],
   "source": [
    "list_tickers(tr_class_tags[4])"
   ]
  },
  {
   "cell_type": "code",
   "execution_count": 42,
   "metadata": {},
   "outputs": [
    {
     "data": {
      "text/plain": [
       "['RIVN', 'WBD', 'NVDA', 'TSLA', 'NU']"
      ]
     },
     "execution_count": 42,
     "metadata": {},
     "output_type": "execute_result"
    }
   ],
   "source": [
    "stock_tickers = [list_tickers(x) for x in tr_class_tags]\n",
    "stock_tickers[:5]"
   ]
  },
  {
   "cell_type": "markdown",
   "metadata": {},
   "source": [
    "We'll now create a function that utilises list comprehension to parse the stock information for all of our stocks at once."
   ]
  },
  {
   "cell_type": "code",
   "execution_count": 43,
   "metadata": {},
   "outputs": [
    {
     "data": {
      "text/plain": [
       "[{'Stock ticker': 'RIVN',\n",
       "  'Stock name': 'Rivian Automotive Inc.',\n",
       "  'Last price of stock': 10.07,\n",
       "  'Stock change': '-1.38',\n",
       "  'Stock percentage change': '-12.05%',\n",
       "  'Volume': 123713000,\n",
       "  'Average volume over 3 months': 38182000,\n",
       "  'Market cap': 9404000000,\n",
       "  'PE ratio': 'N/A'},\n",
       " {'Stock ticker': 'WBD',\n",
       "  'Stock name': 'Warner Bros. Discovery Inc.',\n",
       "  'Last price of stock': 8.61,\n",
       "  'Stock change': '-0.95',\n",
       "  'Stock percentage change': '-9.94%',\n",
       "  'Volume': 98207000,\n",
       "  'Average volume over 3 months': 23808000,\n",
       "  'Market cap': 20996000000,\n",
       "  'PE ratio': 'N/A'},\n",
       " {'Stock ticker': 'NVDA',\n",
       "  'Stock name': 'NVIDIA Corporation',\n",
       "  'Last price of stock': 788.17,\n",
       "  'Stock change': '+2.79',\n",
       "  'Stock percentage change': '+0.36%',\n",
       "  'Volume': 82939000,\n",
       "  'Average volume over 3 months': 46059000,\n",
       "  'Market cap': 1970000000000,\n",
       "  'PE ratio': '66.23'},\n",
       " {'Stock ticker': 'TSLA',\n",
       "  'Stock name': 'Tesla Inc.',\n",
       "  'Last price of stock': 191.97,\n",
       "  'Stock change': '-5.44',\n",
       "  'Stock percentage change': '-2.76%',\n",
       "  'Volume': 78842000,\n",
       "  'Average volume over 3 months': 111153000,\n",
       "  'Market cap': 611384000000,\n",
       "  'PE ratio': '44.64'},\n",
       " {'Stock ticker': 'NU',\n",
       "  'Stock name': 'Nu Holdings Ltd.',\n",
       "  'Last price of stock': 10.22,\n",
       "  'Stock change': '-0.14',\n",
       "  'Stock percentage change': '-1.35%',\n",
       "  'Volume': 76819000,\n",
       "  'Average volume over 3 months': 29936000,\n",
       "  'Market cap': 48595000000,\n",
       "  'PE ratio': '48.67'}]"
      ]
     },
     "execution_count": 43,
     "metadata": {},
     "output_type": "execute_result"
    }
   ],
   "source": [
    "most_active_stocks = [parse_stocks(x) for x in tr_class_tags]\n",
    "most_active_stocks[:5]"
   ]
  },
  {
   "cell_type": "markdown",
   "metadata": {},
   "source": [
    "We can put all of our functions together to derive the top 5 most active 101 - 197 stocks from [another url](https://finance.yahoo.com/most-active?count=100&offset=100)."
   ]
  },
  {
   "cell_type": "code",
   "execution_count": 44,
   "metadata": {},
   "outputs": [],
   "source": [
    "def parse_stock_pages(offset_val):\n",
    "\n",
    "    url2 ='https://finance.yahoo.com/most-active?offset={}&count=100'.format(offset_val)\n",
    "\n",
    "    response2 = requests.get(url2, headers=headers)\n",
    "\n",
    "    download_web_page(url2)\n",
    "\n",
    "    with open('new-downloaded-web-page.html', 'r') as f:\n",
    "        html_source3 = f.read()\n",
    "\n",
    "    doc3 = BeautifulSoup(html_source3, 'html.parser')\n",
    "\n",
    "    tr_class_tags3 = doc3.find_all('tr',class_='simpTblRow')\n",
    "\n",
    "    most_active_stocks_100_200 = [parse_stocks(x) for x in tr_class_tags3]\n",
    "    return most_active_stocks_100_200"
   ]
  },
  {
   "cell_type": "code",
   "execution_count": 45,
   "metadata": {},
   "outputs": [
    {
     "name": "stdout",
     "output_type": "stream",
     "text": [
      "Status code is within an okay range of 200.\n"
     ]
    },
    {
     "data": {
      "text/plain": [
       "[{'Stock ticker': 'TSM',\n",
       "  'Stock name': 'Taiwan Semiconductor Manufacturing Company Limited',\n",
       "  'Last price of stock': 129.53,\n",
       "  'Stock change': '+0.46',\n",
       "  'Stock percentage change': '+0.36%',\n",
       "  'Volume': 10123000,\n",
       "  'Average volume over 3 months': 12170000,\n",
       "  'Market cap': 671796000000,\n",
       "  'PE ratio': '25.20'},\n",
       " {'Stock ticker': 'KGC',\n",
       "  'Stock name': 'Kinross Gold Corporation',\n",
       "  'Last price of stock': 4.98,\n",
       "  'Stock change': '+0.0500',\n",
       "  'Stock percentage change': '+1.01%',\n",
       "  'Volume': 9920000,\n",
       "  'Average volume over 3 months': 12791000,\n",
       "  'Market cap': 6129000000,\n",
       "  'PE ratio': '14.65'},\n",
       " {'Stock ticker': 'KMI',\n",
       "  'Stock name': 'Kinder Morgan Inc.',\n",
       "  'Last price of stock': 17.25,\n",
       "  'Stock change': '-0.01',\n",
       "  'Stock percentage change': '-0.06%',\n",
       "  'Volume': 9893000,\n",
       "  'Average volume over 3 months': 14709000,\n",
       "  'Market cap': 38284000000,\n",
       "  'PE ratio': '16.27'},\n",
       " {'Stock ticker': 'ET',\n",
       "  'Stock name': 'Energy Transfer LP',\n",
       "  'Last price of stock': 14.89,\n",
       "  'Stock change': '+0.10',\n",
       "  'Stock percentage change': '+0.68%',\n",
       "  'Volume': 9761000,\n",
       "  'Average volume over 3 months': 14972000,\n",
       "  'Market cap': 50146000000,\n",
       "  'PE ratio': '13.66'},\n",
       " {'Stock ticker': 'TOST',\n",
       "  'Stock name': 'Toast Inc.',\n",
       "  'Last price of stock': 21.09,\n",
       "  'Stock change': '+0.21',\n",
       "  'Stock percentage change': '+1.01%',\n",
       "  'Volume': 9628000,\n",
       "  'Average volume over 3 months': 9515000,\n",
       "  'Market cap': 11452000000,\n",
       "  'PE ratio': 'N/A'}]"
      ]
     },
     "execution_count": 45,
     "metadata": {},
     "output_type": "execute_result"
    }
   ],
   "source": [
    "most_active_5_stocks_next_page = parse_stock_pages(100)[:5]\n",
    "most_active_5_stocks_next_page"
   ]
  },
  {
   "cell_type": "code",
   "execution_count": 46,
   "metadata": {},
   "outputs": [
    {
     "name": "stdout",
     "output_type": "stream",
     "text": [
      "Status code is within an okay range of 200.\n"
     ]
    }
   ],
   "source": [
    "most_active_stocks_100_200 = parse_stock_pages(100)"
   ]
  },
  {
   "cell_type": "markdown",
   "metadata": {},
   "source": [
    "### 5. Create a CSV of the parsed information"
   ]
  },
  {
   "cell_type": "markdown",
   "metadata": {},
   "source": [
    "We can write a function that creates a CSV file from our parsed information."
   ]
  },
  {
   "cell_type": "code",
   "execution_count": 47,
   "metadata": {},
   "outputs": [],
   "source": [
    "def write_csv(items, path):\n",
    "    with open(path, 'w') as f:\n",
    "        if len(items) == 0:\n",
    "            return\n",
    "        \n",
    "        headers = list(items[0].keys())\n",
    "        f.write(','.join(headers) + '\\n')\n",
    "        \n",
    "        for item in items:\n",
    "            values = []\n",
    "            for header in headers:\n",
    "                values.append(str(item.get(header, \"\")))\n",
    "            f.write(','.join(values) + \"\\n\")"
   ]
  },
  {
   "cell_type": "code",
   "execution_count": 48,
   "metadata": {},
   "outputs": [],
   "source": [
    "write_csv(most_active_stocks, 'most-active-stocks.csv')"
   ]
  },
  {
   "cell_type": "code",
   "execution_count": 49,
   "metadata": {},
   "outputs": [],
   "source": [
    "write_csv(most_active_stocks_100_200, 'most-active-stocks-next-page.csv')"
   ]
  },
  {
   "cell_type": "code",
   "execution_count": 50,
   "metadata": {},
   "outputs": [
    {
     "name": "stdout",
     "output_type": "stream",
     "text": [
      "Stock ticker,Stock name,Last price of stock,Stock change,Stock percentage change,Volume,Average volume over 3 months,Market cap,PE ratio\n",
      "RIVN,Rivian Automotive Inc.,10.07,-1.38,-12.05%,123713000,38182000,9404000000,N/A\n",
      "WBD,Warner Bros. Discovery Inc.,8.61,-0.95,-9.94%,98207000,23808000,20996000000,N/A\n",
      "NVDA,NVIDIA Corporation,788.17,+2.79,+0.36%,82939000,46059000,1970000000000,66.23\n",
      "TSLA,Tesla Inc.,191.97,-5.44,-2.76%,78842000,111153000,611384000000,44.64\n",
      "NU,Nu Holdings Ltd.,10.22,-0.14,-1.35%,76819000,29936000,48595000000,48.67\n",
      "NIO,NIO Inc.,5.4,-0.45,-7.69%,75135000,63857000,12191000000,N/A\n",
      "AMD,Advanced Micro Devices Inc.,176.52,-5.34,-2.94%,69207000,72527000,285219000000,333.06\n",
      "AMZN,Amazon.com Inc.,174.99,+0.41,+0.23%,59715000,48769000,1818000000000,60.34\n",
      "SQ,Block Inc.,78.92,+10.96,+16.13%,53428000,11337000,48464000000,3,946.00\n",
      "PLTR,Palantir Technologies Inc.,22.97,-0.62,-2.63%,48841000,69410000,50826000000,255.22\n",
      "AAPL,Apple Inc.,182.52,-1.85,-1.00%,45120000,54123000,2818000000000,28.43\n",
      "MARA,Marathon Digital Holdings Inc.,23.99,-0.57,-2.32%,42059000,80420000,5341000000,N/A\n",
      "CVNA,Carvana Co.,69.23,+16.82,+32.09%,39061000,8656000,12295000000,N/A\n",
      "INTC,Intel Corporation,42.99,+0.01,+0.02%,33811000,43655000,181762000000,107.48\n",
      "PFE,Pfizer Inc.,27.76,+0.21,+0.76%,33183000,47056000,156755000000,75.03\n",
      "T,AT&T Inc.,16.8,+0.21,+1.27%,32271000,40254000,120120000000,8.53\n",
      "F,Ford Motor Company,12.14,+0.02,+0.17%,32152000,55435000,48240000000,11.24\n",
      "WBA,Walgreens Boots Alliance Inc.,21.73,+0.16,+0.74%,31887000,15257000,18739000000,32.92\n",
      "BAC,Bank of America Corporation,33.92,+0.31,+0.92%,30586000,42182000,267041000000,11.01\n",
      "ALTM,Arcadium Lithium plc,4.81,+0.1600,+3.44%,29668000,20144000,5168000000,N/A\n",
      "LYFT,Lyft Inc.,16.01,+0.10,+0.63%,28940000,18948000,6401000000,N/A\n",
      "LCID,Lucid Group Inc.,3.02,-0.0600,-1.95%,28481000,41240000,6944000000,N/A\n",
      "RUN,Sunrun Inc.,11.9,-0.88,-6.89%,28396000,15166000,2613000000,N/A\n",
      "GRAB,Grab Holdings Limited,3.16,0.0000,0.00%,28013000,21076000,12362000000,N/A\n",
      "VALE,Vale S.A.,13.47,-0.04,-0.30%,27601000,21331000,58321000000,7.36\n",
      "\n"
     ]
    }
   ],
   "source": [
    "with open('most-active-stocks.csv', 'r') as f:\n",
    "    print(f.read())"
   ]
  },
  {
   "cell_type": "code",
   "execution_count": 51,
   "metadata": {},
   "outputs": [
    {
     "name": "stdout",
     "output_type": "stream",
     "text": [
      "Stock ticker,Stock name,Last price of stock,Stock change,Stock percentage change,Volume,Average volume over 3 months,Market cap,PE ratio\n",
      "TSM,Taiwan Semiconductor Manufacturing Company Limited,129.53,+0.46,+0.36%,10123000,12170000,671796000000,25.20\n",
      "KGC,Kinross Gold Corporation,4.98,+0.0500,+1.01%,9920000,12791000,6129000000,14.65\n",
      "KMI,Kinder Morgan Inc.,17.25,-0.01,-0.06%,9893000,14709000,38284000000,16.27\n",
      "ET,Energy Transfer LP,14.89,+0.10,+0.68%,9761000,14972000,50146000000,13.66\n",
      "TOST,Toast Inc.,21.09,+0.21,+1.01%,9628000,9515000,11452000000,N/A\n",
      "DNA,Ginkgo Bioworks Holdings Inc.,1.32,0.0000,0.00%,9587000,21549000,2823000000,N/A\n",
      "PENN,PENN Entertainment Inc.,17.06,+0.45,+2.71%,9566000,5604000,2590000000,N/A\n",
      "KTOS,Kratos Defense & Security Solutions Inc.,18.05,-0.73,-3.89%,9548000,1206000,2346000000,N/A\n",
      "AGNC,AGNC Investment Corp.,9.51,+0.06,+0.63%,9525000,13635000,6610000000,190.20\n",
      "TCOM,Trip.com Group Limited,47.34,+2.67,+5.98%,9508000,3851000,30589000000,23.09\n",
      "UEC,Uranium Energy Corp.,6.35,-0.16,-2.46%,9317000,8616000,2495000000,635.00\n",
      "ERF,Enerplus Corporation,17.59,-0.32,-1.79%,9287000,2457000,3576000000,8.42\n",
      "JBLU,JetBlue Airways Corporation,6.41,-0.13,-1.99%,9185000,19147000,2175000000,N/A\n",
      "MRO,Marathon Oil Corporation,23.78,-0.20,-0.83%,9132000,9846000,13917000000,9.29\n",
      "DAL,Delta Air Lines Inc.,41.72,-0.30,-0.71%,9103000,10351000,26839000000,5.82\n",
      "BTE,Baytex Energy Corp.,3.4,-0.0400,-1.16%,8808000,8501000,2884000000,3.78\n",
      "IQ,iQIYI Inc.,3.51,-0.1000,-2.77%,8805000,8400000,3358000000,27.00\n",
      "HPE,Hewlett Packard Enterprise Company,15.11,+0.04,+0.27%,8561000,11944000,19640000000,9.81\n",
      "MRVL,Marvell Technology Inc.,67.58,-2.29,-3.28%,8542000,11709000,58423000000,N/A\n",
      "CNHI,CNH Industrial N.V.,12.22,+0.29,+2.43%,8523000,16126000,15742000000,6.94\n",
      "ROKU,Roku Inc.,64.48,+1.19,+1.88%,8515000,6919000,9254000000,N/A\n",
      "BN,Brookfield Corporation,41.25,+0.14,+0.34%,8431000,2498000,64525000000,67.62\n",
      "PR,Permian Resources Corporation,15.05,+0.03,+0.20%,8336000,8883000,11615000000,16.91\n",
      "SIRI,Sirius XM Holdings Inc.,4.76,+0.0300,+0.63%,8289000,13181000,18290000000,14.88\n",
      "LYG,Lloyds Banking Group plc,2.26,-0.0200,-0.88%,8263000,7932000,37217000000,5.95\n",
      "CVE,Cenovus Energy Inc.,17.62,+0.02,+0.11%,8089000,11351000,32944000000,11.22\n",
      "LI,Li Auto Inc.,34.8,-0.19,-0.54%,8026999,6691000,35642000000,151.30\n",
      "ETSY,Etsy Inc.,73.98,+3.36,+4.76%,7996000,4590000,8859000000,33.03\n",
      "TFC,Truist Financial Corporation,35.24,-0.40,-1.12%,7977000,10035000,47001000000,N/A\n",
      "APA,APA Corporation,30.03,-0.19,-0.63%,7868000,5412000,9056000000,3.25\n",
      "BTG,B2Gold Corp.,2.49,+0.0400,+1.63%,7801000,9279000,3265000000,249.00\n",
      "OXY,Occidental Petroleum Corporation,60.02,-0.51,-0.84%,7790000,10445000,52788000000,15.39\n",
      "RBLX,Roblox Corporation,41.46,-0.95,-2.24%,7759000,8289000,26188000000,N/A\n",
      "MFC,Manulife Financial Corporation,24.3,+0.04,+0.16%,7736000,3415000,43952000000,12.53\n",
      "ELAN,Elanco Animal Health Incorporated,16.37,+0.22,+1.36%,7686000,5128000,8067000000,N/A\n",
      "FOLD,Amicus Therapeutics Inc.,13.53,+0.13,+0.97%,7667000,3179000,3968000000,N/A\n",
      "U,Unity Software Inc.,31.26,+0.24,+0.77%,7642000,11255000,11879000000,N/A\n",
      "PINS,Pinterest Inc.,35.86,-0.13,-0.36%,7597000,10502000,24348000000,N/A\n",
      "ALIT,Alight Inc.,9.04,+0.12,+1.35%,7546000,6905000,4943000000,N/A\n",
      "ORCL,Oracle Corporation,111.95,+0.94,+0.85%,7505000,9599000,307742000000,30.93\n",
      "BA,The Boeing Company,200.83,-0.67,-0.33%,7433000,9343000,122533000000,N/A\n",
      "SLB,Schlumberger Limited,48.82,-0.44,-0.89%,7421000,11987000,69928000000,16.78\n",
      "AZN,AstraZeneca PLC,65.83,+1.70,+2.65%,7388000,6518000,204098000000,34.65\n",
      "MQ,Marqeta Inc.,6.55,+0.06,+0.92%,7316000,4871000,3418000000,N/A\n",
      "FTI,TechnipFMC plc,21.53,+0.01,+0.05%,7207000,4989000,9375000000,N/A\n",
      "COIN,Coinbase Global Inc.,165.98,-4.93,-2.88%,7191000,14124000,40213000000,448.59\n",
      "EBAY,eBay Inc.,44.01,-0.27,-0.61%,7145000,6235000,22841000000,8.84\n",
      "AUR,Aurora Innovation Inc.,2.57,+0.0200,+0.78%,7120000,6693000,3946000000,N/A\n",
      "JPM,JPMorgan Chase & Co.,183.99,+0.92,+0.50%,7106000,9415000,529958999999,11.34\n",
      "AFRM,Affirm Holdings Inc.,36.98,-0.35,-0.94%,7101000,19417000,11348000000,N/A\n",
      "DVN,Devon Energy Corporation,43.88,-0.09,-0.20%,7030000,8772000,28114000000,7.48\n",
      "DELL,Dell Technologies Inc.,90.35,+2.56,+2.92%,6997000,4319000,63817000000,25.03\n",
      "TAL,TAL Education Group,14.21,+0.81,+6.04%,6962000,8074000,9074000000,N/A\n",
      "NKE,NIKE Inc.,105.63,+0.55,+0.52%,6947000,9345000,160042000000,30.80\n",
      "BEKE,KE Holdings Inc.,14.14,+0.04,+0.28%,6909000,6636000,17445000000,22.09\n",
      "RCM,R1 RCM Inc.,11.1,-0.04,-0.36%,6896000,4025000,4654000000,N/A\n",
      "SBUX,Starbucks Corporation,95.62,-0.16,-0.17%,6845000,8899000,108263000000,25.57\n",
      "MO,Altria Group Inc.,41.13,+0.23,+0.56%,6809000,9269000,72531000000,9.00\n",
      "MDLZ,Mondelez International Inc.,73.98,-0.15,-0.20%,6733000,6624000,99613000000,20.44\n",
      "JNJ,Johnson & Johnson,161.84,+1.39,+0.87%,6726000,7320000,389835000000,31.12\n",
      "BP,BP p.l.c.,35.38,-0.11,-0.31%,6716000,8869000,100612000000,6.87\n",
      "W,Wayfair Inc.,52.56,-1.48,-2.74%,6673000,4623000,6199000000,N/A\n",
      "RKT,Rocket Companies Inc.,11.56,+0.58,+5.28%,6666000,2940000,22973000000,6.42\n",
      "AMCR,Amcor plc,9.27,+0.01,+0.11%,6655000,8971000,13398000000,21.07\n",
      "GFI,Gold Fields Limited,12.92,+0.19,+1.49%,6619000,4902000,11545000000,16.35\n",
      "UAL,United Airlines Holdings Inc.,45.51,+0.25,+0.55%,6576000,8900000,14928000000,5.77\n",
      "CVX,Chevron Corporation,154.66,-0.77,-0.50%,6562000,9801000,286276000000,13.60\n",
      "RKLB,Rocket Lab USA Inc.,4.38,-0.0600,-1.35%,6560000,8699000,2128000000,N/A\n",
      "NI,NiSource Inc.,26.12,+0.08,+0.31%,6536000,4537000,11689000000,17.65\n",
      "UMC,United Microelectronics Corporation,7.56,-0.20,-2.58%,6524000,7029000,19132000000,8.49\n",
      "NOK,Nokia Oyj,3.54,-0.0400,-1.12%,6502000,16482000,19588000000,27.23\n",
      "HAL,Halliburton Company,35.21,-0.09,-0.25%,6490000,7675000,31340000000,12.06\n",
      "USB,U.S. Bancorp,41.36,+0.01,+0.02%,6425000,9821000,64444000000,12.65\n",
      "PEP,PepsiCo Inc.,169.6,+1.35,+0.80%,6410000,5576000,233103000000,25.85\n",
      "COLD,Americold Realty Trust Inc.,25.77,-2.53,-8.94%,6371000,2081000,7327000000,N/A\n",
      "QS,QuantumScape Corporation,6.04,-0.17,-2.74%,6359000,10691000,2957000000,N/A\n",
      "RYCEY,Rolls-Royce Holdings plc,4.44,-0.0300,-0.67%,6345000,3485000,37949000000,12.33\n",
      "DXCM,DexCom Inc.,116.26,-1.24,-1.06%,6214000,3000000,44820000000,89.43\n",
      "EOG,EOG Resources Inc.,111.86,-4.54,-3.90%,6201000,3351000,65230999999,8.60\n",
      "KHC,The Kraft Heinz Company,36.05,-0.36,-0.99%,6194000,8603000,43732000000,15.61\n",
      "MOS,The Mosaic Company,31.48,-0.74,-2.30%,6120000,4711000,10203000000,8.99\n",
      "IVZ,Invesco Ltd.,15.34,-0.28,-1.79%,6089000,5905000,6891000000,N/A\n",
      "ON,ON Semiconductor Corporation,76.19,-2.17,-2.77%,5997000,7348000,32558000000,15.58\n",
      "QCOM,QUALCOMM Incorporated,154.91,+0.16,+0.10%,5953000,8986000,172880000000,22.07\n",
      "PATH,UiPath Inc.,23.33,-0.09,-0.38%,5940000,11033000,13207000000,N/A\n",
      "PBR-A,PetrÃ³leo Brasileiro S.A. - Petrobras,16.79,-0.20,-1.18%,5921000,6140000,112769000000,4.08\n",
      "VRT,Vertiv Holdings Co,62.7,-0.20,-0.32%,5906000,6776000,23938000000,52.69\n",
      "CX,CEMEX S.A.B. de C.V.,8.15,+0.14,+1.75%,5894000,5695000,11808000000,22.64\n",
      "AES,The AES Corporation,16.0,0.00,0.00%,5891000,5942000,10714000000,N/A\n",
      "FYBR,Frontier Communications Parent Inc.,22.13,+0.50,+2.31%,5878000,1716000,5439000000,184.42\n",
      "NWL,Newell Brands Inc.,7.25,-0.27,-3.59%,5870000,4568000,3004000000,N/A\n",
      "CM,Canadian Imperial Bank of Commerce,46.95,+0.18,+0.38%,5861000,1809000,43777000000,12.26\n",
      "MS,Morgan Stanley,86.55,+0.70,+0.82%,5810000,8443000,142055000000,16.71\n",
      "RTX,RTX Corporation,90.01,+0.48,+0.54%,5810000,7675000,119428000000,40.36\n",
      "FLNC,Fluence Energy Inc.,14.41,-0.32,-2.14%,5795000,2870000,2574000000,N/A\n",
      "LYV,Live Nation Entertainment Inc.,95.32,+1.83,+1.96%,5788000,2198000,22000000000,69.58\n",
      "EQT,EQT Corporation,37.01,-0.31,-0.83%,5778000,5820000,16300000000,8.77\n",
      "VICI,VICI Properties Inc.,30.05,+0.35,+1.18%,5775000,6452000,31333000000,12.17\n",
      "CRK,Comstock Resources Inc.,7.95,-0.35,-4.22%,5766000,4803000,2214000000,10.46\n",
      "CFLT,Confluent Inc.,33.18,-0.66,-1.95%,5761000,5483000,10373000000,N/A\n",
      "\n"
     ]
    }
   ],
   "source": [
    "with open('most-active-stocks-next-page.csv', 'r') as f:\n",
    "    print(f.read())"
   ]
  },
  {
   "cell_type": "markdown",
   "metadata": {},
   "source": [
    "### 6. Display the CSV files in Pandas data frames"
   ]
  },
  {
   "cell_type": "code",
   "execution_count": 52,
   "metadata": {},
   "outputs": [],
   "source": [
    "import pandas as pd"
   ]
  },
  {
   "cell_type": "code",
   "execution_count": 55,
   "metadata": {
    "scrolled": true
   },
   "outputs": [
    {
     "data": {
      "text/html": [
       "<div>\n",
       "<style scoped>\n",
       "    .dataframe tbody tr th:only-of-type {\n",
       "        vertical-align: middle;\n",
       "    }\n",
       "\n",
       "    .dataframe tbody tr th {\n",
       "        vertical-align: top;\n",
       "    }\n",
       "\n",
       "    .dataframe thead th {\n",
       "        text-align: right;\n",
       "    }\n",
       "</style>\n",
       "<table border=\"1\" class=\"dataframe\">\n",
       "  <thead>\n",
       "    <tr style=\"text-align: right;\">\n",
       "      <th></th>\n",
       "      <th>Stock ticker</th>\n",
       "      <th>Stock name</th>\n",
       "      <th>Last price of stock</th>\n",
       "      <th>Stock change</th>\n",
       "      <th>Stock percentage change</th>\n",
       "      <th>Volume</th>\n",
       "      <th>Average volume over 3 months</th>\n",
       "      <th>Market cap</th>\n",
       "      <th>PE ratio</th>\n",
       "    </tr>\n",
       "  </thead>\n",
       "  <tbody>\n",
       "    <tr>\n",
       "      <th>0</th>\n",
       "      <td>RIVN</td>\n",
       "      <td>Rivian Automotive Inc.</td>\n",
       "      <td>10.07</td>\n",
       "      <td>-1.38</td>\n",
       "      <td>-12.05%</td>\n",
       "      <td>123713000</td>\n",
       "      <td>38182000</td>\n",
       "      <td>9.404000e+09</td>\n",
       "      <td>NaN</td>\n",
       "    </tr>\n",
       "    <tr>\n",
       "      <th>1</th>\n",
       "      <td>WBD</td>\n",
       "      <td>Warner Bros. Discovery Inc.</td>\n",
       "      <td>8.61</td>\n",
       "      <td>-0.95</td>\n",
       "      <td>-9.94%</td>\n",
       "      <td>98207000</td>\n",
       "      <td>23808000</td>\n",
       "      <td>2.099600e+10</td>\n",
       "      <td>NaN</td>\n",
       "    </tr>\n",
       "    <tr>\n",
       "      <th>2</th>\n",
       "      <td>NVDA</td>\n",
       "      <td>NVIDIA Corporation</td>\n",
       "      <td>788.17</td>\n",
       "      <td>2.79</td>\n",
       "      <td>0.36%</td>\n",
       "      <td>82939000</td>\n",
       "      <td>46059000</td>\n",
       "      <td>1.970000e+12</td>\n",
       "      <td>66.23</td>\n",
       "    </tr>\n",
       "    <tr>\n",
       "      <th>3</th>\n",
       "      <td>TSLA</td>\n",
       "      <td>Tesla Inc.</td>\n",
       "      <td>191.97</td>\n",
       "      <td>-5.44</td>\n",
       "      <td>-2.76%</td>\n",
       "      <td>78842000</td>\n",
       "      <td>111153000</td>\n",
       "      <td>6.113840e+11</td>\n",
       "      <td>44.64</td>\n",
       "    </tr>\n",
       "    <tr>\n",
       "      <th>4</th>\n",
       "      <td>NU</td>\n",
       "      <td>Nu Holdings Ltd.</td>\n",
       "      <td>10.22</td>\n",
       "      <td>-0.14</td>\n",
       "      <td>-1.35%</td>\n",
       "      <td>76819000</td>\n",
       "      <td>29936000</td>\n",
       "      <td>4.859500e+10</td>\n",
       "      <td>48.67</td>\n",
       "    </tr>\n",
       "    <tr>\n",
       "      <th>5</th>\n",
       "      <td>NIO</td>\n",
       "      <td>NIO Inc.</td>\n",
       "      <td>5.40</td>\n",
       "      <td>-0.45</td>\n",
       "      <td>-7.69%</td>\n",
       "      <td>75135000</td>\n",
       "      <td>63857000</td>\n",
       "      <td>1.219100e+10</td>\n",
       "      <td>NaN</td>\n",
       "    </tr>\n",
       "    <tr>\n",
       "      <th>6</th>\n",
       "      <td>AMD</td>\n",
       "      <td>Advanced Micro Devices Inc.</td>\n",
       "      <td>176.52</td>\n",
       "      <td>-5.34</td>\n",
       "      <td>-2.94%</td>\n",
       "      <td>69207000</td>\n",
       "      <td>72527000</td>\n",
       "      <td>2.852190e+11</td>\n",
       "      <td>333.06</td>\n",
       "    </tr>\n",
       "    <tr>\n",
       "      <th>7</th>\n",
       "      <td>AMZN</td>\n",
       "      <td>Amazon.com Inc.</td>\n",
       "      <td>174.99</td>\n",
       "      <td>0.41</td>\n",
       "      <td>0.23%</td>\n",
       "      <td>59715000</td>\n",
       "      <td>48769000</td>\n",
       "      <td>1.818000e+12</td>\n",
       "      <td>60.34</td>\n",
       "    </tr>\n",
       "    <tr>\n",
       "      <th>8</th>\n",
       "      <td>SQ</td>\n",
       "      <td>Block Inc.</td>\n",
       "      <td>78.92</td>\n",
       "      <td>10.96</td>\n",
       "      <td>16.13%</td>\n",
       "      <td>53428000</td>\n",
       "      <td>11337000</td>\n",
       "      <td>4.846400e+10</td>\n",
       "      <td>3.00</td>\n",
       "    </tr>\n",
       "    <tr>\n",
       "      <th>9</th>\n",
       "      <td>PLTR</td>\n",
       "      <td>Palantir Technologies Inc.</td>\n",
       "      <td>22.97</td>\n",
       "      <td>-0.62</td>\n",
       "      <td>-2.63%</td>\n",
       "      <td>48841000</td>\n",
       "      <td>69410000</td>\n",
       "      <td>5.082600e+10</td>\n",
       "      <td>255.22</td>\n",
       "    </tr>\n",
       "    <tr>\n",
       "      <th>10</th>\n",
       "      <td>AAPL</td>\n",
       "      <td>Apple Inc.</td>\n",
       "      <td>182.52</td>\n",
       "      <td>-1.85</td>\n",
       "      <td>-1.00%</td>\n",
       "      <td>45120000</td>\n",
       "      <td>54123000</td>\n",
       "      <td>2.818000e+12</td>\n",
       "      <td>28.43</td>\n",
       "    </tr>\n",
       "    <tr>\n",
       "      <th>11</th>\n",
       "      <td>MARA</td>\n",
       "      <td>Marathon Digital Holdings Inc.</td>\n",
       "      <td>23.99</td>\n",
       "      <td>-0.57</td>\n",
       "      <td>-2.32%</td>\n",
       "      <td>42059000</td>\n",
       "      <td>80420000</td>\n",
       "      <td>5.341000e+09</td>\n",
       "      <td>NaN</td>\n",
       "    </tr>\n",
       "    <tr>\n",
       "      <th>12</th>\n",
       "      <td>CVNA</td>\n",
       "      <td>Carvana Co.</td>\n",
       "      <td>69.23</td>\n",
       "      <td>16.82</td>\n",
       "      <td>32.09%</td>\n",
       "      <td>39061000</td>\n",
       "      <td>8656000</td>\n",
       "      <td>1.229500e+10</td>\n",
       "      <td>NaN</td>\n",
       "    </tr>\n",
       "    <tr>\n",
       "      <th>13</th>\n",
       "      <td>INTC</td>\n",
       "      <td>Intel Corporation</td>\n",
       "      <td>42.99</td>\n",
       "      <td>0.01</td>\n",
       "      <td>0.02%</td>\n",
       "      <td>33811000</td>\n",
       "      <td>43655000</td>\n",
       "      <td>1.817620e+11</td>\n",
       "      <td>107.48</td>\n",
       "    </tr>\n",
       "    <tr>\n",
       "      <th>14</th>\n",
       "      <td>PFE</td>\n",
       "      <td>Pfizer Inc.</td>\n",
       "      <td>27.76</td>\n",
       "      <td>0.21</td>\n",
       "      <td>0.76%</td>\n",
       "      <td>33183000</td>\n",
       "      <td>47056000</td>\n",
       "      <td>1.567550e+11</td>\n",
       "      <td>75.03</td>\n",
       "    </tr>\n",
       "    <tr>\n",
       "      <th>15</th>\n",
       "      <td>T</td>\n",
       "      <td>AT&amp;T Inc.</td>\n",
       "      <td>16.80</td>\n",
       "      <td>0.21</td>\n",
       "      <td>1.27%</td>\n",
       "      <td>32271000</td>\n",
       "      <td>40254000</td>\n",
       "      <td>1.201200e+11</td>\n",
       "      <td>8.53</td>\n",
       "    </tr>\n",
       "    <tr>\n",
       "      <th>16</th>\n",
       "      <td>F</td>\n",
       "      <td>Ford Motor Company</td>\n",
       "      <td>12.14</td>\n",
       "      <td>0.02</td>\n",
       "      <td>0.17%</td>\n",
       "      <td>32152000</td>\n",
       "      <td>55435000</td>\n",
       "      <td>4.824000e+10</td>\n",
       "      <td>11.24</td>\n",
       "    </tr>\n",
       "    <tr>\n",
       "      <th>17</th>\n",
       "      <td>WBA</td>\n",
       "      <td>Walgreens Boots Alliance Inc.</td>\n",
       "      <td>21.73</td>\n",
       "      <td>0.16</td>\n",
       "      <td>0.74%</td>\n",
       "      <td>31887000</td>\n",
       "      <td>15257000</td>\n",
       "      <td>1.873900e+10</td>\n",
       "      <td>32.92</td>\n",
       "    </tr>\n",
       "    <tr>\n",
       "      <th>18</th>\n",
       "      <td>BAC</td>\n",
       "      <td>Bank of America Corporation</td>\n",
       "      <td>33.92</td>\n",
       "      <td>0.31</td>\n",
       "      <td>0.92%</td>\n",
       "      <td>30586000</td>\n",
       "      <td>42182000</td>\n",
       "      <td>2.670410e+11</td>\n",
       "      <td>11.01</td>\n",
       "    </tr>\n",
       "    <tr>\n",
       "      <th>19</th>\n",
       "      <td>ALTM</td>\n",
       "      <td>Arcadium Lithium plc</td>\n",
       "      <td>4.81</td>\n",
       "      <td>0.16</td>\n",
       "      <td>3.44%</td>\n",
       "      <td>29668000</td>\n",
       "      <td>20144000</td>\n",
       "      <td>5.168000e+09</td>\n",
       "      <td>NaN</td>\n",
       "    </tr>\n",
       "    <tr>\n",
       "      <th>20</th>\n",
       "      <td>LYFT</td>\n",
       "      <td>Lyft Inc.</td>\n",
       "      <td>16.01</td>\n",
       "      <td>0.10</td>\n",
       "      <td>0.63%</td>\n",
       "      <td>28940000</td>\n",
       "      <td>18948000</td>\n",
       "      <td>6.401000e+09</td>\n",
       "      <td>NaN</td>\n",
       "    </tr>\n",
       "    <tr>\n",
       "      <th>21</th>\n",
       "      <td>LCID</td>\n",
       "      <td>Lucid Group Inc.</td>\n",
       "      <td>3.02</td>\n",
       "      <td>-0.06</td>\n",
       "      <td>-1.95%</td>\n",
       "      <td>28481000</td>\n",
       "      <td>41240000</td>\n",
       "      <td>6.944000e+09</td>\n",
       "      <td>NaN</td>\n",
       "    </tr>\n",
       "    <tr>\n",
       "      <th>22</th>\n",
       "      <td>RUN</td>\n",
       "      <td>Sunrun Inc.</td>\n",
       "      <td>11.90</td>\n",
       "      <td>-0.88</td>\n",
       "      <td>-6.89%</td>\n",
       "      <td>28396000</td>\n",
       "      <td>15166000</td>\n",
       "      <td>2.613000e+09</td>\n",
       "      <td>NaN</td>\n",
       "    </tr>\n",
       "    <tr>\n",
       "      <th>23</th>\n",
       "      <td>GRAB</td>\n",
       "      <td>Grab Holdings Limited</td>\n",
       "      <td>3.16</td>\n",
       "      <td>0.00</td>\n",
       "      <td>0.00%</td>\n",
       "      <td>28013000</td>\n",
       "      <td>21076000</td>\n",
       "      <td>1.236200e+10</td>\n",
       "      <td>NaN</td>\n",
       "    </tr>\n",
       "    <tr>\n",
       "      <th>24</th>\n",
       "      <td>VALE</td>\n",
       "      <td>Vale S.A.</td>\n",
       "      <td>13.47</td>\n",
       "      <td>-0.04</td>\n",
       "      <td>-0.30%</td>\n",
       "      <td>27601000</td>\n",
       "      <td>21331000</td>\n",
       "      <td>5.832100e+10</td>\n",
       "      <td>7.36</td>\n",
       "    </tr>\n",
       "  </tbody>\n",
       "</table>\n",
       "</div>"
      ],
      "text/plain": [
       "   Stock ticker                      Stock name  Last price of stock  \\\n",
       "0          RIVN          Rivian Automotive Inc.                10.07   \n",
       "1           WBD     Warner Bros. Discovery Inc.                 8.61   \n",
       "2          NVDA              NVIDIA Corporation               788.17   \n",
       "3          TSLA                      Tesla Inc.               191.97   \n",
       "4            NU                Nu Holdings Ltd.                10.22   \n",
       "5           NIO                        NIO Inc.                 5.40   \n",
       "6           AMD     Advanced Micro Devices Inc.               176.52   \n",
       "7          AMZN                 Amazon.com Inc.               174.99   \n",
       "8            SQ                      Block Inc.                78.92   \n",
       "9          PLTR      Palantir Technologies Inc.                22.97   \n",
       "10         AAPL                      Apple Inc.               182.52   \n",
       "11         MARA  Marathon Digital Holdings Inc.                23.99   \n",
       "12         CVNA                     Carvana Co.                69.23   \n",
       "13         INTC               Intel Corporation                42.99   \n",
       "14          PFE                     Pfizer Inc.                27.76   \n",
       "15            T                       AT&T Inc.                16.80   \n",
       "16            F              Ford Motor Company                12.14   \n",
       "17          WBA   Walgreens Boots Alliance Inc.                21.73   \n",
       "18          BAC     Bank of America Corporation                33.92   \n",
       "19         ALTM            Arcadium Lithium plc                 4.81   \n",
       "20         LYFT                       Lyft Inc.                16.01   \n",
       "21         LCID                Lucid Group Inc.                 3.02   \n",
       "22          RUN                     Sunrun Inc.                11.90   \n",
       "23         GRAB           Grab Holdings Limited                 3.16   \n",
       "24         VALE                       Vale S.A.                13.47   \n",
       "\n",
       "    Stock change Stock percentage change     Volume  \\\n",
       "0          -1.38                 -12.05%  123713000   \n",
       "1          -0.95                  -9.94%   98207000   \n",
       "2           2.79                   0.36%   82939000   \n",
       "3          -5.44                  -2.76%   78842000   \n",
       "4          -0.14                  -1.35%   76819000   \n",
       "5          -0.45                  -7.69%   75135000   \n",
       "6          -5.34                  -2.94%   69207000   \n",
       "7           0.41                   0.23%   59715000   \n",
       "8          10.96                  16.13%   53428000   \n",
       "9          -0.62                  -2.63%   48841000   \n",
       "10         -1.85                  -1.00%   45120000   \n",
       "11         -0.57                  -2.32%   42059000   \n",
       "12         16.82                  32.09%   39061000   \n",
       "13          0.01                   0.02%   33811000   \n",
       "14          0.21                   0.76%   33183000   \n",
       "15          0.21                   1.27%   32271000   \n",
       "16          0.02                   0.17%   32152000   \n",
       "17          0.16                   0.74%   31887000   \n",
       "18          0.31                   0.92%   30586000   \n",
       "19          0.16                   3.44%   29668000   \n",
       "20          0.10                   0.63%   28940000   \n",
       "21         -0.06                  -1.95%   28481000   \n",
       "22         -0.88                  -6.89%   28396000   \n",
       "23          0.00                   0.00%   28013000   \n",
       "24         -0.04                  -0.30%   27601000   \n",
       "\n",
       "    Average volume over 3 months    Market cap  PE ratio  \n",
       "0                       38182000  9.404000e+09       NaN  \n",
       "1                       23808000  2.099600e+10       NaN  \n",
       "2                       46059000  1.970000e+12     66.23  \n",
       "3                      111153000  6.113840e+11     44.64  \n",
       "4                       29936000  4.859500e+10     48.67  \n",
       "5                       63857000  1.219100e+10       NaN  \n",
       "6                       72527000  2.852190e+11    333.06  \n",
       "7                       48769000  1.818000e+12     60.34  \n",
       "8                       11337000  4.846400e+10      3.00  \n",
       "9                       69410000  5.082600e+10    255.22  \n",
       "10                      54123000  2.818000e+12     28.43  \n",
       "11                      80420000  5.341000e+09       NaN  \n",
       "12                       8656000  1.229500e+10       NaN  \n",
       "13                      43655000  1.817620e+11    107.48  \n",
       "14                      47056000  1.567550e+11     75.03  \n",
       "15                      40254000  1.201200e+11      8.53  \n",
       "16                      55435000  4.824000e+10     11.24  \n",
       "17                      15257000  1.873900e+10     32.92  \n",
       "18                      42182000  2.670410e+11     11.01  \n",
       "19                      20144000  5.168000e+09       NaN  \n",
       "20                      18948000  6.401000e+09       NaN  \n",
       "21                      41240000  6.944000e+09       NaN  \n",
       "22                      15166000  2.613000e+09       NaN  \n",
       "23                      21076000  1.236200e+10       NaN  \n",
       "24                      21331000  5.832100e+10      7.36  "
      ]
     },
     "execution_count": 55,
     "metadata": {},
     "output_type": "execute_result"
    }
   ],
   "source": [
    "most_active_df = pd.read_csv('most-active-stocks.csv')\n",
    "most_active_df"
   ]
  },
  {
   "cell_type": "markdown",
   "metadata": {},
   "source": [
    "We'll now look at a few different data frames that are sorted by different values."
   ]
  },
  {
   "cell_type": "code",
   "execution_count": 56,
   "metadata": {},
   "outputs": [
    {
     "data": {
      "text/html": [
       "<div>\n",
       "<style scoped>\n",
       "    .dataframe tbody tr th:only-of-type {\n",
       "        vertical-align: middle;\n",
       "    }\n",
       "\n",
       "    .dataframe tbody tr th {\n",
       "        vertical-align: top;\n",
       "    }\n",
       "\n",
       "    .dataframe thead th {\n",
       "        text-align: right;\n",
       "    }\n",
       "</style>\n",
       "<table border=\"1\" class=\"dataframe\">\n",
       "  <thead>\n",
       "    <tr style=\"text-align: right;\">\n",
       "      <th></th>\n",
       "      <th>Stock ticker</th>\n",
       "      <th>Stock name</th>\n",
       "      <th>Last price of stock</th>\n",
       "      <th>Stock change</th>\n",
       "      <th>Stock percentage change</th>\n",
       "      <th>Volume</th>\n",
       "      <th>Average volume over 3 months</th>\n",
       "      <th>Market cap</th>\n",
       "      <th>PE ratio</th>\n",
       "    </tr>\n",
       "  </thead>\n",
       "  <tbody>\n",
       "    <tr>\n",
       "      <th>10</th>\n",
       "      <td>AAPL</td>\n",
       "      <td>Apple Inc.</td>\n",
       "      <td>182.52</td>\n",
       "      <td>-1.85</td>\n",
       "      <td>-1.00%</td>\n",
       "      <td>45120000</td>\n",
       "      <td>54123000</td>\n",
       "      <td>2.818000e+12</td>\n",
       "      <td>28.43</td>\n",
       "    </tr>\n",
       "    <tr>\n",
       "      <th>2</th>\n",
       "      <td>NVDA</td>\n",
       "      <td>NVIDIA Corporation</td>\n",
       "      <td>788.17</td>\n",
       "      <td>2.79</td>\n",
       "      <td>0.36%</td>\n",
       "      <td>82939000</td>\n",
       "      <td>46059000</td>\n",
       "      <td>1.970000e+12</td>\n",
       "      <td>66.23</td>\n",
       "    </tr>\n",
       "    <tr>\n",
       "      <th>7</th>\n",
       "      <td>AMZN</td>\n",
       "      <td>Amazon.com Inc.</td>\n",
       "      <td>174.99</td>\n",
       "      <td>0.41</td>\n",
       "      <td>0.23%</td>\n",
       "      <td>59715000</td>\n",
       "      <td>48769000</td>\n",
       "      <td>1.818000e+12</td>\n",
       "      <td>60.34</td>\n",
       "    </tr>\n",
       "    <tr>\n",
       "      <th>3</th>\n",
       "      <td>TSLA</td>\n",
       "      <td>Tesla Inc.</td>\n",
       "      <td>191.97</td>\n",
       "      <td>-5.44</td>\n",
       "      <td>-2.76%</td>\n",
       "      <td>78842000</td>\n",
       "      <td>111153000</td>\n",
       "      <td>6.113840e+11</td>\n",
       "      <td>44.64</td>\n",
       "    </tr>\n",
       "    <tr>\n",
       "      <th>6</th>\n",
       "      <td>AMD</td>\n",
       "      <td>Advanced Micro Devices Inc.</td>\n",
       "      <td>176.52</td>\n",
       "      <td>-5.34</td>\n",
       "      <td>-2.94%</td>\n",
       "      <td>69207000</td>\n",
       "      <td>72527000</td>\n",
       "      <td>2.852190e+11</td>\n",
       "      <td>333.06</td>\n",
       "    </tr>\n",
       "    <tr>\n",
       "      <th>18</th>\n",
       "      <td>BAC</td>\n",
       "      <td>Bank of America Corporation</td>\n",
       "      <td>33.92</td>\n",
       "      <td>0.31</td>\n",
       "      <td>0.92%</td>\n",
       "      <td>30586000</td>\n",
       "      <td>42182000</td>\n",
       "      <td>2.670410e+11</td>\n",
       "      <td>11.01</td>\n",
       "    </tr>\n",
       "    <tr>\n",
       "      <th>13</th>\n",
       "      <td>INTC</td>\n",
       "      <td>Intel Corporation</td>\n",
       "      <td>42.99</td>\n",
       "      <td>0.01</td>\n",
       "      <td>0.02%</td>\n",
       "      <td>33811000</td>\n",
       "      <td>43655000</td>\n",
       "      <td>1.817620e+11</td>\n",
       "      <td>107.48</td>\n",
       "    </tr>\n",
       "    <tr>\n",
       "      <th>14</th>\n",
       "      <td>PFE</td>\n",
       "      <td>Pfizer Inc.</td>\n",
       "      <td>27.76</td>\n",
       "      <td>0.21</td>\n",
       "      <td>0.76%</td>\n",
       "      <td>33183000</td>\n",
       "      <td>47056000</td>\n",
       "      <td>1.567550e+11</td>\n",
       "      <td>75.03</td>\n",
       "    </tr>\n",
       "    <tr>\n",
       "      <th>15</th>\n",
       "      <td>T</td>\n",
       "      <td>AT&amp;T Inc.</td>\n",
       "      <td>16.80</td>\n",
       "      <td>0.21</td>\n",
       "      <td>1.27%</td>\n",
       "      <td>32271000</td>\n",
       "      <td>40254000</td>\n",
       "      <td>1.201200e+11</td>\n",
       "      <td>8.53</td>\n",
       "    </tr>\n",
       "    <tr>\n",
       "      <th>24</th>\n",
       "      <td>VALE</td>\n",
       "      <td>Vale S.A.</td>\n",
       "      <td>13.47</td>\n",
       "      <td>-0.04</td>\n",
       "      <td>-0.30%</td>\n",
       "      <td>27601000</td>\n",
       "      <td>21331000</td>\n",
       "      <td>5.832100e+10</td>\n",
       "      <td>7.36</td>\n",
       "    </tr>\n",
       "    <tr>\n",
       "      <th>9</th>\n",
       "      <td>PLTR</td>\n",
       "      <td>Palantir Technologies Inc.</td>\n",
       "      <td>22.97</td>\n",
       "      <td>-0.62</td>\n",
       "      <td>-2.63%</td>\n",
       "      <td>48841000</td>\n",
       "      <td>69410000</td>\n",
       "      <td>5.082600e+10</td>\n",
       "      <td>255.22</td>\n",
       "    </tr>\n",
       "    <tr>\n",
       "      <th>4</th>\n",
       "      <td>NU</td>\n",
       "      <td>Nu Holdings Ltd.</td>\n",
       "      <td>10.22</td>\n",
       "      <td>-0.14</td>\n",
       "      <td>-1.35%</td>\n",
       "      <td>76819000</td>\n",
       "      <td>29936000</td>\n",
       "      <td>4.859500e+10</td>\n",
       "      <td>48.67</td>\n",
       "    </tr>\n",
       "    <tr>\n",
       "      <th>8</th>\n",
       "      <td>SQ</td>\n",
       "      <td>Block Inc.</td>\n",
       "      <td>78.92</td>\n",
       "      <td>10.96</td>\n",
       "      <td>16.13%</td>\n",
       "      <td>53428000</td>\n",
       "      <td>11337000</td>\n",
       "      <td>4.846400e+10</td>\n",
       "      <td>3.00</td>\n",
       "    </tr>\n",
       "    <tr>\n",
       "      <th>16</th>\n",
       "      <td>F</td>\n",
       "      <td>Ford Motor Company</td>\n",
       "      <td>12.14</td>\n",
       "      <td>0.02</td>\n",
       "      <td>0.17%</td>\n",
       "      <td>32152000</td>\n",
       "      <td>55435000</td>\n",
       "      <td>4.824000e+10</td>\n",
       "      <td>11.24</td>\n",
       "    </tr>\n",
       "    <tr>\n",
       "      <th>1</th>\n",
       "      <td>WBD</td>\n",
       "      <td>Warner Bros. Discovery Inc.</td>\n",
       "      <td>8.61</td>\n",
       "      <td>-0.95</td>\n",
       "      <td>-9.94%</td>\n",
       "      <td>98207000</td>\n",
       "      <td>23808000</td>\n",
       "      <td>2.099600e+10</td>\n",
       "      <td>NaN</td>\n",
       "    </tr>\n",
       "    <tr>\n",
       "      <th>17</th>\n",
       "      <td>WBA</td>\n",
       "      <td>Walgreens Boots Alliance Inc.</td>\n",
       "      <td>21.73</td>\n",
       "      <td>0.16</td>\n",
       "      <td>0.74%</td>\n",
       "      <td>31887000</td>\n",
       "      <td>15257000</td>\n",
       "      <td>1.873900e+10</td>\n",
       "      <td>32.92</td>\n",
       "    </tr>\n",
       "    <tr>\n",
       "      <th>23</th>\n",
       "      <td>GRAB</td>\n",
       "      <td>Grab Holdings Limited</td>\n",
       "      <td>3.16</td>\n",
       "      <td>0.00</td>\n",
       "      <td>0.00%</td>\n",
       "      <td>28013000</td>\n",
       "      <td>21076000</td>\n",
       "      <td>1.236200e+10</td>\n",
       "      <td>NaN</td>\n",
       "    </tr>\n",
       "    <tr>\n",
       "      <th>12</th>\n",
       "      <td>CVNA</td>\n",
       "      <td>Carvana Co.</td>\n",
       "      <td>69.23</td>\n",
       "      <td>16.82</td>\n",
       "      <td>32.09%</td>\n",
       "      <td>39061000</td>\n",
       "      <td>8656000</td>\n",
       "      <td>1.229500e+10</td>\n",
       "      <td>NaN</td>\n",
       "    </tr>\n",
       "    <tr>\n",
       "      <th>5</th>\n",
       "      <td>NIO</td>\n",
       "      <td>NIO Inc.</td>\n",
       "      <td>5.40</td>\n",
       "      <td>-0.45</td>\n",
       "      <td>-7.69%</td>\n",
       "      <td>75135000</td>\n",
       "      <td>63857000</td>\n",
       "      <td>1.219100e+10</td>\n",
       "      <td>NaN</td>\n",
       "    </tr>\n",
       "    <tr>\n",
       "      <th>0</th>\n",
       "      <td>RIVN</td>\n",
       "      <td>Rivian Automotive Inc.</td>\n",
       "      <td>10.07</td>\n",
       "      <td>-1.38</td>\n",
       "      <td>-12.05%</td>\n",
       "      <td>123713000</td>\n",
       "      <td>38182000</td>\n",
       "      <td>9.404000e+09</td>\n",
       "      <td>NaN</td>\n",
       "    </tr>\n",
       "    <tr>\n",
       "      <th>21</th>\n",
       "      <td>LCID</td>\n",
       "      <td>Lucid Group Inc.</td>\n",
       "      <td>3.02</td>\n",
       "      <td>-0.06</td>\n",
       "      <td>-1.95%</td>\n",
       "      <td>28481000</td>\n",
       "      <td>41240000</td>\n",
       "      <td>6.944000e+09</td>\n",
       "      <td>NaN</td>\n",
       "    </tr>\n",
       "    <tr>\n",
       "      <th>20</th>\n",
       "      <td>LYFT</td>\n",
       "      <td>Lyft Inc.</td>\n",
       "      <td>16.01</td>\n",
       "      <td>0.10</td>\n",
       "      <td>0.63%</td>\n",
       "      <td>28940000</td>\n",
       "      <td>18948000</td>\n",
       "      <td>6.401000e+09</td>\n",
       "      <td>NaN</td>\n",
       "    </tr>\n",
       "    <tr>\n",
       "      <th>11</th>\n",
       "      <td>MARA</td>\n",
       "      <td>Marathon Digital Holdings Inc.</td>\n",
       "      <td>23.99</td>\n",
       "      <td>-0.57</td>\n",
       "      <td>-2.32%</td>\n",
       "      <td>42059000</td>\n",
       "      <td>80420000</td>\n",
       "      <td>5.341000e+09</td>\n",
       "      <td>NaN</td>\n",
       "    </tr>\n",
       "    <tr>\n",
       "      <th>19</th>\n",
       "      <td>ALTM</td>\n",
       "      <td>Arcadium Lithium plc</td>\n",
       "      <td>4.81</td>\n",
       "      <td>0.16</td>\n",
       "      <td>3.44%</td>\n",
       "      <td>29668000</td>\n",
       "      <td>20144000</td>\n",
       "      <td>5.168000e+09</td>\n",
       "      <td>NaN</td>\n",
       "    </tr>\n",
       "    <tr>\n",
       "      <th>22</th>\n",
       "      <td>RUN</td>\n",
       "      <td>Sunrun Inc.</td>\n",
       "      <td>11.90</td>\n",
       "      <td>-0.88</td>\n",
       "      <td>-6.89%</td>\n",
       "      <td>28396000</td>\n",
       "      <td>15166000</td>\n",
       "      <td>2.613000e+09</td>\n",
       "      <td>NaN</td>\n",
       "    </tr>\n",
       "  </tbody>\n",
       "</table>\n",
       "</div>"
      ],
      "text/plain": [
       "   Stock ticker                      Stock name  Last price of stock  \\\n",
       "10         AAPL                      Apple Inc.               182.52   \n",
       "2          NVDA              NVIDIA Corporation               788.17   \n",
       "7          AMZN                 Amazon.com Inc.               174.99   \n",
       "3          TSLA                      Tesla Inc.               191.97   \n",
       "6           AMD     Advanced Micro Devices Inc.               176.52   \n",
       "18          BAC     Bank of America Corporation                33.92   \n",
       "13         INTC               Intel Corporation                42.99   \n",
       "14          PFE                     Pfizer Inc.                27.76   \n",
       "15            T                       AT&T Inc.                16.80   \n",
       "24         VALE                       Vale S.A.                13.47   \n",
       "9          PLTR      Palantir Technologies Inc.                22.97   \n",
       "4            NU                Nu Holdings Ltd.                10.22   \n",
       "8            SQ                      Block Inc.                78.92   \n",
       "16            F              Ford Motor Company                12.14   \n",
       "1           WBD     Warner Bros. Discovery Inc.                 8.61   \n",
       "17          WBA   Walgreens Boots Alliance Inc.                21.73   \n",
       "23         GRAB           Grab Holdings Limited                 3.16   \n",
       "12         CVNA                     Carvana Co.                69.23   \n",
       "5           NIO                        NIO Inc.                 5.40   \n",
       "0          RIVN          Rivian Automotive Inc.                10.07   \n",
       "21         LCID                Lucid Group Inc.                 3.02   \n",
       "20         LYFT                       Lyft Inc.                16.01   \n",
       "11         MARA  Marathon Digital Holdings Inc.                23.99   \n",
       "19         ALTM            Arcadium Lithium plc                 4.81   \n",
       "22          RUN                     Sunrun Inc.                11.90   \n",
       "\n",
       "    Stock change Stock percentage change     Volume  \\\n",
       "10         -1.85                  -1.00%   45120000   \n",
       "2           2.79                   0.36%   82939000   \n",
       "7           0.41                   0.23%   59715000   \n",
       "3          -5.44                  -2.76%   78842000   \n",
       "6          -5.34                  -2.94%   69207000   \n",
       "18          0.31                   0.92%   30586000   \n",
       "13          0.01                   0.02%   33811000   \n",
       "14          0.21                   0.76%   33183000   \n",
       "15          0.21                   1.27%   32271000   \n",
       "24         -0.04                  -0.30%   27601000   \n",
       "9          -0.62                  -2.63%   48841000   \n",
       "4          -0.14                  -1.35%   76819000   \n",
       "8          10.96                  16.13%   53428000   \n",
       "16          0.02                   0.17%   32152000   \n",
       "1          -0.95                  -9.94%   98207000   \n",
       "17          0.16                   0.74%   31887000   \n",
       "23          0.00                   0.00%   28013000   \n",
       "12         16.82                  32.09%   39061000   \n",
       "5          -0.45                  -7.69%   75135000   \n",
       "0          -1.38                 -12.05%  123713000   \n",
       "21         -0.06                  -1.95%   28481000   \n",
       "20          0.10                   0.63%   28940000   \n",
       "11         -0.57                  -2.32%   42059000   \n",
       "19          0.16                   3.44%   29668000   \n",
       "22         -0.88                  -6.89%   28396000   \n",
       "\n",
       "    Average volume over 3 months    Market cap  PE ratio  \n",
       "10                      54123000  2.818000e+12     28.43  \n",
       "2                       46059000  1.970000e+12     66.23  \n",
       "7                       48769000  1.818000e+12     60.34  \n",
       "3                      111153000  6.113840e+11     44.64  \n",
       "6                       72527000  2.852190e+11    333.06  \n",
       "18                      42182000  2.670410e+11     11.01  \n",
       "13                      43655000  1.817620e+11    107.48  \n",
       "14                      47056000  1.567550e+11     75.03  \n",
       "15                      40254000  1.201200e+11      8.53  \n",
       "24                      21331000  5.832100e+10      7.36  \n",
       "9                       69410000  5.082600e+10    255.22  \n",
       "4                       29936000  4.859500e+10     48.67  \n",
       "8                       11337000  4.846400e+10      3.00  \n",
       "16                      55435000  4.824000e+10     11.24  \n",
       "1                       23808000  2.099600e+10       NaN  \n",
       "17                      15257000  1.873900e+10     32.92  \n",
       "23                      21076000  1.236200e+10       NaN  \n",
       "12                       8656000  1.229500e+10       NaN  \n",
       "5                       63857000  1.219100e+10       NaN  \n",
       "0                       38182000  9.404000e+09       NaN  \n",
       "21                      41240000  6.944000e+09       NaN  \n",
       "20                      18948000  6.401000e+09       NaN  \n",
       "11                      80420000  5.341000e+09       NaN  \n",
       "19                      20144000  5.168000e+09       NaN  \n",
       "22                      15166000  2.613000e+09       NaN  "
      ]
     },
     "execution_count": 56,
     "metadata": {},
     "output_type": "execute_result"
    }
   ],
   "source": [
    "order_by_mark_cap_df = most_active_df.sort_values('Market cap', ascending=False)\n",
    "order_by_mark_cap_df"
   ]
  },
  {
   "cell_type": "code",
   "execution_count": 57,
   "metadata": {},
   "outputs": [
    {
     "data": {
      "text/html": [
       "<div>\n",
       "<style scoped>\n",
       "    .dataframe tbody tr th:only-of-type {\n",
       "        vertical-align: middle;\n",
       "    }\n",
       "\n",
       "    .dataframe tbody tr th {\n",
       "        vertical-align: top;\n",
       "    }\n",
       "\n",
       "    .dataframe thead th {\n",
       "        text-align: right;\n",
       "    }\n",
       "</style>\n",
       "<table border=\"1\" class=\"dataframe\">\n",
       "  <thead>\n",
       "    <tr style=\"text-align: right;\">\n",
       "      <th></th>\n",
       "      <th>Stock ticker</th>\n",
       "      <th>Stock name</th>\n",
       "      <th>Last price of stock</th>\n",
       "      <th>Stock change</th>\n",
       "      <th>Stock percentage change</th>\n",
       "      <th>Volume</th>\n",
       "      <th>Average volume over 3 months</th>\n",
       "      <th>Market cap</th>\n",
       "      <th>PE ratio</th>\n",
       "    </tr>\n",
       "  </thead>\n",
       "  <tbody>\n",
       "    <tr>\n",
       "      <th>6</th>\n",
       "      <td>AMD</td>\n",
       "      <td>Advanced Micro Devices Inc.</td>\n",
       "      <td>176.52</td>\n",
       "      <td>-5.34</td>\n",
       "      <td>-2.94%</td>\n",
       "      <td>69207000</td>\n",
       "      <td>72527000</td>\n",
       "      <td>2.852190e+11</td>\n",
       "      <td>333.06</td>\n",
       "    </tr>\n",
       "    <tr>\n",
       "      <th>9</th>\n",
       "      <td>PLTR</td>\n",
       "      <td>Palantir Technologies Inc.</td>\n",
       "      <td>22.97</td>\n",
       "      <td>-0.62</td>\n",
       "      <td>-2.63%</td>\n",
       "      <td>48841000</td>\n",
       "      <td>69410000</td>\n",
       "      <td>5.082600e+10</td>\n",
       "      <td>255.22</td>\n",
       "    </tr>\n",
       "    <tr>\n",
       "      <th>13</th>\n",
       "      <td>INTC</td>\n",
       "      <td>Intel Corporation</td>\n",
       "      <td>42.99</td>\n",
       "      <td>0.01</td>\n",
       "      <td>0.02%</td>\n",
       "      <td>33811000</td>\n",
       "      <td>43655000</td>\n",
       "      <td>1.817620e+11</td>\n",
       "      <td>107.48</td>\n",
       "    </tr>\n",
       "    <tr>\n",
       "      <th>14</th>\n",
       "      <td>PFE</td>\n",
       "      <td>Pfizer Inc.</td>\n",
       "      <td>27.76</td>\n",
       "      <td>0.21</td>\n",
       "      <td>0.76%</td>\n",
       "      <td>33183000</td>\n",
       "      <td>47056000</td>\n",
       "      <td>1.567550e+11</td>\n",
       "      <td>75.03</td>\n",
       "    </tr>\n",
       "    <tr>\n",
       "      <th>2</th>\n",
       "      <td>NVDA</td>\n",
       "      <td>NVIDIA Corporation</td>\n",
       "      <td>788.17</td>\n",
       "      <td>2.79</td>\n",
       "      <td>0.36%</td>\n",
       "      <td>82939000</td>\n",
       "      <td>46059000</td>\n",
       "      <td>1.970000e+12</td>\n",
       "      <td>66.23</td>\n",
       "    </tr>\n",
       "    <tr>\n",
       "      <th>7</th>\n",
       "      <td>AMZN</td>\n",
       "      <td>Amazon.com Inc.</td>\n",
       "      <td>174.99</td>\n",
       "      <td>0.41</td>\n",
       "      <td>0.23%</td>\n",
       "      <td>59715000</td>\n",
       "      <td>48769000</td>\n",
       "      <td>1.818000e+12</td>\n",
       "      <td>60.34</td>\n",
       "    </tr>\n",
       "    <tr>\n",
       "      <th>4</th>\n",
       "      <td>NU</td>\n",
       "      <td>Nu Holdings Ltd.</td>\n",
       "      <td>10.22</td>\n",
       "      <td>-0.14</td>\n",
       "      <td>-1.35%</td>\n",
       "      <td>76819000</td>\n",
       "      <td>29936000</td>\n",
       "      <td>4.859500e+10</td>\n",
       "      <td>48.67</td>\n",
       "    </tr>\n",
       "    <tr>\n",
       "      <th>3</th>\n",
       "      <td>TSLA</td>\n",
       "      <td>Tesla Inc.</td>\n",
       "      <td>191.97</td>\n",
       "      <td>-5.44</td>\n",
       "      <td>-2.76%</td>\n",
       "      <td>78842000</td>\n",
       "      <td>111153000</td>\n",
       "      <td>6.113840e+11</td>\n",
       "      <td>44.64</td>\n",
       "    </tr>\n",
       "    <tr>\n",
       "      <th>17</th>\n",
       "      <td>WBA</td>\n",
       "      <td>Walgreens Boots Alliance Inc.</td>\n",
       "      <td>21.73</td>\n",
       "      <td>0.16</td>\n",
       "      <td>0.74%</td>\n",
       "      <td>31887000</td>\n",
       "      <td>15257000</td>\n",
       "      <td>1.873900e+10</td>\n",
       "      <td>32.92</td>\n",
       "    </tr>\n",
       "    <tr>\n",
       "      <th>10</th>\n",
       "      <td>AAPL</td>\n",
       "      <td>Apple Inc.</td>\n",
       "      <td>182.52</td>\n",
       "      <td>-1.85</td>\n",
       "      <td>-1.00%</td>\n",
       "      <td>45120000</td>\n",
       "      <td>54123000</td>\n",
       "      <td>2.818000e+12</td>\n",
       "      <td>28.43</td>\n",
       "    </tr>\n",
       "    <tr>\n",
       "      <th>16</th>\n",
       "      <td>F</td>\n",
       "      <td>Ford Motor Company</td>\n",
       "      <td>12.14</td>\n",
       "      <td>0.02</td>\n",
       "      <td>0.17%</td>\n",
       "      <td>32152000</td>\n",
       "      <td>55435000</td>\n",
       "      <td>4.824000e+10</td>\n",
       "      <td>11.24</td>\n",
       "    </tr>\n",
       "    <tr>\n",
       "      <th>18</th>\n",
       "      <td>BAC</td>\n",
       "      <td>Bank of America Corporation</td>\n",
       "      <td>33.92</td>\n",
       "      <td>0.31</td>\n",
       "      <td>0.92%</td>\n",
       "      <td>30586000</td>\n",
       "      <td>42182000</td>\n",
       "      <td>2.670410e+11</td>\n",
       "      <td>11.01</td>\n",
       "    </tr>\n",
       "    <tr>\n",
       "      <th>15</th>\n",
       "      <td>T</td>\n",
       "      <td>AT&amp;T Inc.</td>\n",
       "      <td>16.80</td>\n",
       "      <td>0.21</td>\n",
       "      <td>1.27%</td>\n",
       "      <td>32271000</td>\n",
       "      <td>40254000</td>\n",
       "      <td>1.201200e+11</td>\n",
       "      <td>8.53</td>\n",
       "    </tr>\n",
       "    <tr>\n",
       "      <th>24</th>\n",
       "      <td>VALE</td>\n",
       "      <td>Vale S.A.</td>\n",
       "      <td>13.47</td>\n",
       "      <td>-0.04</td>\n",
       "      <td>-0.30%</td>\n",
       "      <td>27601000</td>\n",
       "      <td>21331000</td>\n",
       "      <td>5.832100e+10</td>\n",
       "      <td>7.36</td>\n",
       "    </tr>\n",
       "    <tr>\n",
       "      <th>8</th>\n",
       "      <td>SQ</td>\n",
       "      <td>Block Inc.</td>\n",
       "      <td>78.92</td>\n",
       "      <td>10.96</td>\n",
       "      <td>16.13%</td>\n",
       "      <td>53428000</td>\n",
       "      <td>11337000</td>\n",
       "      <td>4.846400e+10</td>\n",
       "      <td>3.00</td>\n",
       "    </tr>\n",
       "    <tr>\n",
       "      <th>0</th>\n",
       "      <td>RIVN</td>\n",
       "      <td>Rivian Automotive Inc.</td>\n",
       "      <td>10.07</td>\n",
       "      <td>-1.38</td>\n",
       "      <td>-12.05%</td>\n",
       "      <td>123713000</td>\n",
       "      <td>38182000</td>\n",
       "      <td>9.404000e+09</td>\n",
       "      <td>NaN</td>\n",
       "    </tr>\n",
       "    <tr>\n",
       "      <th>1</th>\n",
       "      <td>WBD</td>\n",
       "      <td>Warner Bros. Discovery Inc.</td>\n",
       "      <td>8.61</td>\n",
       "      <td>-0.95</td>\n",
       "      <td>-9.94%</td>\n",
       "      <td>98207000</td>\n",
       "      <td>23808000</td>\n",
       "      <td>2.099600e+10</td>\n",
       "      <td>NaN</td>\n",
       "    </tr>\n",
       "    <tr>\n",
       "      <th>5</th>\n",
       "      <td>NIO</td>\n",
       "      <td>NIO Inc.</td>\n",
       "      <td>5.40</td>\n",
       "      <td>-0.45</td>\n",
       "      <td>-7.69%</td>\n",
       "      <td>75135000</td>\n",
       "      <td>63857000</td>\n",
       "      <td>1.219100e+10</td>\n",
       "      <td>NaN</td>\n",
       "    </tr>\n",
       "    <tr>\n",
       "      <th>11</th>\n",
       "      <td>MARA</td>\n",
       "      <td>Marathon Digital Holdings Inc.</td>\n",
       "      <td>23.99</td>\n",
       "      <td>-0.57</td>\n",
       "      <td>-2.32%</td>\n",
       "      <td>42059000</td>\n",
       "      <td>80420000</td>\n",
       "      <td>5.341000e+09</td>\n",
       "      <td>NaN</td>\n",
       "    </tr>\n",
       "    <tr>\n",
       "      <th>12</th>\n",
       "      <td>CVNA</td>\n",
       "      <td>Carvana Co.</td>\n",
       "      <td>69.23</td>\n",
       "      <td>16.82</td>\n",
       "      <td>32.09%</td>\n",
       "      <td>39061000</td>\n",
       "      <td>8656000</td>\n",
       "      <td>1.229500e+10</td>\n",
       "      <td>NaN</td>\n",
       "    </tr>\n",
       "    <tr>\n",
       "      <th>19</th>\n",
       "      <td>ALTM</td>\n",
       "      <td>Arcadium Lithium plc</td>\n",
       "      <td>4.81</td>\n",
       "      <td>0.16</td>\n",
       "      <td>3.44%</td>\n",
       "      <td>29668000</td>\n",
       "      <td>20144000</td>\n",
       "      <td>5.168000e+09</td>\n",
       "      <td>NaN</td>\n",
       "    </tr>\n",
       "    <tr>\n",
       "      <th>20</th>\n",
       "      <td>LYFT</td>\n",
       "      <td>Lyft Inc.</td>\n",
       "      <td>16.01</td>\n",
       "      <td>0.10</td>\n",
       "      <td>0.63%</td>\n",
       "      <td>28940000</td>\n",
       "      <td>18948000</td>\n",
       "      <td>6.401000e+09</td>\n",
       "      <td>NaN</td>\n",
       "    </tr>\n",
       "    <tr>\n",
       "      <th>21</th>\n",
       "      <td>LCID</td>\n",
       "      <td>Lucid Group Inc.</td>\n",
       "      <td>3.02</td>\n",
       "      <td>-0.06</td>\n",
       "      <td>-1.95%</td>\n",
       "      <td>28481000</td>\n",
       "      <td>41240000</td>\n",
       "      <td>6.944000e+09</td>\n",
       "      <td>NaN</td>\n",
       "    </tr>\n",
       "    <tr>\n",
       "      <th>22</th>\n",
       "      <td>RUN</td>\n",
       "      <td>Sunrun Inc.</td>\n",
       "      <td>11.90</td>\n",
       "      <td>-0.88</td>\n",
       "      <td>-6.89%</td>\n",
       "      <td>28396000</td>\n",
       "      <td>15166000</td>\n",
       "      <td>2.613000e+09</td>\n",
       "      <td>NaN</td>\n",
       "    </tr>\n",
       "    <tr>\n",
       "      <th>23</th>\n",
       "      <td>GRAB</td>\n",
       "      <td>Grab Holdings Limited</td>\n",
       "      <td>3.16</td>\n",
       "      <td>0.00</td>\n",
       "      <td>0.00%</td>\n",
       "      <td>28013000</td>\n",
       "      <td>21076000</td>\n",
       "      <td>1.236200e+10</td>\n",
       "      <td>NaN</td>\n",
       "    </tr>\n",
       "  </tbody>\n",
       "</table>\n",
       "</div>"
      ],
      "text/plain": [
       "   Stock ticker                      Stock name  Last price of stock  \\\n",
       "6           AMD     Advanced Micro Devices Inc.               176.52   \n",
       "9          PLTR      Palantir Technologies Inc.                22.97   \n",
       "13         INTC               Intel Corporation                42.99   \n",
       "14          PFE                     Pfizer Inc.                27.76   \n",
       "2          NVDA              NVIDIA Corporation               788.17   \n",
       "7          AMZN                 Amazon.com Inc.               174.99   \n",
       "4            NU                Nu Holdings Ltd.                10.22   \n",
       "3          TSLA                      Tesla Inc.               191.97   \n",
       "17          WBA   Walgreens Boots Alliance Inc.                21.73   \n",
       "10         AAPL                      Apple Inc.               182.52   \n",
       "16            F              Ford Motor Company                12.14   \n",
       "18          BAC     Bank of America Corporation                33.92   \n",
       "15            T                       AT&T Inc.                16.80   \n",
       "24         VALE                       Vale S.A.                13.47   \n",
       "8            SQ                      Block Inc.                78.92   \n",
       "0          RIVN          Rivian Automotive Inc.                10.07   \n",
       "1           WBD     Warner Bros. Discovery Inc.                 8.61   \n",
       "5           NIO                        NIO Inc.                 5.40   \n",
       "11         MARA  Marathon Digital Holdings Inc.                23.99   \n",
       "12         CVNA                     Carvana Co.                69.23   \n",
       "19         ALTM            Arcadium Lithium plc                 4.81   \n",
       "20         LYFT                       Lyft Inc.                16.01   \n",
       "21         LCID                Lucid Group Inc.                 3.02   \n",
       "22          RUN                     Sunrun Inc.                11.90   \n",
       "23         GRAB           Grab Holdings Limited                 3.16   \n",
       "\n",
       "    Stock change Stock percentage change     Volume  \\\n",
       "6          -5.34                  -2.94%   69207000   \n",
       "9          -0.62                  -2.63%   48841000   \n",
       "13          0.01                   0.02%   33811000   \n",
       "14          0.21                   0.76%   33183000   \n",
       "2           2.79                   0.36%   82939000   \n",
       "7           0.41                   0.23%   59715000   \n",
       "4          -0.14                  -1.35%   76819000   \n",
       "3          -5.44                  -2.76%   78842000   \n",
       "17          0.16                   0.74%   31887000   \n",
       "10         -1.85                  -1.00%   45120000   \n",
       "16          0.02                   0.17%   32152000   \n",
       "18          0.31                   0.92%   30586000   \n",
       "15          0.21                   1.27%   32271000   \n",
       "24         -0.04                  -0.30%   27601000   \n",
       "8          10.96                  16.13%   53428000   \n",
       "0          -1.38                 -12.05%  123713000   \n",
       "1          -0.95                  -9.94%   98207000   \n",
       "5          -0.45                  -7.69%   75135000   \n",
       "11         -0.57                  -2.32%   42059000   \n",
       "12         16.82                  32.09%   39061000   \n",
       "19          0.16                   3.44%   29668000   \n",
       "20          0.10                   0.63%   28940000   \n",
       "21         -0.06                  -1.95%   28481000   \n",
       "22         -0.88                  -6.89%   28396000   \n",
       "23          0.00                   0.00%   28013000   \n",
       "\n",
       "    Average volume over 3 months    Market cap  PE ratio  \n",
       "6                       72527000  2.852190e+11    333.06  \n",
       "9                       69410000  5.082600e+10    255.22  \n",
       "13                      43655000  1.817620e+11    107.48  \n",
       "14                      47056000  1.567550e+11     75.03  \n",
       "2                       46059000  1.970000e+12     66.23  \n",
       "7                       48769000  1.818000e+12     60.34  \n",
       "4                       29936000  4.859500e+10     48.67  \n",
       "3                      111153000  6.113840e+11     44.64  \n",
       "17                      15257000  1.873900e+10     32.92  \n",
       "10                      54123000  2.818000e+12     28.43  \n",
       "16                      55435000  4.824000e+10     11.24  \n",
       "18                      42182000  2.670410e+11     11.01  \n",
       "15                      40254000  1.201200e+11      8.53  \n",
       "24                      21331000  5.832100e+10      7.36  \n",
       "8                       11337000  4.846400e+10      3.00  \n",
       "0                       38182000  9.404000e+09       NaN  \n",
       "1                       23808000  2.099600e+10       NaN  \n",
       "5                       63857000  1.219100e+10       NaN  \n",
       "11                      80420000  5.341000e+09       NaN  \n",
       "12                       8656000  1.229500e+10       NaN  \n",
       "19                      20144000  5.168000e+09       NaN  \n",
       "20                      18948000  6.401000e+09       NaN  \n",
       "21                      41240000  6.944000e+09       NaN  \n",
       "22                      15166000  2.613000e+09       NaN  \n",
       "23                      21076000  1.236200e+10       NaN  "
      ]
     },
     "execution_count": 57,
     "metadata": {},
     "output_type": "execute_result"
    }
   ],
   "source": [
    "order_by_pe_ratio_df = most_active_df.sort_values('PE ratio', ascending=False)\n",
    "order_by_pe_ratio_df"
   ]
  },
  {
   "cell_type": "code",
   "execution_count": 58,
   "metadata": {},
   "outputs": [
    {
     "data": {
      "text/html": [
       "<div>\n",
       "<style scoped>\n",
       "    .dataframe tbody tr th:only-of-type {\n",
       "        vertical-align: middle;\n",
       "    }\n",
       "\n",
       "    .dataframe tbody tr th {\n",
       "        vertical-align: top;\n",
       "    }\n",
       "\n",
       "    .dataframe thead th {\n",
       "        text-align: right;\n",
       "    }\n",
       "</style>\n",
       "<table border=\"1\" class=\"dataframe\">\n",
       "  <thead>\n",
       "    <tr style=\"text-align: right;\">\n",
       "      <th></th>\n",
       "      <th>Stock ticker</th>\n",
       "      <th>Stock name</th>\n",
       "      <th>Last price of stock</th>\n",
       "      <th>Stock change</th>\n",
       "      <th>Stock percentage change</th>\n",
       "      <th>Volume</th>\n",
       "      <th>Average volume over 3 months</th>\n",
       "      <th>Market cap</th>\n",
       "      <th>PE ratio</th>\n",
       "    </tr>\n",
       "  </thead>\n",
       "  <tbody>\n",
       "    <tr>\n",
       "      <th>0</th>\n",
       "      <td>RIVN</td>\n",
       "      <td>Rivian Automotive Inc.</td>\n",
       "      <td>10.07</td>\n",
       "      <td>-1.38</td>\n",
       "      <td>-12.05%</td>\n",
       "      <td>123713000</td>\n",
       "      <td>38182000</td>\n",
       "      <td>9.404000e+09</td>\n",
       "      <td>NaN</td>\n",
       "    </tr>\n",
       "    <tr>\n",
       "      <th>1</th>\n",
       "      <td>WBD</td>\n",
       "      <td>Warner Bros. Discovery Inc.</td>\n",
       "      <td>8.61</td>\n",
       "      <td>-0.95</td>\n",
       "      <td>-9.94%</td>\n",
       "      <td>98207000</td>\n",
       "      <td>23808000</td>\n",
       "      <td>2.099600e+10</td>\n",
       "      <td>NaN</td>\n",
       "    </tr>\n",
       "    <tr>\n",
       "      <th>2</th>\n",
       "      <td>NVDA</td>\n",
       "      <td>NVIDIA Corporation</td>\n",
       "      <td>788.17</td>\n",
       "      <td>2.79</td>\n",
       "      <td>0.36%</td>\n",
       "      <td>82939000</td>\n",
       "      <td>46059000</td>\n",
       "      <td>1.970000e+12</td>\n",
       "      <td>66.23</td>\n",
       "    </tr>\n",
       "    <tr>\n",
       "      <th>3</th>\n",
       "      <td>TSLA</td>\n",
       "      <td>Tesla Inc.</td>\n",
       "      <td>191.97</td>\n",
       "      <td>-5.44</td>\n",
       "      <td>-2.76%</td>\n",
       "      <td>78842000</td>\n",
       "      <td>111153000</td>\n",
       "      <td>6.113840e+11</td>\n",
       "      <td>44.64</td>\n",
       "    </tr>\n",
       "    <tr>\n",
       "      <th>4</th>\n",
       "      <td>NU</td>\n",
       "      <td>Nu Holdings Ltd.</td>\n",
       "      <td>10.22</td>\n",
       "      <td>-0.14</td>\n",
       "      <td>-1.35%</td>\n",
       "      <td>76819000</td>\n",
       "      <td>29936000</td>\n",
       "      <td>4.859500e+10</td>\n",
       "      <td>48.67</td>\n",
       "    </tr>\n",
       "    <tr>\n",
       "      <th>5</th>\n",
       "      <td>NIO</td>\n",
       "      <td>NIO Inc.</td>\n",
       "      <td>5.40</td>\n",
       "      <td>-0.45</td>\n",
       "      <td>-7.69%</td>\n",
       "      <td>75135000</td>\n",
       "      <td>63857000</td>\n",
       "      <td>1.219100e+10</td>\n",
       "      <td>NaN</td>\n",
       "    </tr>\n",
       "    <tr>\n",
       "      <th>6</th>\n",
       "      <td>AMD</td>\n",
       "      <td>Advanced Micro Devices Inc.</td>\n",
       "      <td>176.52</td>\n",
       "      <td>-5.34</td>\n",
       "      <td>-2.94%</td>\n",
       "      <td>69207000</td>\n",
       "      <td>72527000</td>\n",
       "      <td>2.852190e+11</td>\n",
       "      <td>333.06</td>\n",
       "    </tr>\n",
       "    <tr>\n",
       "      <th>7</th>\n",
       "      <td>AMZN</td>\n",
       "      <td>Amazon.com Inc.</td>\n",
       "      <td>174.99</td>\n",
       "      <td>0.41</td>\n",
       "      <td>0.23%</td>\n",
       "      <td>59715000</td>\n",
       "      <td>48769000</td>\n",
       "      <td>1.818000e+12</td>\n",
       "      <td>60.34</td>\n",
       "    </tr>\n",
       "    <tr>\n",
       "      <th>8</th>\n",
       "      <td>SQ</td>\n",
       "      <td>Block Inc.</td>\n",
       "      <td>78.92</td>\n",
       "      <td>10.96</td>\n",
       "      <td>16.13%</td>\n",
       "      <td>53428000</td>\n",
       "      <td>11337000</td>\n",
       "      <td>4.846400e+10</td>\n",
       "      <td>3.00</td>\n",
       "    </tr>\n",
       "    <tr>\n",
       "      <th>9</th>\n",
       "      <td>PLTR</td>\n",
       "      <td>Palantir Technologies Inc.</td>\n",
       "      <td>22.97</td>\n",
       "      <td>-0.62</td>\n",
       "      <td>-2.63%</td>\n",
       "      <td>48841000</td>\n",
       "      <td>69410000</td>\n",
       "      <td>5.082600e+10</td>\n",
       "      <td>255.22</td>\n",
       "    </tr>\n",
       "    <tr>\n",
       "      <th>10</th>\n",
       "      <td>AAPL</td>\n",
       "      <td>Apple Inc.</td>\n",
       "      <td>182.52</td>\n",
       "      <td>-1.85</td>\n",
       "      <td>-1.00%</td>\n",
       "      <td>45120000</td>\n",
       "      <td>54123000</td>\n",
       "      <td>2.818000e+12</td>\n",
       "      <td>28.43</td>\n",
       "    </tr>\n",
       "    <tr>\n",
       "      <th>11</th>\n",
       "      <td>MARA</td>\n",
       "      <td>Marathon Digital Holdings Inc.</td>\n",
       "      <td>23.99</td>\n",
       "      <td>-0.57</td>\n",
       "      <td>-2.32%</td>\n",
       "      <td>42059000</td>\n",
       "      <td>80420000</td>\n",
       "      <td>5.341000e+09</td>\n",
       "      <td>NaN</td>\n",
       "    </tr>\n",
       "    <tr>\n",
       "      <th>12</th>\n",
       "      <td>CVNA</td>\n",
       "      <td>Carvana Co.</td>\n",
       "      <td>69.23</td>\n",
       "      <td>16.82</td>\n",
       "      <td>32.09%</td>\n",
       "      <td>39061000</td>\n",
       "      <td>8656000</td>\n",
       "      <td>1.229500e+10</td>\n",
       "      <td>NaN</td>\n",
       "    </tr>\n",
       "    <tr>\n",
       "      <th>13</th>\n",
       "      <td>INTC</td>\n",
       "      <td>Intel Corporation</td>\n",
       "      <td>42.99</td>\n",
       "      <td>0.01</td>\n",
       "      <td>0.02%</td>\n",
       "      <td>33811000</td>\n",
       "      <td>43655000</td>\n",
       "      <td>1.817620e+11</td>\n",
       "      <td>107.48</td>\n",
       "    </tr>\n",
       "    <tr>\n",
       "      <th>14</th>\n",
       "      <td>PFE</td>\n",
       "      <td>Pfizer Inc.</td>\n",
       "      <td>27.76</td>\n",
       "      <td>0.21</td>\n",
       "      <td>0.76%</td>\n",
       "      <td>33183000</td>\n",
       "      <td>47056000</td>\n",
       "      <td>1.567550e+11</td>\n",
       "      <td>75.03</td>\n",
       "    </tr>\n",
       "    <tr>\n",
       "      <th>15</th>\n",
       "      <td>T</td>\n",
       "      <td>AT&amp;T Inc.</td>\n",
       "      <td>16.80</td>\n",
       "      <td>0.21</td>\n",
       "      <td>1.27%</td>\n",
       "      <td>32271000</td>\n",
       "      <td>40254000</td>\n",
       "      <td>1.201200e+11</td>\n",
       "      <td>8.53</td>\n",
       "    </tr>\n",
       "    <tr>\n",
       "      <th>16</th>\n",
       "      <td>F</td>\n",
       "      <td>Ford Motor Company</td>\n",
       "      <td>12.14</td>\n",
       "      <td>0.02</td>\n",
       "      <td>0.17%</td>\n",
       "      <td>32152000</td>\n",
       "      <td>55435000</td>\n",
       "      <td>4.824000e+10</td>\n",
       "      <td>11.24</td>\n",
       "    </tr>\n",
       "    <tr>\n",
       "      <th>17</th>\n",
       "      <td>WBA</td>\n",
       "      <td>Walgreens Boots Alliance Inc.</td>\n",
       "      <td>21.73</td>\n",
       "      <td>0.16</td>\n",
       "      <td>0.74%</td>\n",
       "      <td>31887000</td>\n",
       "      <td>15257000</td>\n",
       "      <td>1.873900e+10</td>\n",
       "      <td>32.92</td>\n",
       "    </tr>\n",
       "    <tr>\n",
       "      <th>18</th>\n",
       "      <td>BAC</td>\n",
       "      <td>Bank of America Corporation</td>\n",
       "      <td>33.92</td>\n",
       "      <td>0.31</td>\n",
       "      <td>0.92%</td>\n",
       "      <td>30586000</td>\n",
       "      <td>42182000</td>\n",
       "      <td>2.670410e+11</td>\n",
       "      <td>11.01</td>\n",
       "    </tr>\n",
       "    <tr>\n",
       "      <th>19</th>\n",
       "      <td>ALTM</td>\n",
       "      <td>Arcadium Lithium plc</td>\n",
       "      <td>4.81</td>\n",
       "      <td>0.16</td>\n",
       "      <td>3.44%</td>\n",
       "      <td>29668000</td>\n",
       "      <td>20144000</td>\n",
       "      <td>5.168000e+09</td>\n",
       "      <td>NaN</td>\n",
       "    </tr>\n",
       "    <tr>\n",
       "      <th>20</th>\n",
       "      <td>LYFT</td>\n",
       "      <td>Lyft Inc.</td>\n",
       "      <td>16.01</td>\n",
       "      <td>0.10</td>\n",
       "      <td>0.63%</td>\n",
       "      <td>28940000</td>\n",
       "      <td>18948000</td>\n",
       "      <td>6.401000e+09</td>\n",
       "      <td>NaN</td>\n",
       "    </tr>\n",
       "    <tr>\n",
       "      <th>21</th>\n",
       "      <td>LCID</td>\n",
       "      <td>Lucid Group Inc.</td>\n",
       "      <td>3.02</td>\n",
       "      <td>-0.06</td>\n",
       "      <td>-1.95%</td>\n",
       "      <td>28481000</td>\n",
       "      <td>41240000</td>\n",
       "      <td>6.944000e+09</td>\n",
       "      <td>NaN</td>\n",
       "    </tr>\n",
       "    <tr>\n",
       "      <th>22</th>\n",
       "      <td>RUN</td>\n",
       "      <td>Sunrun Inc.</td>\n",
       "      <td>11.90</td>\n",
       "      <td>-0.88</td>\n",
       "      <td>-6.89%</td>\n",
       "      <td>28396000</td>\n",
       "      <td>15166000</td>\n",
       "      <td>2.613000e+09</td>\n",
       "      <td>NaN</td>\n",
       "    </tr>\n",
       "    <tr>\n",
       "      <th>23</th>\n",
       "      <td>GRAB</td>\n",
       "      <td>Grab Holdings Limited</td>\n",
       "      <td>3.16</td>\n",
       "      <td>0.00</td>\n",
       "      <td>0.00%</td>\n",
       "      <td>28013000</td>\n",
       "      <td>21076000</td>\n",
       "      <td>1.236200e+10</td>\n",
       "      <td>NaN</td>\n",
       "    </tr>\n",
       "    <tr>\n",
       "      <th>24</th>\n",
       "      <td>VALE</td>\n",
       "      <td>Vale S.A.</td>\n",
       "      <td>13.47</td>\n",
       "      <td>-0.04</td>\n",
       "      <td>-0.30%</td>\n",
       "      <td>27601000</td>\n",
       "      <td>21331000</td>\n",
       "      <td>5.832100e+10</td>\n",
       "      <td>7.36</td>\n",
       "    </tr>\n",
       "  </tbody>\n",
       "</table>\n",
       "</div>"
      ],
      "text/plain": [
       "   Stock ticker                      Stock name  Last price of stock  \\\n",
       "0          RIVN          Rivian Automotive Inc.                10.07   \n",
       "1           WBD     Warner Bros. Discovery Inc.                 8.61   \n",
       "2          NVDA              NVIDIA Corporation               788.17   \n",
       "3          TSLA                      Tesla Inc.               191.97   \n",
       "4            NU                Nu Holdings Ltd.                10.22   \n",
       "5           NIO                        NIO Inc.                 5.40   \n",
       "6           AMD     Advanced Micro Devices Inc.               176.52   \n",
       "7          AMZN                 Amazon.com Inc.               174.99   \n",
       "8            SQ                      Block Inc.                78.92   \n",
       "9          PLTR      Palantir Technologies Inc.                22.97   \n",
       "10         AAPL                      Apple Inc.               182.52   \n",
       "11         MARA  Marathon Digital Holdings Inc.                23.99   \n",
       "12         CVNA                     Carvana Co.                69.23   \n",
       "13         INTC               Intel Corporation                42.99   \n",
       "14          PFE                     Pfizer Inc.                27.76   \n",
       "15            T                       AT&T Inc.                16.80   \n",
       "16            F              Ford Motor Company                12.14   \n",
       "17          WBA   Walgreens Boots Alliance Inc.                21.73   \n",
       "18          BAC     Bank of America Corporation                33.92   \n",
       "19         ALTM            Arcadium Lithium plc                 4.81   \n",
       "20         LYFT                       Lyft Inc.                16.01   \n",
       "21         LCID                Lucid Group Inc.                 3.02   \n",
       "22          RUN                     Sunrun Inc.                11.90   \n",
       "23         GRAB           Grab Holdings Limited                 3.16   \n",
       "24         VALE                       Vale S.A.                13.47   \n",
       "\n",
       "    Stock change Stock percentage change     Volume  \\\n",
       "0          -1.38                 -12.05%  123713000   \n",
       "1          -0.95                  -9.94%   98207000   \n",
       "2           2.79                   0.36%   82939000   \n",
       "3          -5.44                  -2.76%   78842000   \n",
       "4          -0.14                  -1.35%   76819000   \n",
       "5          -0.45                  -7.69%   75135000   \n",
       "6          -5.34                  -2.94%   69207000   \n",
       "7           0.41                   0.23%   59715000   \n",
       "8          10.96                  16.13%   53428000   \n",
       "9          -0.62                  -2.63%   48841000   \n",
       "10         -1.85                  -1.00%   45120000   \n",
       "11         -0.57                  -2.32%   42059000   \n",
       "12         16.82                  32.09%   39061000   \n",
       "13          0.01                   0.02%   33811000   \n",
       "14          0.21                   0.76%   33183000   \n",
       "15          0.21                   1.27%   32271000   \n",
       "16          0.02                   0.17%   32152000   \n",
       "17          0.16                   0.74%   31887000   \n",
       "18          0.31                   0.92%   30586000   \n",
       "19          0.16                   3.44%   29668000   \n",
       "20          0.10                   0.63%   28940000   \n",
       "21         -0.06                  -1.95%   28481000   \n",
       "22         -0.88                  -6.89%   28396000   \n",
       "23          0.00                   0.00%   28013000   \n",
       "24         -0.04                  -0.30%   27601000   \n",
       "\n",
       "    Average volume over 3 months    Market cap  PE ratio  \n",
       "0                       38182000  9.404000e+09       NaN  \n",
       "1                       23808000  2.099600e+10       NaN  \n",
       "2                       46059000  1.970000e+12     66.23  \n",
       "3                      111153000  6.113840e+11     44.64  \n",
       "4                       29936000  4.859500e+10     48.67  \n",
       "5                       63857000  1.219100e+10       NaN  \n",
       "6                       72527000  2.852190e+11    333.06  \n",
       "7                       48769000  1.818000e+12     60.34  \n",
       "8                       11337000  4.846400e+10      3.00  \n",
       "9                       69410000  5.082600e+10    255.22  \n",
       "10                      54123000  2.818000e+12     28.43  \n",
       "11                      80420000  5.341000e+09       NaN  \n",
       "12                       8656000  1.229500e+10       NaN  \n",
       "13                      43655000  1.817620e+11    107.48  \n",
       "14                      47056000  1.567550e+11     75.03  \n",
       "15                      40254000  1.201200e+11      8.53  \n",
       "16                      55435000  4.824000e+10     11.24  \n",
       "17                      15257000  1.873900e+10     32.92  \n",
       "18                      42182000  2.670410e+11     11.01  \n",
       "19                      20144000  5.168000e+09       NaN  \n",
       "20                      18948000  6.401000e+09       NaN  \n",
       "21                      41240000  6.944000e+09       NaN  \n",
       "22                      15166000  2.613000e+09       NaN  \n",
       "23                      21076000  1.236200e+10       NaN  \n",
       "24                      21331000  5.832100e+10      7.36  "
      ]
     },
     "execution_count": 58,
     "metadata": {},
     "output_type": "execute_result"
    }
   ],
   "source": [
    "order_by_vol_df = most_active_df.sort_values('Volume', ascending=False)\n",
    "order_by_vol_df"
   ]
  },
  {
   "cell_type": "code",
   "execution_count": 59,
   "metadata": {},
   "outputs": [
    {
     "data": {
      "text/html": [
       "<div>\n",
       "<style scoped>\n",
       "    .dataframe tbody tr th:only-of-type {\n",
       "        vertical-align: middle;\n",
       "    }\n",
       "\n",
       "    .dataframe tbody tr th {\n",
       "        vertical-align: top;\n",
       "    }\n",
       "\n",
       "    .dataframe thead th {\n",
       "        text-align: right;\n",
       "    }\n",
       "</style>\n",
       "<table border=\"1\" class=\"dataframe\">\n",
       "  <thead>\n",
       "    <tr style=\"text-align: right;\">\n",
       "      <th></th>\n",
       "      <th>Stock ticker</th>\n",
       "      <th>Stock name</th>\n",
       "      <th>Last price of stock</th>\n",
       "      <th>Stock change</th>\n",
       "      <th>Stock percentage change</th>\n",
       "      <th>Volume</th>\n",
       "      <th>Average volume over 3 months</th>\n",
       "      <th>Market cap</th>\n",
       "      <th>PE ratio</th>\n",
       "    </tr>\n",
       "  </thead>\n",
       "  <tbody>\n",
       "    <tr>\n",
       "      <th>21</th>\n",
       "      <td>LCID</td>\n",
       "      <td>Lucid Group Inc.</td>\n",
       "      <td>3.02</td>\n",
       "      <td>-0.06</td>\n",
       "      <td>-1.95%</td>\n",
       "      <td>28481000</td>\n",
       "      <td>41240000</td>\n",
       "      <td>6.944000e+09</td>\n",
       "      <td>NaN</td>\n",
       "    </tr>\n",
       "    <tr>\n",
       "      <th>23</th>\n",
       "      <td>GRAB</td>\n",
       "      <td>Grab Holdings Limited</td>\n",
       "      <td>3.16</td>\n",
       "      <td>0.00</td>\n",
       "      <td>0.00%</td>\n",
       "      <td>28013000</td>\n",
       "      <td>21076000</td>\n",
       "      <td>1.236200e+10</td>\n",
       "      <td>NaN</td>\n",
       "    </tr>\n",
       "    <tr>\n",
       "      <th>19</th>\n",
       "      <td>ALTM</td>\n",
       "      <td>Arcadium Lithium plc</td>\n",
       "      <td>4.81</td>\n",
       "      <td>0.16</td>\n",
       "      <td>3.44%</td>\n",
       "      <td>29668000</td>\n",
       "      <td>20144000</td>\n",
       "      <td>5.168000e+09</td>\n",
       "      <td>NaN</td>\n",
       "    </tr>\n",
       "    <tr>\n",
       "      <th>5</th>\n",
       "      <td>NIO</td>\n",
       "      <td>NIO Inc.</td>\n",
       "      <td>5.40</td>\n",
       "      <td>-0.45</td>\n",
       "      <td>-7.69%</td>\n",
       "      <td>75135000</td>\n",
       "      <td>63857000</td>\n",
       "      <td>1.219100e+10</td>\n",
       "      <td>NaN</td>\n",
       "    </tr>\n",
       "    <tr>\n",
       "      <th>1</th>\n",
       "      <td>WBD</td>\n",
       "      <td>Warner Bros. Discovery Inc.</td>\n",
       "      <td>8.61</td>\n",
       "      <td>-0.95</td>\n",
       "      <td>-9.94%</td>\n",
       "      <td>98207000</td>\n",
       "      <td>23808000</td>\n",
       "      <td>2.099600e+10</td>\n",
       "      <td>NaN</td>\n",
       "    </tr>\n",
       "    <tr>\n",
       "      <th>0</th>\n",
       "      <td>RIVN</td>\n",
       "      <td>Rivian Automotive Inc.</td>\n",
       "      <td>10.07</td>\n",
       "      <td>-1.38</td>\n",
       "      <td>-12.05%</td>\n",
       "      <td>123713000</td>\n",
       "      <td>38182000</td>\n",
       "      <td>9.404000e+09</td>\n",
       "      <td>NaN</td>\n",
       "    </tr>\n",
       "    <tr>\n",
       "      <th>4</th>\n",
       "      <td>NU</td>\n",
       "      <td>Nu Holdings Ltd.</td>\n",
       "      <td>10.22</td>\n",
       "      <td>-0.14</td>\n",
       "      <td>-1.35%</td>\n",
       "      <td>76819000</td>\n",
       "      <td>29936000</td>\n",
       "      <td>4.859500e+10</td>\n",
       "      <td>48.67</td>\n",
       "    </tr>\n",
       "    <tr>\n",
       "      <th>22</th>\n",
       "      <td>RUN</td>\n",
       "      <td>Sunrun Inc.</td>\n",
       "      <td>11.90</td>\n",
       "      <td>-0.88</td>\n",
       "      <td>-6.89%</td>\n",
       "      <td>28396000</td>\n",
       "      <td>15166000</td>\n",
       "      <td>2.613000e+09</td>\n",
       "      <td>NaN</td>\n",
       "    </tr>\n",
       "    <tr>\n",
       "      <th>16</th>\n",
       "      <td>F</td>\n",
       "      <td>Ford Motor Company</td>\n",
       "      <td>12.14</td>\n",
       "      <td>0.02</td>\n",
       "      <td>0.17%</td>\n",
       "      <td>32152000</td>\n",
       "      <td>55435000</td>\n",
       "      <td>4.824000e+10</td>\n",
       "      <td>11.24</td>\n",
       "    </tr>\n",
       "    <tr>\n",
       "      <th>24</th>\n",
       "      <td>VALE</td>\n",
       "      <td>Vale S.A.</td>\n",
       "      <td>13.47</td>\n",
       "      <td>-0.04</td>\n",
       "      <td>-0.30%</td>\n",
       "      <td>27601000</td>\n",
       "      <td>21331000</td>\n",
       "      <td>5.832100e+10</td>\n",
       "      <td>7.36</td>\n",
       "    </tr>\n",
       "    <tr>\n",
       "      <th>20</th>\n",
       "      <td>LYFT</td>\n",
       "      <td>Lyft Inc.</td>\n",
       "      <td>16.01</td>\n",
       "      <td>0.10</td>\n",
       "      <td>0.63%</td>\n",
       "      <td>28940000</td>\n",
       "      <td>18948000</td>\n",
       "      <td>6.401000e+09</td>\n",
       "      <td>NaN</td>\n",
       "    </tr>\n",
       "    <tr>\n",
       "      <th>15</th>\n",
       "      <td>T</td>\n",
       "      <td>AT&amp;T Inc.</td>\n",
       "      <td>16.80</td>\n",
       "      <td>0.21</td>\n",
       "      <td>1.27%</td>\n",
       "      <td>32271000</td>\n",
       "      <td>40254000</td>\n",
       "      <td>1.201200e+11</td>\n",
       "      <td>8.53</td>\n",
       "    </tr>\n",
       "    <tr>\n",
       "      <th>17</th>\n",
       "      <td>WBA</td>\n",
       "      <td>Walgreens Boots Alliance Inc.</td>\n",
       "      <td>21.73</td>\n",
       "      <td>0.16</td>\n",
       "      <td>0.74%</td>\n",
       "      <td>31887000</td>\n",
       "      <td>15257000</td>\n",
       "      <td>1.873900e+10</td>\n",
       "      <td>32.92</td>\n",
       "    </tr>\n",
       "    <tr>\n",
       "      <th>9</th>\n",
       "      <td>PLTR</td>\n",
       "      <td>Palantir Technologies Inc.</td>\n",
       "      <td>22.97</td>\n",
       "      <td>-0.62</td>\n",
       "      <td>-2.63%</td>\n",
       "      <td>48841000</td>\n",
       "      <td>69410000</td>\n",
       "      <td>5.082600e+10</td>\n",
       "      <td>255.22</td>\n",
       "    </tr>\n",
       "    <tr>\n",
       "      <th>11</th>\n",
       "      <td>MARA</td>\n",
       "      <td>Marathon Digital Holdings Inc.</td>\n",
       "      <td>23.99</td>\n",
       "      <td>-0.57</td>\n",
       "      <td>-2.32%</td>\n",
       "      <td>42059000</td>\n",
       "      <td>80420000</td>\n",
       "      <td>5.341000e+09</td>\n",
       "      <td>NaN</td>\n",
       "    </tr>\n",
       "    <tr>\n",
       "      <th>14</th>\n",
       "      <td>PFE</td>\n",
       "      <td>Pfizer Inc.</td>\n",
       "      <td>27.76</td>\n",
       "      <td>0.21</td>\n",
       "      <td>0.76%</td>\n",
       "      <td>33183000</td>\n",
       "      <td>47056000</td>\n",
       "      <td>1.567550e+11</td>\n",
       "      <td>75.03</td>\n",
       "    </tr>\n",
       "    <tr>\n",
       "      <th>18</th>\n",
       "      <td>BAC</td>\n",
       "      <td>Bank of America Corporation</td>\n",
       "      <td>33.92</td>\n",
       "      <td>0.31</td>\n",
       "      <td>0.92%</td>\n",
       "      <td>30586000</td>\n",
       "      <td>42182000</td>\n",
       "      <td>2.670410e+11</td>\n",
       "      <td>11.01</td>\n",
       "    </tr>\n",
       "    <tr>\n",
       "      <th>13</th>\n",
       "      <td>INTC</td>\n",
       "      <td>Intel Corporation</td>\n",
       "      <td>42.99</td>\n",
       "      <td>0.01</td>\n",
       "      <td>0.02%</td>\n",
       "      <td>33811000</td>\n",
       "      <td>43655000</td>\n",
       "      <td>1.817620e+11</td>\n",
       "      <td>107.48</td>\n",
       "    </tr>\n",
       "    <tr>\n",
       "      <th>12</th>\n",
       "      <td>CVNA</td>\n",
       "      <td>Carvana Co.</td>\n",
       "      <td>69.23</td>\n",
       "      <td>16.82</td>\n",
       "      <td>32.09%</td>\n",
       "      <td>39061000</td>\n",
       "      <td>8656000</td>\n",
       "      <td>1.229500e+10</td>\n",
       "      <td>NaN</td>\n",
       "    </tr>\n",
       "    <tr>\n",
       "      <th>8</th>\n",
       "      <td>SQ</td>\n",
       "      <td>Block Inc.</td>\n",
       "      <td>78.92</td>\n",
       "      <td>10.96</td>\n",
       "      <td>16.13%</td>\n",
       "      <td>53428000</td>\n",
       "      <td>11337000</td>\n",
       "      <td>4.846400e+10</td>\n",
       "      <td>3.00</td>\n",
       "    </tr>\n",
       "    <tr>\n",
       "      <th>7</th>\n",
       "      <td>AMZN</td>\n",
       "      <td>Amazon.com Inc.</td>\n",
       "      <td>174.99</td>\n",
       "      <td>0.41</td>\n",
       "      <td>0.23%</td>\n",
       "      <td>59715000</td>\n",
       "      <td>48769000</td>\n",
       "      <td>1.818000e+12</td>\n",
       "      <td>60.34</td>\n",
       "    </tr>\n",
       "    <tr>\n",
       "      <th>6</th>\n",
       "      <td>AMD</td>\n",
       "      <td>Advanced Micro Devices Inc.</td>\n",
       "      <td>176.52</td>\n",
       "      <td>-5.34</td>\n",
       "      <td>-2.94%</td>\n",
       "      <td>69207000</td>\n",
       "      <td>72527000</td>\n",
       "      <td>2.852190e+11</td>\n",
       "      <td>333.06</td>\n",
       "    </tr>\n",
       "    <tr>\n",
       "      <th>10</th>\n",
       "      <td>AAPL</td>\n",
       "      <td>Apple Inc.</td>\n",
       "      <td>182.52</td>\n",
       "      <td>-1.85</td>\n",
       "      <td>-1.00%</td>\n",
       "      <td>45120000</td>\n",
       "      <td>54123000</td>\n",
       "      <td>2.818000e+12</td>\n",
       "      <td>28.43</td>\n",
       "    </tr>\n",
       "    <tr>\n",
       "      <th>3</th>\n",
       "      <td>TSLA</td>\n",
       "      <td>Tesla Inc.</td>\n",
       "      <td>191.97</td>\n",
       "      <td>-5.44</td>\n",
       "      <td>-2.76%</td>\n",
       "      <td>78842000</td>\n",
       "      <td>111153000</td>\n",
       "      <td>6.113840e+11</td>\n",
       "      <td>44.64</td>\n",
       "    </tr>\n",
       "    <tr>\n",
       "      <th>2</th>\n",
       "      <td>NVDA</td>\n",
       "      <td>NVIDIA Corporation</td>\n",
       "      <td>788.17</td>\n",
       "      <td>2.79</td>\n",
       "      <td>0.36%</td>\n",
       "      <td>82939000</td>\n",
       "      <td>46059000</td>\n",
       "      <td>1.970000e+12</td>\n",
       "      <td>66.23</td>\n",
       "    </tr>\n",
       "  </tbody>\n",
       "</table>\n",
       "</div>"
      ],
      "text/plain": [
       "   Stock ticker                      Stock name  Last price of stock  \\\n",
       "21         LCID                Lucid Group Inc.                 3.02   \n",
       "23         GRAB           Grab Holdings Limited                 3.16   \n",
       "19         ALTM            Arcadium Lithium plc                 4.81   \n",
       "5           NIO                        NIO Inc.                 5.40   \n",
       "1           WBD     Warner Bros. Discovery Inc.                 8.61   \n",
       "0          RIVN          Rivian Automotive Inc.                10.07   \n",
       "4            NU                Nu Holdings Ltd.                10.22   \n",
       "22          RUN                     Sunrun Inc.                11.90   \n",
       "16            F              Ford Motor Company                12.14   \n",
       "24         VALE                       Vale S.A.                13.47   \n",
       "20         LYFT                       Lyft Inc.                16.01   \n",
       "15            T                       AT&T Inc.                16.80   \n",
       "17          WBA   Walgreens Boots Alliance Inc.                21.73   \n",
       "9          PLTR      Palantir Technologies Inc.                22.97   \n",
       "11         MARA  Marathon Digital Holdings Inc.                23.99   \n",
       "14          PFE                     Pfizer Inc.                27.76   \n",
       "18          BAC     Bank of America Corporation                33.92   \n",
       "13         INTC               Intel Corporation                42.99   \n",
       "12         CVNA                     Carvana Co.                69.23   \n",
       "8            SQ                      Block Inc.                78.92   \n",
       "7          AMZN                 Amazon.com Inc.               174.99   \n",
       "6           AMD     Advanced Micro Devices Inc.               176.52   \n",
       "10         AAPL                      Apple Inc.               182.52   \n",
       "3          TSLA                      Tesla Inc.               191.97   \n",
       "2          NVDA              NVIDIA Corporation               788.17   \n",
       "\n",
       "    Stock change Stock percentage change     Volume  \\\n",
       "21         -0.06                  -1.95%   28481000   \n",
       "23          0.00                   0.00%   28013000   \n",
       "19          0.16                   3.44%   29668000   \n",
       "5          -0.45                  -7.69%   75135000   \n",
       "1          -0.95                  -9.94%   98207000   \n",
       "0          -1.38                 -12.05%  123713000   \n",
       "4          -0.14                  -1.35%   76819000   \n",
       "22         -0.88                  -6.89%   28396000   \n",
       "16          0.02                   0.17%   32152000   \n",
       "24         -0.04                  -0.30%   27601000   \n",
       "20          0.10                   0.63%   28940000   \n",
       "15          0.21                   1.27%   32271000   \n",
       "17          0.16                   0.74%   31887000   \n",
       "9          -0.62                  -2.63%   48841000   \n",
       "11         -0.57                  -2.32%   42059000   \n",
       "14          0.21                   0.76%   33183000   \n",
       "18          0.31                   0.92%   30586000   \n",
       "13          0.01                   0.02%   33811000   \n",
       "12         16.82                  32.09%   39061000   \n",
       "8          10.96                  16.13%   53428000   \n",
       "7           0.41                   0.23%   59715000   \n",
       "6          -5.34                  -2.94%   69207000   \n",
       "10         -1.85                  -1.00%   45120000   \n",
       "3          -5.44                  -2.76%   78842000   \n",
       "2           2.79                   0.36%   82939000   \n",
       "\n",
       "    Average volume over 3 months    Market cap  PE ratio  \n",
       "21                      41240000  6.944000e+09       NaN  \n",
       "23                      21076000  1.236200e+10       NaN  \n",
       "19                      20144000  5.168000e+09       NaN  \n",
       "5                       63857000  1.219100e+10       NaN  \n",
       "1                       23808000  2.099600e+10       NaN  \n",
       "0                       38182000  9.404000e+09       NaN  \n",
       "4                       29936000  4.859500e+10     48.67  \n",
       "22                      15166000  2.613000e+09       NaN  \n",
       "16                      55435000  4.824000e+10     11.24  \n",
       "24                      21331000  5.832100e+10      7.36  \n",
       "20                      18948000  6.401000e+09       NaN  \n",
       "15                      40254000  1.201200e+11      8.53  \n",
       "17                      15257000  1.873900e+10     32.92  \n",
       "9                       69410000  5.082600e+10    255.22  \n",
       "11                      80420000  5.341000e+09       NaN  \n",
       "14                      47056000  1.567550e+11     75.03  \n",
       "18                      42182000  2.670410e+11     11.01  \n",
       "13                      43655000  1.817620e+11    107.48  \n",
       "12                       8656000  1.229500e+10       NaN  \n",
       "8                       11337000  4.846400e+10      3.00  \n",
       "7                       48769000  1.818000e+12     60.34  \n",
       "6                       72527000  2.852190e+11    333.06  \n",
       "10                      54123000  2.818000e+12     28.43  \n",
       "3                      111153000  6.113840e+11     44.64  \n",
       "2                       46059000  1.970000e+12     66.23  "
      ]
     },
     "execution_count": 59,
     "metadata": {},
     "output_type": "execute_result"
    }
   ],
   "source": [
    "order_by_price_df = most_active_df.sort_values('Last price of stock')\n",
    "order_by_price_df"
   ]
  },
  {
   "cell_type": "markdown",
   "metadata": {},
   "source": [
    "### 7. A bit of simple data visualisation"
   ]
  },
  {
   "cell_type": "markdown",
   "metadata": {},
   "source": [
    "In order to visualise the data frames from above, it can be helpful to look at a plot like a bar chart. These are all very simple bar charts but are intended to shed light on some of the findings from our articles."
   ]
  },
  {
   "cell_type": "code",
   "execution_count": 60,
   "metadata": {},
   "outputs": [],
   "source": [
    "import matplotlib.pyplot as plt"
   ]
  },
  {
   "cell_type": "markdown",
   "metadata": {},
   "source": [
    "A plot that shows stocks from the 100 most active stocks from highest to lowest PE ratio."
   ]
  },
  {
   "cell_type": "code",
   "execution_count": 61,
   "metadata": {},
   "outputs": [
    {
     "data": {
      "image/png": "[encoded data removed]",
      "text/plain": [
       "<Figure size 2000x1000 with 1 Axes>"
      ]
     },
     "metadata": {},
     "output_type": "display_data"
    }
   ],
   "source": [
    "order_by_pe_ratio_df.plot(x ='Stock ticker', y='PE ratio', kind = 'bar',figsize=(20,10))\n",
    "plt.show()"
   ]
  },
  {
   "cell_type": "markdown",
   "metadata": {},
   "source": [
    "A plot that shows stocks from the 100 most active stocks from highest to lowest volume."
   ]
  },
  {
   "cell_type": "code",
   "execution_count": 62,
   "metadata": {},
   "outputs": [
    {
     "data": {
      "image/png": "[encoded data removed]",
      "text/plain": [
       "<Figure size 2000x1000 with 1 Axes>"
      ]
     },
     "metadata": {},
     "output_type": "display_data"
    }
   ],
   "source": [
    "order_by_vol_df.plot(x ='Stock ticker', y='Volume', kind = 'bar',figsize=(20,10),color='orange')\n",
    "plt.show()"
   ]
  },
  {
   "cell_type": "markdown",
   "metadata": {},
   "source": [
    "A plot that shows stocks from the 100 most active stocks from cheapest to most expensive."
   ]
  },
  {
   "cell_type": "code",
   "execution_count": 63,
   "metadata": {},
   "outputs": [
    {
     "data": {
      "image/png": "[encoded data removed]",
      "text/plain": [
       "<Figure size 2000x1000 with 1 Axes>"
      ]
     },
     "metadata": {},
     "output_type": "display_data"
    }
   ],
   "source": [
    "order_by_price_df.plot(x ='Stock ticker', y='Last price of stock', kind = 'bar',figsize=(20,10),color='pink')\n",
    "plt.show()"
   ]
  },
  {
   "cell_type": "markdown",
   "metadata": {},
   "source": [
    "### 8. Summary\n",
    "\n",
    "In summary, we've downloaded two articles, parsed them for information, created functions to create dictionaries of the parsed information, saved those dictionaries as CSV files, converted those CSV files to pandas data frames, and finally, visualised a few of those data frames. \n",
    "\n",
    "This project is meant to be informative and general in nature, it is not applicable to anyone's personal situation. "
   ]
  },
  {
   "cell_type": "markdown",
   "metadata": {},
   "source": [
    "### 9. Future work ideas\n",
    "\n",
    "In the future, I would love to gather more information on individual stocks such as historical data so that we can look at comparisons of stocks historically. I would also like to delve deeper into data displays and derive useful inferences that can be used for educational purposes. I think this project can be used as a springboard for my goal of shrinking the wealth gap. "
   ]
  },
  {
   "cell_type": "markdown",
   "metadata": {},
   "source": [
    "### 10. References\n",
    "\n",
    "* “Cryptocurrency List & Prices, Top Cryptocurrencies.” Yahoo! Finance, Yahoo!, 20 Aug. 2022, https://finance.yahoo.com/cryptocurrencies/. \n",
    "* “Girls That Invest Podcast & Masterclass.” Girls That Invest, https://girlsthatinvest.com/. \n",
    "* “Most Active Stocks Today.” Yahoo! Finance, Yahoo!, 20 Aug. 2022, https://finance.yahoo.com/most-active?offset=0&amp;count=100. "
   ]
  },
  {
   "cell_type": "code",
   "execution_count": 64,
   "metadata": {},
   "outputs": [],
   "source": [
    "!pip install jovian --upgrade --quiet"
   ]
  },
  {
   "cell_type": "code",
   "execution_count": 65,
   "metadata": {},
   "outputs": [
    {
     "data": {
      "application/javascript": [
       "if (window.IPython && IPython.notebook.kernel) IPython.notebook.kernel.execute('jovian.utils.jupyter.get_notebook_name_saved = lambda: \"' + IPython.notebook.notebook_name + '\"')"
      ],
      "text/plain": [
       "<IPython.core.display.Javascript object>"
      ]
     },
     "metadata": {},
     "output_type": "display_data"
    }
   ],
   "source": [
    "import jovian"
   ]
  },
  {
   "cell_type": "code",
   "execution_count": 66,
   "metadata": {},
   "outputs": [
    {
     "data": {
      "application/javascript": [
       "window.require && require([\"base/js/namespace\"],function(Jupyter){Jupyter.notebook.save_checkpoint()})"
      ],
      "text/plain": [
       "<IPython.core.display.Javascript object>"
      ]
     },
     "metadata": {},
     "output_type": "display_data"
    },
    {
     "data": {
      "application/javascript": [
       "if (window.IPython && IPython.notebook.kernel) IPython.notebook.kernel.execute('jovian.utils.jupyter.get_notebook_name_saved = lambda: \"' + IPython.notebook.notebook_name + '\"')"
      ],
      "text/plain": [
       "<IPython.core.display.Javascript object>"
      ]
     },
     "metadata": {},
     "output_type": "display_data"
    },
    {
     "name": "stderr",
     "output_type": "stream",
     "text": [
      "\u001b[31m[jovian] Error: Failed to read the Jupyter notebook. Please re-run this cell to try again. If the issue persists, provide the \"filename\" argument to \"jovian.commit\" e.g. \"jovian.commit(filename='my-notebook.ipynb')\"\u001b[0m\n"
     ]
    }
   ],
   "source": [
    "jovian.commit(files=['most-active-stocks-next-page.csv', 'most-active-stocks.csv'])"
   ]
  }
 ],
 "metadata": {
  "kernelspec": {
   "display_name": "Python 3 (ipykernel)",
   "language": "python",
   "name": "python3"
  },
  "language_info": {
   "codemirror_mode": {
    "name": "ipython",
    "version": 3
   },
   "file_extension": ".py",
   "mimetype": "text/x-python",
   "name": "python",
   "nbconvert_exporter": "python",
   "pygments_lexer": "ipython3",
   "version": "3.10.8"
  }
 },
 "nbformat": 4,
 "nbformat_minor": 4
}
